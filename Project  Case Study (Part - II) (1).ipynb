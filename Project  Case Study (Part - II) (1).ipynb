{
 "cells": [
  {
   "cell_type": "markdown",
   "metadata": {},
   "source": [
    "# FIRST QUESTION"
   ]
  },
  {
   "cell_type": "code",
   "execution_count": 1,
   "metadata": {},
   "outputs": [],
   "source": [
    "import pandas as pd\n",
    "import numpy as np\n",
    "import matplotlib.pyplot as plt"
   ]
  },
  {
   "cell_type": "code",
   "execution_count": 3,
   "metadata": {},
   "outputs": [],
   "source": [
    "data=pd.read_csv('startup_funding.csv')"
   ]
  },
  {
   "cell_type": "code",
   "execution_count": 4,
   "metadata": {},
   "outputs": [],
   "source": [
    "df1=data.copy()"
   ]
  },
  {
   "cell_type": "code",
   "execution_count": 5,
   "metadata": {},
   "outputs": [
    {
     "data": {
      "text/html": [
       "<div>\n",
       "<style scoped>\n",
       "    .dataframe tbody tr th:only-of-type {\n",
       "        vertical-align: middle;\n",
       "    }\n",
       "\n",
       "    .dataframe tbody tr th {\n",
       "        vertical-align: top;\n",
       "    }\n",
       "\n",
       "    .dataframe thead th {\n",
       "        text-align: right;\n",
       "    }\n",
       "</style>\n",
       "<table border=\"1\" class=\"dataframe\">\n",
       "  <thead>\n",
       "    <tr style=\"text-align: right;\">\n",
       "      <th></th>\n",
       "      <th>SNo</th>\n",
       "      <th>Date</th>\n",
       "      <th>StartupName</th>\n",
       "      <th>IndustryVertical</th>\n",
       "      <th>SubVertical</th>\n",
       "      <th>CityLocation</th>\n",
       "      <th>InvestorsName</th>\n",
       "      <th>InvestmentType</th>\n",
       "      <th>AmountInUSD</th>\n",
       "      <th>Remarks</th>\n",
       "    </tr>\n",
       "  </thead>\n",
       "  <tbody>\n",
       "    <tr>\n",
       "      <td>0</td>\n",
       "      <td>0</td>\n",
       "      <td>01/08/2017</td>\n",
       "      <td>TouchKin</td>\n",
       "      <td>Technology</td>\n",
       "      <td>Predictive Care Platform</td>\n",
       "      <td>Bangalore</td>\n",
       "      <td>Kae Capital</td>\n",
       "      <td>Private Equity</td>\n",
       "      <td>1,300,000</td>\n",
       "      <td>NaN</td>\n",
       "    </tr>\n",
       "    <tr>\n",
       "      <td>1</td>\n",
       "      <td>1</td>\n",
       "      <td>02/08/2017</td>\n",
       "      <td>Ethinos</td>\n",
       "      <td>Technology</td>\n",
       "      <td>Digital Marketing Agency</td>\n",
       "      <td>Mumbai</td>\n",
       "      <td>Triton Investment Advisors</td>\n",
       "      <td>Private Equity</td>\n",
       "      <td>NaN</td>\n",
       "      <td>NaN</td>\n",
       "    </tr>\n",
       "    <tr>\n",
       "      <td>2</td>\n",
       "      <td>2</td>\n",
       "      <td>02/08/2017</td>\n",
       "      <td>Leverage Edu</td>\n",
       "      <td>Consumer Internet</td>\n",
       "      <td>Online platform for Higher Education Services</td>\n",
       "      <td>New Delhi</td>\n",
       "      <td>Kashyap Deorah, Anand Sankeshwar, Deepak Jain,...</td>\n",
       "      <td>Seed Funding</td>\n",
       "      <td>NaN</td>\n",
       "      <td>NaN</td>\n",
       "    </tr>\n",
       "    <tr>\n",
       "      <td>3</td>\n",
       "      <td>3</td>\n",
       "      <td>02/08/2017</td>\n",
       "      <td>Zepo</td>\n",
       "      <td>Consumer Internet</td>\n",
       "      <td>DIY Ecommerce platform</td>\n",
       "      <td>Mumbai</td>\n",
       "      <td>Kunal Shah, LetsVenture, Anupam Mittal, Hetal ...</td>\n",
       "      <td>Seed Funding</td>\n",
       "      <td>500,000</td>\n",
       "      <td>NaN</td>\n",
       "    </tr>\n",
       "    <tr>\n",
       "      <td>4</td>\n",
       "      <td>4</td>\n",
       "      <td>02/08/2017</td>\n",
       "      <td>Click2Clinic</td>\n",
       "      <td>Consumer Internet</td>\n",
       "      <td>healthcare service aggregator</td>\n",
       "      <td>Hyderabad</td>\n",
       "      <td>Narottam Thudi, Shireesh Palle</td>\n",
       "      <td>Seed Funding</td>\n",
       "      <td>850,000</td>\n",
       "      <td>NaN</td>\n",
       "    </tr>\n",
       "  </tbody>\n",
       "</table>\n",
       "</div>"
      ],
      "text/plain": [
       "   SNo        Date   StartupName   IndustryVertical  \\\n",
       "0    0  01/08/2017      TouchKin         Technology   \n",
       "1    1  02/08/2017       Ethinos         Technology   \n",
       "2    2  02/08/2017  Leverage Edu  Consumer Internet   \n",
       "3    3  02/08/2017          Zepo  Consumer Internet   \n",
       "4    4  02/08/2017  Click2Clinic  Consumer Internet   \n",
       "\n",
       "                                     SubVertical CityLocation  \\\n",
       "0                       Predictive Care Platform    Bangalore   \n",
       "1                       Digital Marketing Agency       Mumbai   \n",
       "2  Online platform for Higher Education Services    New Delhi   \n",
       "3                         DIY Ecommerce platform       Mumbai   \n",
       "4                  healthcare service aggregator    Hyderabad   \n",
       "\n",
       "                                       InvestorsName  InvestmentType  \\\n",
       "0                                        Kae Capital  Private Equity   \n",
       "1                         Triton Investment Advisors  Private Equity   \n",
       "2  Kashyap Deorah, Anand Sankeshwar, Deepak Jain,...    Seed Funding   \n",
       "3  Kunal Shah, LetsVenture, Anupam Mittal, Hetal ...    Seed Funding   \n",
       "4                     Narottam Thudi, Shireesh Palle    Seed Funding   \n",
       "\n",
       "  AmountInUSD Remarks  \n",
       "0   1,300,000     NaN  \n",
       "1         NaN     NaN  \n",
       "2         NaN     NaN  \n",
       "3     500,000     NaN  \n",
       "4     850,000     NaN  "
      ]
     },
     "execution_count": 5,
     "metadata": {},
     "output_type": "execute_result"
    }
   ],
   "source": [
    "df1.head()"
   ]
  },
  {
   "cell_type": "code",
   "execution_count": 6,
   "metadata": {},
   "outputs": [
    {
     "data": {
      "text/plain": [
       "SNo                    0\n",
       "Date                   0\n",
       "StartupName            0\n",
       "IndustryVertical     171\n",
       "SubVertical          936\n",
       "CityLocation         179\n",
       "InvestorsName          8\n",
       "InvestmentType         1\n",
       "AmountInUSD          847\n",
       "Remarks             1953\n",
       "dtype: int64"
      ]
     },
     "execution_count": 6,
     "metadata": {},
     "output_type": "execute_result"
    }
   ],
   "source": [
    "df1.isnull().sum()"
   ]
  },
  {
   "cell_type": "code",
   "execution_count": 7,
   "metadata": {},
   "outputs": [],
   "source": [
    "df1['CityLocation'].dropna(inplace=True)"
   ]
  },
  {
   "cell_type": "code",
   "execution_count": 8,
   "metadata": {},
   "outputs": [
    {
     "data": {
      "text/plain": [
       "SNo                    0\n",
       "Date                   0\n",
       "StartupName            0\n",
       "IndustryVertical     171\n",
       "SubVertical          936\n",
       "CityLocation         179\n",
       "InvestorsName          8\n",
       "InvestmentType         1\n",
       "AmountInUSD          847\n",
       "Remarks             1953\n",
       "dtype: int64"
      ]
     },
     "execution_count": 8,
     "metadata": {},
     "output_type": "execute_result"
    }
   ],
   "source": [
    "df1.isnull().sum()"
   ]
  },
  {
   "cell_type": "code",
   "execution_count": 9,
   "metadata": {},
   "outputs": [
    {
     "data": {
      "text/plain": [
       "0"
      ]
     },
     "execution_count": 9,
     "metadata": {},
     "output_type": "execute_result"
    }
   ],
   "source": [
    "df1['CityLocation'].isnull().sum()"
   ]
  },
  {
   "cell_type": "code",
   "execution_count": 10,
   "metadata": {},
   "outputs": [
    {
     "data": {
      "text/html": [
       "<div>\n",
       "<style scoped>\n",
       "    .dataframe tbody tr th:only-of-type {\n",
       "        vertical-align: middle;\n",
       "    }\n",
       "\n",
       "    .dataframe tbody tr th {\n",
       "        vertical-align: top;\n",
       "    }\n",
       "\n",
       "    .dataframe thead th {\n",
       "        text-align: right;\n",
       "    }\n",
       "</style>\n",
       "<table border=\"1\" class=\"dataframe\">\n",
       "  <thead>\n",
       "    <tr style=\"text-align: right;\">\n",
       "      <th></th>\n",
       "      <th>SNo</th>\n",
       "      <th>Date</th>\n",
       "      <th>StartupName</th>\n",
       "      <th>IndustryVertical</th>\n",
       "      <th>SubVertical</th>\n",
       "      <th>CityLocation</th>\n",
       "      <th>InvestorsName</th>\n",
       "      <th>InvestmentType</th>\n",
       "      <th>AmountInUSD</th>\n",
       "      <th>Remarks</th>\n",
       "    </tr>\n",
       "  </thead>\n",
       "  <tbody>\n",
       "    <tr>\n",
       "      <td>0</td>\n",
       "      <td>0</td>\n",
       "      <td>01/08/2017</td>\n",
       "      <td>TouchKin</td>\n",
       "      <td>Technology</td>\n",
       "      <td>Predictive Care Platform</td>\n",
       "      <td>Bangalore</td>\n",
       "      <td>Kae Capital</td>\n",
       "      <td>Private Equity</td>\n",
       "      <td>1,300,000</td>\n",
       "      <td>NaN</td>\n",
       "    </tr>\n",
       "    <tr>\n",
       "      <td>1</td>\n",
       "      <td>1</td>\n",
       "      <td>02/08/2017</td>\n",
       "      <td>Ethinos</td>\n",
       "      <td>Technology</td>\n",
       "      <td>Digital Marketing Agency</td>\n",
       "      <td>Mumbai</td>\n",
       "      <td>Triton Investment Advisors</td>\n",
       "      <td>Private Equity</td>\n",
       "      <td>NaN</td>\n",
       "      <td>NaN</td>\n",
       "    </tr>\n",
       "    <tr>\n",
       "      <td>2</td>\n",
       "      <td>2</td>\n",
       "      <td>02/08/2017</td>\n",
       "      <td>Leverage Edu</td>\n",
       "      <td>Consumer Internet</td>\n",
       "      <td>Online platform for Higher Education Services</td>\n",
       "      <td>New Delhi</td>\n",
       "      <td>Kashyap Deorah, Anand Sankeshwar, Deepak Jain,...</td>\n",
       "      <td>Seed Funding</td>\n",
       "      <td>NaN</td>\n",
       "      <td>NaN</td>\n",
       "    </tr>\n",
       "    <tr>\n",
       "      <td>3</td>\n",
       "      <td>3</td>\n",
       "      <td>02/08/2017</td>\n",
       "      <td>Zepo</td>\n",
       "      <td>Consumer Internet</td>\n",
       "      <td>DIY Ecommerce platform</td>\n",
       "      <td>Mumbai</td>\n",
       "      <td>Kunal Shah, LetsVenture, Anupam Mittal, Hetal ...</td>\n",
       "      <td>Seed Funding</td>\n",
       "      <td>500,000</td>\n",
       "      <td>NaN</td>\n",
       "    </tr>\n",
       "    <tr>\n",
       "      <td>4</td>\n",
       "      <td>4</td>\n",
       "      <td>02/08/2017</td>\n",
       "      <td>Click2Clinic</td>\n",
       "      <td>Consumer Internet</td>\n",
       "      <td>healthcare service aggregator</td>\n",
       "      <td>Hyderabad</td>\n",
       "      <td>Narottam Thudi, Shireesh Palle</td>\n",
       "      <td>Seed Funding</td>\n",
       "      <td>850,000</td>\n",
       "      <td>NaN</td>\n",
       "    </tr>\n",
       "  </tbody>\n",
       "</table>\n",
       "</div>"
      ],
      "text/plain": [
       "   SNo        Date   StartupName   IndustryVertical  \\\n",
       "0    0  01/08/2017      TouchKin         Technology   \n",
       "1    1  02/08/2017       Ethinos         Technology   \n",
       "2    2  02/08/2017  Leverage Edu  Consumer Internet   \n",
       "3    3  02/08/2017          Zepo  Consumer Internet   \n",
       "4    4  02/08/2017  Click2Clinic  Consumer Internet   \n",
       "\n",
       "                                     SubVertical CityLocation  \\\n",
       "0                       Predictive Care Platform    Bangalore   \n",
       "1                       Digital Marketing Agency       Mumbai   \n",
       "2  Online platform for Higher Education Services    New Delhi   \n",
       "3                         DIY Ecommerce platform       Mumbai   \n",
       "4                  healthcare service aggregator    Hyderabad   \n",
       "\n",
       "                                       InvestorsName  InvestmentType  \\\n",
       "0                                        Kae Capital  Private Equity   \n",
       "1                         Triton Investment Advisors  Private Equity   \n",
       "2  Kashyap Deorah, Anand Sankeshwar, Deepak Jain,...    Seed Funding   \n",
       "3  Kunal Shah, LetsVenture, Anupam Mittal, Hetal ...    Seed Funding   \n",
       "4                     Narottam Thudi, Shireesh Palle    Seed Funding   \n",
       "\n",
       "  AmountInUSD Remarks  \n",
       "0   1,300,000     NaN  \n",
       "1         NaN     NaN  \n",
       "2         NaN     NaN  \n",
       "3     500,000     NaN  \n",
       "4     850,000     NaN  "
      ]
     },
     "execution_count": 10,
     "metadata": {},
     "output_type": "execute_result"
    }
   ],
   "source": [
    "df1.head()"
   ]
  },
  {
   "cell_type": "code",
   "execution_count": 11,
   "metadata": {},
   "outputs": [
    {
     "data": {
      "text/plain": [
       "array(['Bangalore', 'Mumbai', 'New Delhi', 'Hyderabad', 'Ahmedabad',\n",
       "       'Gurgaon', 'Noida', 'Pune', 'Kolkata', 'bangalore', 'Trivandrum',\n",
       "       'Chennai', 'Chandigarh', 'Jaipur', 'Vadodara', 'Surat',\n",
       "       'Missourie', 'Panaji', 'Gwalior', 'Karur', 'Udupi', 'Kochi',\n",
       "       'Indore', 'Singapore', 'Goa', 'Agra', 'Bangalore/ Bangkok',\n",
       "       'Hubli', 'Delhi', 'Kerala', 'Kozhikode', 'US', 'Coimbatore',\n",
       "       'Siliguri', 'USA', 'Lucknow', 'Kanpur', 'SFO / Bangalore',\n",
       "       'London', 'Seattle / Bangalore', 'Pune/Seattle', 'Pune / Dubai',\n",
       "       'Bangalore / SFO', 'Varanasi', 'Bhopal', 'New Delhi / US',\n",
       "       'Mumbai / UK', 'Jodhpur', 'Hyderabad/USA', 'Boston',\n",
       "       'Bangalore / Palo Alto', 'Mumbai / NY', 'USA/India',\n",
       "       'Goa/Hyderabad', 'Noida / Singapore', 'Belgaum', 'Pune / US',\n",
       "       'Chennai/ Singapore', 'Pune / Singapore', 'Bangalore / San Mateo',\n",
       "       'New York/ India', 'US/India', 'Gurgaon / SFO', 'Bangalore / USA',\n",
       "       'New Delhi/ Houston', 'Nagpur', 'Mumbai / Global', 'India / US',\n",
       "       'Udaipur', 'New Delhi / California', 'Dallas / Hyderabad'],\n",
       "      dtype=object)"
      ]
     },
     "execution_count": 11,
     "metadata": {},
     "output_type": "execute_result"
    }
   ],
   "source": [
    "df1['CityLocation'].unique()"
   ]
  },
  {
   "cell_type": "code",
   "execution_count": 12,
   "metadata": {},
   "outputs": [],
   "source": [
    "df1['CityLocation'].replace('bangalore','Bangalore',inplace=True)\n",
    "df1['CityLocation'].replace('Delhi','New Delhi',inplace=True)"
   ]
  },
  {
   "cell_type": "code",
   "execution_count": 13,
   "metadata": {},
   "outputs": [
    {
     "data": {
      "text/plain": [
       "array(['Bangalore', 'Mumbai', 'New Delhi', 'Hyderabad', 'Ahmedabad',\n",
       "       'Gurgaon', 'Noida', 'Pune', 'Kolkata', 'Trivandrum', 'Chennai',\n",
       "       'Chandigarh', 'Jaipur', 'Vadodara', 'Surat', 'Missourie', 'Panaji',\n",
       "       'Gwalior', 'Karur', 'Udupi', 'Kochi', 'Indore', 'Singapore', 'Goa',\n",
       "       'Agra', 'Bangalore/ Bangkok', 'Hubli', 'Kerala', 'Kozhikode', 'US',\n",
       "       'Coimbatore', 'Siliguri', 'USA', 'Lucknow', 'Kanpur',\n",
       "       'SFO / Bangalore', 'London', 'Seattle / Bangalore', 'Pune/Seattle',\n",
       "       'Pune / Dubai', 'Bangalore / SFO', 'Varanasi', 'Bhopal',\n",
       "       'New Delhi / US', 'Mumbai / UK', 'Jodhpur', 'Hyderabad/USA',\n",
       "       'Boston', 'Bangalore / Palo Alto', 'Mumbai / NY', 'USA/India',\n",
       "       'Goa/Hyderabad', 'Noida / Singapore', 'Belgaum', 'Pune / US',\n",
       "       'Chennai/ Singapore', 'Pune / Singapore', 'Bangalore / San Mateo',\n",
       "       'New York/ India', 'US/India', 'Gurgaon / SFO', 'Bangalore / USA',\n",
       "       'New Delhi/ Houston', 'Nagpur', 'Mumbai / Global', 'India / US',\n",
       "       'Udaipur', 'New Delhi / California', 'Dallas / Hyderabad'],\n",
       "      dtype=object)"
      ]
     },
     "execution_count": 13,
     "metadata": {},
     "output_type": "execute_result"
    }
   ],
   "source": [
    "df1['CityLocation'].unique()"
   ]
  },
  {
   "cell_type": "code",
   "execution_count": 14,
   "metadata": {},
   "outputs": [],
   "source": [
    "def remove(strr):\n",
    "    \n",
    "    l=[i.strip() for i in str(strr).split('/')]\n",
    "    return l[0]\n",
    "\n",
    "\n",
    "df1['City']=df1['CityLocation'].apply(remove)"
   ]
  },
  {
   "cell_type": "code",
   "execution_count": 18,
   "metadata": {},
   "outputs": [],
   "source": [
    "allcities=df1['City'].value_counts()[0:6]"
   ]
  },
  {
   "cell_type": "markdown",
   "metadata": {},
   "source": [
    "Bangalore, Mumbai, and NCR. As a friend, you want to help your friend deciding the location. NCR include Gurgaon, Noida and New Delhi. "
   ]
  },
  {
   "cell_type": "code",
   "execution_count": 19,
   "metadata": {},
   "outputs": [
    {
     "name": "stdout",
     "output_type": "stream",
     "text": [
      "Bangalore    635\n",
      "Mumbai       449\n",
      "New Delhi    389\n",
      "Gurgaon      241\n",
      "Pune          91\n",
      "Noida         79\n",
      "Name: City, dtype: int64\n"
     ]
    }
   ],
   "source": [
    "print(allcities)"
   ]
  },
  {
   "cell_type": "code",
   "execution_count": 20,
   "metadata": {},
   "outputs": [
    {
     "name": "stdout",
     "output_type": "stream",
     "text": [
      "Bangalore 635\n",
      "Mumbai 449\n",
      "New Delhi 389\n",
      "Gurgaon 241\n",
      "Noida 79\n"
     ]
    }
   ],
   "source": [
    "cities=[]\n",
    "funding=[]\n",
    "\n",
    "for index,value in allcities.items():\n",
    "    if index=='Pune':\n",
    "        continue\n",
    "    cities.append(index)\n",
    "    funding.append(value)\n",
    "    print(index,value)"
   ]
  },
  {
   "cell_type": "code",
   "execution_count": 21,
   "metadata": {},
   "outputs": [],
   "source": [
    "#  THESE ARE THE FIVE CITIES IN WHICH MY FRIEND HAS TO START HIS BUSINESSS"
   ]
  },
  {
   "cell_type": "markdown",
   "metadata": {},
   "source": [
    "Find the location where the most number of funding is done. That means, find the location where startups has received funding maximum number of times. Plot the bar graph between location and number of funding. "
   ]
  },
  {
   "cell_type": "code",
   "execution_count": 29,
   "metadata": {},
   "outputs": [],
   "source": [
    "# THE MOST NUMBER OF FUNDINGS IS DONE IN BANGALORE , BANGALORE HAS RECEIVED FUNDING MAXIMUM NUMBER OF TIMES.AS DUE TO ALL THESE\n",
    "#REASONS WE CAN SAY THAT HE CAN EASILY START HIS STARTUP IN BANGALORE"
   ]
  },
  {
   "cell_type": "code",
   "execution_count": 30,
   "metadata": {},
   "outputs": [
    {
     "data": {
      "image/png": "[encoded data removed]",
      "text/plain": [
       "<Figure size 432x288 with 1 Axes>"
      ]
     },
     "metadata": {
      "needs_background": "light"
     },
     "output_type": "display_data"
    }
   ],
   "source": [
    "plt.bar(cities,funding,color='red',label='NUMBER OF FUNDINGS')\n",
    "plt.xticks(rotation='90')\n",
    "plt.legend()\n",
    "plt.title('CITIES VS FUNDINGS')\n",
    "plt.xlabel('CITIES')\n",
    "plt.ylabel('FUNDINGS')\n",
    "plt.show()"
   ]
  },
  {
   "cell_type": "code",
   "execution_count": 28,
   "metadata": {},
   "outputs": [],
   "source": [
    "# THIS IS THE ANSWER FOR THE FIRST QUESTION"
   ]
  },
  {
   "cell_type": "markdown",
   "metadata": {},
   "source": [
    "# SECOND QUESTION"
   ]
  },
  {
   "cell_type": "code",
   "execution_count": 31,
   "metadata": {},
   "outputs": [],
   "source": [
    "import pandas as pd\n",
    "import numpy as np\n",
    "import matplotlib.pyplot as plt"
   ]
  },
  {
   "cell_type": "code",
   "execution_count": 62,
   "metadata": {},
   "outputs": [],
   "source": [
    "data=pd.read_csv('startup_funding.csv')"
   ]
  },
  {
   "cell_type": "code",
   "execution_count": 33,
   "metadata": {},
   "outputs": [],
   "source": [
    "df2=data.copy()"
   ]
  },
  {
   "cell_type": "code",
   "execution_count": 34,
   "metadata": {},
   "outputs": [
    {
     "data": {
      "text/html": [
       "<div>\n",
       "<style scoped>\n",
       "    .dataframe tbody tr th:only-of-type {\n",
       "        vertical-align: middle;\n",
       "    }\n",
       "\n",
       "    .dataframe tbody tr th {\n",
       "        vertical-align: top;\n",
       "    }\n",
       "\n",
       "    .dataframe thead th {\n",
       "        text-align: right;\n",
       "    }\n",
       "</style>\n",
       "<table border=\"1\" class=\"dataframe\">\n",
       "  <thead>\n",
       "    <tr style=\"text-align: right;\">\n",
       "      <th></th>\n",
       "      <th>SNo</th>\n",
       "      <th>Date</th>\n",
       "      <th>StartupName</th>\n",
       "      <th>IndustryVertical</th>\n",
       "      <th>SubVertical</th>\n",
       "      <th>CityLocation</th>\n",
       "      <th>InvestorsName</th>\n",
       "      <th>InvestmentType</th>\n",
       "      <th>AmountInUSD</th>\n",
       "      <th>Remarks</th>\n",
       "    </tr>\n",
       "  </thead>\n",
       "  <tbody>\n",
       "    <tr>\n",
       "      <td>0</td>\n",
       "      <td>0</td>\n",
       "      <td>01/08/2017</td>\n",
       "      <td>TouchKin</td>\n",
       "      <td>Technology</td>\n",
       "      <td>Predictive Care Platform</td>\n",
       "      <td>Bangalore</td>\n",
       "      <td>Kae Capital</td>\n",
       "      <td>Private Equity</td>\n",
       "      <td>1,300,000</td>\n",
       "      <td>NaN</td>\n",
       "    </tr>\n",
       "    <tr>\n",
       "      <td>1</td>\n",
       "      <td>1</td>\n",
       "      <td>02/08/2017</td>\n",
       "      <td>Ethinos</td>\n",
       "      <td>Technology</td>\n",
       "      <td>Digital Marketing Agency</td>\n",
       "      <td>Mumbai</td>\n",
       "      <td>Triton Investment Advisors</td>\n",
       "      <td>Private Equity</td>\n",
       "      <td>NaN</td>\n",
       "      <td>NaN</td>\n",
       "    </tr>\n",
       "    <tr>\n",
       "      <td>2</td>\n",
       "      <td>2</td>\n",
       "      <td>02/08/2017</td>\n",
       "      <td>Leverage Edu</td>\n",
       "      <td>Consumer Internet</td>\n",
       "      <td>Online platform for Higher Education Services</td>\n",
       "      <td>New Delhi</td>\n",
       "      <td>Kashyap Deorah, Anand Sankeshwar, Deepak Jain,...</td>\n",
       "      <td>Seed Funding</td>\n",
       "      <td>NaN</td>\n",
       "      <td>NaN</td>\n",
       "    </tr>\n",
       "    <tr>\n",
       "      <td>3</td>\n",
       "      <td>3</td>\n",
       "      <td>02/08/2017</td>\n",
       "      <td>Zepo</td>\n",
       "      <td>Consumer Internet</td>\n",
       "      <td>DIY Ecommerce platform</td>\n",
       "      <td>Mumbai</td>\n",
       "      <td>Kunal Shah, LetsVenture, Anupam Mittal, Hetal ...</td>\n",
       "      <td>Seed Funding</td>\n",
       "      <td>500,000</td>\n",
       "      <td>NaN</td>\n",
       "    </tr>\n",
       "    <tr>\n",
       "      <td>4</td>\n",
       "      <td>4</td>\n",
       "      <td>02/08/2017</td>\n",
       "      <td>Click2Clinic</td>\n",
       "      <td>Consumer Internet</td>\n",
       "      <td>healthcare service aggregator</td>\n",
       "      <td>Hyderabad</td>\n",
       "      <td>Narottam Thudi, Shireesh Palle</td>\n",
       "      <td>Seed Funding</td>\n",
       "      <td>850,000</td>\n",
       "      <td>NaN</td>\n",
       "    </tr>\n",
       "  </tbody>\n",
       "</table>\n",
       "</div>"
      ],
      "text/plain": [
       "   SNo        Date   StartupName   IndustryVertical  \\\n",
       "0    0  01/08/2017      TouchKin         Technology   \n",
       "1    1  02/08/2017       Ethinos         Technology   \n",
       "2    2  02/08/2017  Leverage Edu  Consumer Internet   \n",
       "3    3  02/08/2017          Zepo  Consumer Internet   \n",
       "4    4  02/08/2017  Click2Clinic  Consumer Internet   \n",
       "\n",
       "                                     SubVertical CityLocation  \\\n",
       "0                       Predictive Care Platform    Bangalore   \n",
       "1                       Digital Marketing Agency       Mumbai   \n",
       "2  Online platform for Higher Education Services    New Delhi   \n",
       "3                         DIY Ecommerce platform       Mumbai   \n",
       "4                  healthcare service aggregator    Hyderabad   \n",
       "\n",
       "                                       InvestorsName  InvestmentType  \\\n",
       "0                                        Kae Capital  Private Equity   \n",
       "1                         Triton Investment Advisors  Private Equity   \n",
       "2  Kashyap Deorah, Anand Sankeshwar, Deepak Jain,...    Seed Funding   \n",
       "3  Kunal Shah, LetsVenture, Anupam Mittal, Hetal ...    Seed Funding   \n",
       "4                     Narottam Thudi, Shireesh Palle    Seed Funding   \n",
       "\n",
       "  AmountInUSD Remarks  \n",
       "0   1,300,000     NaN  \n",
       "1         NaN     NaN  \n",
       "2         NaN     NaN  \n",
       "3     500,000     NaN  \n",
       "4     850,000     NaN  "
      ]
     },
     "execution_count": 34,
     "metadata": {},
     "output_type": "execute_result"
    }
   ],
   "source": [
    "df2.head()"
   ]
  },
  {
   "cell_type": "code",
   "execution_count": 194,
   "metadata": {},
   "outputs": [
    {
     "data": {
      "text/plain": [
       "SNo                    0\n",
       "Date                   0\n",
       "StartupName            0\n",
       "IndustryVertical     171\n",
       "SubVertical          936\n",
       "CityLocation         179\n",
       "InvestorsName          8\n",
       "InvestmentType         1\n",
       "AmountInUSD          847\n",
       "Remarks             1953\n",
       "dtype: int64"
      ]
     },
     "execution_count": 194,
     "metadata": {},
     "output_type": "execute_result"
    }
   ],
   "source": [
    "df2.isnull().sum()"
   ]
  },
  {
   "cell_type": "markdown",
   "metadata": {},
   "source": [
    "Find the top 5 investors who have invested maximum number of times (consider repeat investments in one company also). In a startup, multiple investors might have invested. So consider each investor for that startup. Ignore undisclosed investors."
   ]
  },
  {
   "cell_type": "code",
   "execution_count": 42,
   "metadata": {},
   "outputs": [
    {
     "name": "stdout",
     "output_type": "stream",
     "text": [
      "{}\n"
     ]
    }
   ],
   "source": [
    "global d\n",
    "d={}\n",
    "\n",
    "def numberofinvestors(strr):\n",
    "    l=[i.strip() for i in str(strr).split(',')]\n",
    "    \n",
    "    for j in l:\n",
    "        if j in d:\n",
    "            d[j]+=1\n",
    "        else:\n",
    "            d[j]=1\n",
    "    return\n",
    "print(d)"
   ]
  },
  {
   "cell_type": "code",
   "execution_count": 43,
   "metadata": {},
   "outputs": [
    {
     "data": {
      "text/plain": [
       "0       None\n",
       "1       None\n",
       "2       None\n",
       "3       None\n",
       "4       None\n",
       "        ... \n",
       "2367    None\n",
       "2368    None\n",
       "2369    None\n",
       "2370    None\n",
       "2371    None\n",
       "Name: InvestorsName, Length: 2372, dtype: object"
      ]
     },
     "execution_count": 43,
     "metadata": {},
     "output_type": "execute_result"
    }
   ],
   "source": [
    "df2['InvestorsName'].apply(numberofinvestors)"
   ]
  },
  {
   "cell_type": "code",
   "execution_count": 44,
   "metadata": {},
   "outputs": [
    {
     "name": "stdout",
     "output_type": "stream",
     "text": [
      "{'Kae Capital': 22, 'Triton Investment Advisors': 1, 'Kashyap Deorah': 3, 'Anand Sankeshwar': 2, 'Deepak Jain': 1, 'Sadashiva NT': 1, 'Arjun Mehta': 1, 'Satish Kaul': 1, 'Anindya Ghose': 1, 'Kunal Shah': 17, 'LetsVenture': 17, 'Anupam Mittal': 18, 'Hetal Sonpal': 1, 'Narottam Thudi': 1, 'Shireesh Palle': 1, 'Reliance Corporate Advisory Services Ltd': 1, 'Infuse Ventures': 8, 'JLL': 2, 'Asset Management (Asia) Ltd': 1, 'Digital Garage Inc': 1, 'Kalaari Capital': 44, 'Nexus India Capital Advisors': 1, 'International Finance Corporation': 2, 'Rocketship': 2, 'Accel Partners': 53, 'Jungle Ventures': 13, 'Shailesh Rao': 1, 'Venture Highway': 3, 'BCCL': 1, 'Blume Ventures': 39, 'Contrarian Capital India Partners': 1, 'Emergent Ventures India': 1, 'Pallav Nadhani': 4, 'Ashish Gupta': 6, 'Sharad Sharma': 4, 'Sirion Labs': 1, 'nan': 8, 'India Quotient': 21, 'Shunwei Capital': 3, 'Sreeram Iyer': 1, 'Suvo Sarkar': 1, 'Anita Gupta': 1, 'Likemind Ventures': 1, 'Mitsui & Co.': 2, 'Dunamis Ventures Pte Ltd': 1, 'Venture Catalysts': 7, 'Sourav Ganguly': 1, 'Ankit Aditya': 1, 'Moksh Sports Ventures': 1, 'Fireside Ventures': 5, 'Apurva Salarpuria': 1, 'Sidharth Pansari': 2, 'Sprout Capital': 1, 'SBI-FMO Fund': 1, 'Bessemer Venture Partners': 14, 'Catamaran Ventures': 3, 'Corvus Ventures': 2, 'MAPE Advisory Group': 2, '500 Startups': 20, 'Purvi Capital': 3, 'Rajan Anandan': 25, 'Abhishek Gupta': 2, 'Indian Angel Network': 40, 'Brigade Innovations LLP': 1, 'TV Mohandas Pai': 14, 'Suhail Rahman': 1, 'Bobby Reddy': 1, 'M George Oommen': 1, 'Blacksoil Capital Pvt. Ltd': 1, 'Sequoia Capital': 64, 'Grey Orange': 1, 'Rajesh Ramaiah': 1, 'Anshuman Das': 1, 'Rishi Das': 1, 'IDG Ventures India Advisors': 1, 'One97 Communication Ltd': 1, 'Uber Technologies Inc': 1, 'Amaya Capital LLP': 1, 'Xelpmoc': 2, 'ain Capital Ventures': 1, 'Renaud Laplanche': 1, 'Francesco Cara': 1, 'ABI-Showatech (India) Ltd': 1, 'M&S Partners': 8, '': 38, 'Subramani Somasundaram': 1, 'Sundeep Sahni': 1, 'Mayank Mittal & Others': 1, 'Harmeet Bajaj': 1, 'Pameela P': 1, 'Fusiontech Ventures & Others': 1, 'Sunil Kalra': 5, 'Aditya Singh': 1, 'Rishi Srivastava': 1, 'NB Ventures': 3, 'Nspira': 1, 'Stellaris Venture Partners': 3, 'Tencent Holdings': 3, 'Yuvraj Singh': 2, 'Goldman Sachs': 6, 'Anand Mahindra': 4, 'HBM Healthcare Investments': 2, 'Maverick Capital Ventures': 2, 'Sequoia India': 15, 'Omidyar Network and Kae Capital': 1, 'Amen Dhyllon': 1, 'Info Edge (India) Ltd': 8, 'RoundGlass Partners': 10, 'Grace Grace Techno Ventures LLP': 1, 'Rajul Garg & Other undisclosed investors': 1, 'TVS Motor Company': 1, 'Emerging India': 1, 'blockchain ecosystem Global Advisors': 1, 'Horseferry': 1, 'Sandeep Tandon': 14, 'Arun Patodia': 1, 'Bharat Kedia': 1, 'IvyCap Ventures': 9, 'Harsh Mahajan': 1, 'Farhan Naqvi': 1, 'Sreepathy Viswanathan': 1, 'Sundaram Finance Holdings': 1, 'SBI (Stand Up India Scheme)': 1, 'WaterBridge Ventures': 3, 'SQue Capital': 2, 'Bodhtree Consulting Limited': 1, 'Norwest Venture Partners': 15, 'Mohan Alexander': 2, 'R. Natarajan': 1, 'Vikrant Varshney': 1, 'Amit Sinha': 1, 'Pawan Borle': 2, 'Nirmal Singh': 1, 'Manish Prasad': 1, 'Vineet Varma': 1, 'Nick Haulkoury': 1, 'Abhai S. Rao': 1, 'Dr Ramesh Ayyala': 1, 'Satya Muthyala': 1, 'Cao Yibin': 1, 'Huang Wei': 1, 'Madhusudan E': 1, 'Yes Bank': 1, 'Unicorn India Ventures': 5, 'Venky Krishnakumar': 1, 'Suresh Shankar': 1, 'Vivek Bhargava': 4, 'Alfa Capital': 1, 'Green Shots Capital': 1, 'Real Time Ventures': 1, 'Artha India Ventures': 1, 'Singularity Holdings': 1, 'Girish Mathrubootham': 13, 'Transamerica': 1, 'Nexus Venture Partners': 24, 'Founders Fund': 1, 'Omidyar Network': 16, 'Fairfax Holdings': 1, 'Tekne Capital Management LLC': 1, 'RB Investments': 9, 'undisclosed investors': 12, 'NEA': 3, 'Prime Venture Partners': 6, 'Mekin Maheshwari': 4, 'Mohammed Khan': 1, 'Sameer Narayan & Others': 1, 'Alphard Maritime Group': 1, 'Cross Border Angels & Experts': 2, 'Rajasthan Angel Innovators Network': 2, 'The Chennai Angels': 12, 'YouWeCan Ventures': 11, 'BLIP Initiatives': 1, 'Eight Roads Ventures': 7, 'Lightspeed India Partners': 4, 'Endiya Partners': 8, '3one4 Capital Advisors LLP': 1, 'Startupxseed Ventures LLP': 1, '91maker.com': 1, 'Paytm': 8, 'IIFL Seed Ventures': 1, 'FJ Labs': 1, 'Singularity Ventures': 3, 'GrowX': 1, 'Tracxn Labs': 14, 'Axis Capital': 2, 'Manipal Education and Medical Group (MEMG)': 1, 'SAR Group': 1, 'The Grover Trust': 1, 'iBhubs': 1, 'UC-RNT Fund': 1, 'Matrix Partners': 18, 'alcon Edge Capital': 1, 'DSG Consumer Partners': 9, 'General Catalyst': 1, 'Founder Collective': 1, 'Ventureast': 3, 'Bharat Vijay': 1, 'Krish Seshadri': 1, 'Amar Arsikere': 1, 'IFMR': 1, 'and MAS Financial Services Ltd': 1, 'Undisclosed investors': 28, 'Mohit Srivastav': 1, 'Kishore Ganji': 1, 'Venkat Vallabhaneni': 1, 'Rajeev Menon': 1, 'Naspers': 1, 'Seedfund': 4, 'RB International': 1, 'Snow Leopard Ventures': 1, 'Alto Partners': 1, 'Gujarat Venture Finance Ltd': 1, 'Anthill Scale Ventures': 1, 'Esvee Technologies Inc': 1, 'Inc95 Consulting': 1, 'Aparup Sengupta': 1, 'Devendra Reddy': 1, 'Udayan Goyal': 1, 'SAP.iO': 1, 'Unilazer Ventures': 6, 'Abhinav Bindra': 1, 'Gaurav Marya': 1, 'Zeta': 1, 'Undisclosed Investors': 33, 'Vy Capital': 3, 'SAIF Partners': 41, 'Accel Partner': 2, 'Clairvest Group': 1, 'Hyderabad Angels': 9, 'Nandan Nilekani': 10, 'Dutch government fund': 1, 'Falcon Edge Capital': 6, 'Capital Advisers': 1, 'Asuka Holdings': 2, 'Beenext': 7, 'Beenos': 7, 'Nimit Panigrahi': 2, 'Hinduja family': 1, '50K Ventures': 3, 'Rainmatter': 4, 'Rainbow Digital Services Pvt. Ltd': 1, 'ILearnFinance Academy Pvt. Ltd.': 1, 'Indian Angels Network': 2, 'Deepak Nathani': 3, 'Ajay Relan': 3, 'Vertex Ventures': 6, 'C31 Ventures': 1, 'RNT Capital': 1, 'Gokul Rajaram': 2, 'Aditya Agarwal': 2, 'Ruchi Sanghvi & others': 1, 'Satoshi Studios': 1, 'Anand Chandrasekaran': 13, 'Luxasia Group': 1, 'GVFL': 3, 'Vellayan Subbiah': 2, 'Jonathan Boutelle': 1, 'Rahul Chawla': 1, 'Salil Donde': 1, 'Amit Ranjan': 7, 'Govind Rajan & Others': 1, 'Times Internet': 10, 'InnoVen Capital': 3, '1Crowd': 3, 'Varsha Rao': 1, 'Surojit Chatterjee': 1, 'Nirav Choksi & Others': 1, 'DG Ventures India': 1, 'Dewan Housing Finance Corp': 1, 'Chirag Nikunj Sheth & Others': 1, 'Aakrit Vaish': 1, 'Swapan Rajdev': 1, 'Sushill Jiwarajka': 1, 'Impanix Capital': 1, 'GEMs': 1, 'Infibeam': 2, 'CCavenue': 1, 'IdeaSpring Capital': 1, 'Kstart Capital': 1, 'SAP': 1, 'Innovations East': 1, 'Ayesha Takia Azmi': 1, 'Abu Farhan Azmi': 1, 'Dr. Ritesh Malik': 2, 'SoftBank Group': 5, 'Dheeraj Pandey': 1, 'Rajesh Yohannan': 2, 'Akash Garg': 1, 'Ankur Capital': 1, 'Gokaldas Exports Ltd': 1, 'Fosun International': 1, 'Eagle10 Ventures': 1, 'Lightspeed Venture Partners': 12, 'Ratan Tata': 30, 'Uday Kotak': 2, 'Vijay Shekhar Sharma': 11, 'Kiran Mazumdar-Shaw': 2, 'Rajiv C Mody': 1, 'Trifecta Capital': 9, 'Blue Orchard': 1, 'Lahiri Music’s family office': 1, 'PV Sahad': 1, 'Sandeep Shroff': 1, 'Rahul Gupta': 1, 'Carpediem Capital': 2, 'Soma Capital': 1, 'Great Oaks Ventures': 1, '122 West Ventures': 1, 'Nasper': 1, 'Accel India': 3, 'Harmony Partners': 2, 'Rohto Pharmaceutical': 1, 'Waterbridge Ventures': 1, 'Mathew Cyriac': 2, 'Florintree Advisors': 1, 'Bertelsmann India': 3, 'Matrix Partners India': 7, 'Quadria Capital Advisors': 1, 'Rohitash Gupta': 1, 'Unicorn India Ventures & Others': 1, 'Aspada Investments': 1, 'Helion Venture Partners': 14, 'Powerhouse Ventures': 4, 'Aneesh Reddy': 6, 'Vispi Daver': 1, 'Keyur Joshi': 1, 'Pavan Bakeri': 1, 'Koen Bouwers': 1, 'Lomesh Agarwal': 1, 'Jeroen Mensen': 1, 'Pablo van den Bosch & Others': 1, 'Deepak Kulkarni': 1, 'Sandeep Pangal': 1, 'Zephyr Peacock India': 1, 'FreakOut Group': 1, 'Herb Madan': 1, 'Mahindra Partners': 1, 'F-Prime Capital Partners': 2, 'Ishwar Singh': 1, 'Farhaan Shabbir': 1, 'Orios Venture Partners': 11, 'Labruyere Eberlé': 1, 'CyberAgent Ventures': 1, 'GrowX Ventures': 4, 'IMJ Investment Partners': 1, 'L.D Sharma': 1, 'Saurabh Arora': 1, 'Mahindra and Mahindra Financial Services': 1, 'Nandan Nilekani’s NRJN Trust': 1, 'Mistletoe': 2, 'Qualcomm Ventures': 9, 'Philippe Bouchet': 1, 'Sushil Kumar': 1, 'Sandeep Singh': 1, 'Ivycap Ventures Advisors': 1, 'Singularity Ventures and Ravi Dhariwal': 1, 'Mayfield': 3, 'Nishant Rao': 1, 'Dileep Nath': 1, 'DHI Group Inc': 1, 'Digital Garage': 5, 'BizReach': 1, 'Contrarian Capital': 1, '91springboard': 1, 'Emergent Ventures': 2, 'Abstract Ventures': 1, 'Anthill Ventures': 1, 'Axilor Ventures': 11, 'R Ramaraj': 2, 'Z Nation Lab': 1, 'Redcliffe Capital': 2, 'Urrshila Kerkar': 1, 'SIMI Pacific Pte': 1, 'mall Industries Development Bank of India (SIDBI)': 1, 'Tolaram Inc': 1, 'Mountain Pine Capital': 1, 'Benori Ventures LLP': 1, 'Jacqueline Fernandez': 1, 'Nibhrant Shah': 1, 'Anandbir Singh': 1, 'Anirudh Sheth': 1, 'Pratik Singhi': 1, 'Vikram Mehta': 1, 'Murali Nair': 1, 'Gaurav Kachru': 1, 'Sundeep Singh Sahni': 1, 'Jatin Aneja': 2, 'Arun Malhotra': 1, 'Village Capital': 1, 'Anicut Capital': 1, 'IndiaNivesh Venture Capital Fund': 1, 'Ideaspring Capital': 3, 'Exfinity Venture Partners': 6, 'Undisclosed Investor': 10, 'SIDBI Venture Capital Ltd': 3, 'Ankit Nagori': 3, 'Ravi Garikipati': 3, 'Surot Chatterjee': 1, 'Ashish Agrawal': 1, 'LG Chandrasekhar': 1, 'Sashi Reddi': 2, 'Ligthbox Ventures II': 1, 'Lightbox Expansion Fund': 1, 'Sequoia Capital India': 7, 'RuNet South Asia': 1, 'SoftBank Vision Fund': 1, 'Sequoia Capital India Advisors': 1, 'Greenoaks Capital Partners': 1, 'WGG International': 1, 'pi Ventures': 3, 'Binny Bansal': 9, 'Arun Tadanki': 3, 'Aditya Verma': 1, 'DAH Beteiligungs GmbH': 1, 'S. Xavier Britto': 1, 'Orios Ventures Partners': 1, 'Team Builder Ventures': 1, 'Omidyar Networks': 2, 'Agnus Capital': 3, 'Khattar Holdings': 2, 'GardX International': 1, 'BlackSoil Capital Pvt. Ltd': 1, 'Poshika Financial Ecosystem': 1, 'SoftBank Group Corp': 1, 'Calcutta Angels Network (CAN)': 1, 'Augment Ventures': 2, 'Vishwadeep Bajaj': 1, 'Harsh Kundra': 1, 'Nandkumar Rane': 1, 'LN Buddharaju': 1, 'Anupam Tyagi': 1, 'Langoor': 1, 'Quona Capital': 1, 'Chandigarh Angels Network': 3, 'Social Alpha and other unnamed angel investors': 1, 'Bhupen Shah': 1, 'Jayesh Parekh': 1, 'Sanjay Sathe': 1, 'Sandeep Aggarwal': 3, 'Gautam Chhaochharia': 1, 'R Balachandar': 1, 'Bennett': 3, 'Coleman and Company Ltd': 2, 'Undisclosed angel investors': 1, 'Alibaba': 2, 'CDC Group Plc': 1, 'Atul Nishar': 3, 'Aneesh Seth': 1, 'Tushar Mittal': 1, 'SIDBI Venture Capital Fund': 1, 'Star India Pvt Ltd': 1, 'IDFC Parampara Early Stage Opportunities Fund': 1, 'National Science and Technology Entrepreneurship Development Board': 1, 'IDG Ventures India': 15, 'Michael & Susan Dell Foundation': 5, 'Draper Associates': 1, 'Unitus Seed Fund': 16, 'Private Sector Banks (Debt Funding)': 1, 'IDG ventures': 1, 'Y Combinator': 2, 'SEGNEL Ventures': 1, 'Deepak Gurnani': 1, 'Times Internet Ltd': 3, 'Singapore Angel Network': 12, 'Asuka': 1, 'Pravega Ventures': 2, 'BEENEXT': 6, 'Cyber Carrier': 1, 'Florintree': 1, 'Chidambaram Palaniappan': 1, 'Bharat Sheth': 1, 'IDG Ventures': 22, 'Saha Fund': 3, 'Puneet Gupta': 2, 'Nimitt Desai & Others': 1, 'GREE Ventures': 2, 'Kalaari Capital and IDG Ventures India': 1, 'Summit Media': 1, 'Atul Goel': 1, 'and Gurpreet Singh': 1, 'Sujeet Kumar': 4, 'Bhupender Singh': 1, 'Yashish Dhaiya': 1, 'Microsoft': 1, 'eBay': 1, 'Rakesh and Rajesh Jhunjhunwala': 1, 'L’Occitane': 2, 'Shripad Nadkarni': 2, 'Nandu Nandkishore': 1, 'Ravi Saxena': 1, 'Sandeep Raju': 1, 'Kinzon Capital': 1, 'FTV Capital': 1, 'Zodius Capital': 6, 'Ojas Ventures': 1, 'Mahavir Sharma': 1, 'Vishal Jain': 1, 'Rohit Sethi': 1, 'Gaurav Luniya': 1, 'Carlyle Group': 1, 'Tiger Global': 25, 'Vikas Bajaj': 1, 'Amit Kharbanda': 1, '3one4 capital': 1, 'Brand Capital': 13, 'Ankit Gupta': 1, 'Puneet Motihar': 1, 'KStart Capital': 1, 'Verlinvest': 2, 'Mayfield India': 6, '3one4 Capital': 4, 'Sistema Asia Fund': 3, 'Neoplux Technology Fund': 1, 'Vinod Martin': 2, 'Hemant Kaul': 2, 'Prof. Ram Kumar Kakani & Others': 1, 'JSW Ventures': 3, 'VenturEast': 1, 'Meher Roy': 1, 'Nikhil Arora': 1, 'Meet Kanodia': 1, 'Krit Sankalp': 1, 'Nitish Singh': 1, 'Risabh Gupta': 1, 'Om Chaudhry': 1, 'Malini Patel': 1, 'Stelcore Management Services': 1, 'Anjani Prasad': 1, 'Samridhi Fund': 1, 'Intex Technologies': 1, 'Satveer Thakral': 1, 'Mumbai Angels': 17, 'B Capital Group': 1, 'Ignition Partners': 2, 'Greycroft': 1, 'e.ventures': 2, 'Satya D Sinha': 1, 'Gyanendra Singh': 1, 'IFMR Capital Finance': 1, 'Jaarvis Accelerator': 1, 'Batlivala & Karani Securities': 2, 'Venture Works': 2, 'Earlsfield Capital': 3, 'Temasek Holdings': 2, 'Japan Vyas': 1, 'Tarun Adlakha': 1, 'Facebook FB Start programme': 1, 'Ganesh Natarajan': 2, 'Amereus Group': 1, 'Helion Ventures': 10, 'Al Dhaheri family': 1, 'ThinQbate': 1, 'VH Capital': 1, 'Axilor Partners': 1, 'Lumis Partners': 3, 'Anil Jain & other HNIs': 1, 'Kleiner Perkins': 1, 'Pine Brook': 1, 'Mohit Joshi & Others': 1, 'Mahalingam K': 1, 'Vikram Sud': 2, 'Punit Soni': 3, 'Utsav Somani': 2, 'Vishal Gondal': 3, 'Vikram Limaye': 1, 'PayU': 2, 'Ribbit Capital': 2, 'Quake Capital': 1, 'Kalaari Capital Partners': 1, 'Qualcomm': 2, '3ONE4 Capital Advisors': 1, 'UC-RNT': 1, 'SRI Capital': 5, 'Aprameya Radhakrishna': 12, 'Deepak Natraj': 1, 'Mahesh Murthy': 2, 'Pavan Ongole': 3, 'Sandeep Mathur': 1, 'Vijay Shekhar Sharma & Others': 1, 'Steadview Capital': 5, 'Konglo Ventures': 2, 'White Unicorn Ventures': 2, 'BookMyShow': 1, 'Facebook FBStart': 3, 'Coleman and Co. Ltd (BCCL)': 1, 'Softbank Ventures Korea': 1, 'IMM Investment': 1, 'Indian Angel Network (IAN)': 2, 'Sunil Munjal': 2, 'Nitin Saluja': 1, 'Gagan Goyal': 1, 'Pankaj Rungta': 1, 'Yogesh Agarwal': 1, 'Ishan Manaktala': 1, 'Chandigarh Angels': 1, 'Rohit': 1, 'Ashish Chand': 1, 'Sunil Singh & Others': 1, 'Paragon Trust': 1, 'Sands Capital': 1, 'IFC': 2, 'Flipkart': 11, 'Sanjiv Rangrass': 1, 'V Balakrishnan': 3, 'PV Srinivasan': 1, 'K2 Capital': 1, 'Rajiv Mehta': 3, 'Ramakant Sharma': 2, 'Vishal Malik': 1, 'DanGold Investment Corp': 1, 'Marico Innovation Foundation (MIF)': 1, 'Villgro': 2, 'India Nivesh Growth Fund': 1, 'Sixth Sense': 1, 'TCI Ventures': 1, 'Jasper Infotech Pvt Ltd': 1, 'Alibaba Pictures': 1, 'BlackSoil Capital Pvt Ltd': 1, 'Vedanta Capital': 1, 'William Campbell': 1, 'Toos N Daruvala': 1, 'Aavya Ventures': 1, 'Evan Lim': 2, 'Kanchan Ghoshal': 2, 'Ram Kumar Kakani': 2, 'Ronnie Screwvala': 1, 'Zishaan Hayath': 9, 'Karan Chellani': 2, 'Mohit Satyan': 1, 'Lohia Group': 1, 'Andre Hoffman': 1, 'Deutsche Telekom Strategic Investments & Others': 1, 'Vividhity Ventures': 1, 'Parampara Early Stage Opportunities Fund & Others': 1, 'Harsh V. Pant': 1, 'Ratheesh Raveendran': 1, 'Innoven Capital': 4, 'Quarizon': 6, 'Menterra Social Impact Fund': 2, 'Tencent': 1, 'ru-Net': 4, 'RSI Fund': 1, 'Thrive Capital': 1, 'India Quotient and others': 1, 'Ajith Nair': 2, 'Anish K': 1, 'Amajit Gupta': 1, 'Praveen Dubey': 1, 'J.P. Bhatt': 1, 'Rajasthan Venture Capital Fund': 1, 'Mumbai Angels Network': 1, 'SB Ventures': 1, 'Native Angels Network': 1, 'SD Group': 1, 'Jungle Venture Partners': 1, 'IvyCamp Ventures': 2, 'Umang Moondra': 1, 'Undisclosed investor': 9, 'Singapore based investor': 1, 'YourNest Fund II': 1, 'CapitalG': 1, 'India Educational Investment Fund': 5, 'Indochine International': 1, 'Iron Pillar and IIFL': 1, 'GMO Japan': 1, 'Neelesh Bhatnagar': 1, 'East Ventures & Others': 1, 'Alok Mittal & others': 1, 'Senovo': 1, 'Unternehmertum Venture Capital': 1, 'Alexander Bruehl': 1, 'ABM Knowledgeware': 1, 'Dream Incubator': 1, 'V Aanand R': 1, 'Puthen & Cole': 1, 'Sanjay Mehta & Others ( The Ten Minute Million)': 1, 'The Ten Minute Million': 3, 'Chandigarh Angels Network (CAN)': 1, 'Grace Capital Ventures': 2, 'Soham Vencaps': 1, 'American Express Ventures': 2, 'Cyber Carrier VC': 1, 'AdvantEdge Partners': 3, 'Songhyun Investment': 1, 'Undisclosed': 9, 'GEMs Advisory': 1, 'Franchise India': 2, 'Lakshmi Vilas Bank & undisclosed HNIs': 1, 'Info Edge (India)': 2, 'Ajith Sukumaran': 1, 'Currae Healthtech Fund': 3, 'Eros Labs': 2, 'Investors from Mumbai Angels & LetsVenture': 1, 'Mohan Kumar': 1, 'V. Balakrishnan': 1, 'Edelweiss Private Equity': 3, 'Venk Krishnan': 4, 'MJ Aravind': 1, 'Vikram Kotak': 1, 'Jayant Davar': 1, 'Ramkumar Nishtal': 1, 'Arjun Sharmaa': 1, 'Calcutta Angel Network': 1, 'Appliyifi': 1, 'Max Ventures and Industries': 1, 'Verlinvest SA': 1, 'Axilor': 1, 'Siddhartha Gupta': 1, 'Ashvin Chadha': 5, 'Rajul Garg': 7, 'Rajesh Yabaji': 1, 'Chanakya Hridaya': 1, 'Ramasubramaniam B': 1, 'Vishwanathan': 1, 'Nobel House': 1, 'Sunstone Capital': 1, 'Zodius Technology Opportunities Fund': 2, 'FiNC': 1, 'GHV': 1, 'Lead Angels Network': 1, 'Anbu Pandian': 2, 'Prabhakar MR & Others': 1, 'V. Krishna Prasad': 1, 'Bhupen Shah & Others': 1, 'Swastika Investmart Ltd': 1, 'Digital Financial Service Lab': 1, 'WRV Capital and IndusAge Partners': 1, 'Infosys Innovation Fund': 1, 'Emerald Media': 2, 'Premji Invest': 1, 'North Base Media': 2, 'Aarin Capital': 7, 'Epsilon Venture Partners': 1, 'GEMS Advisory': 1, 'KTB Network': 1, 'Cyber Carrier CL': 1, 'International Financial Corporation': 1, 'Dr. Apoorv Ranjan Sharma': 2, 'Anil Jain': 1, 'Anuj Golecha': 1, 'Krishna Jhunjhunwala': 1, 'Anirudh Damani': 6, 'Let’s Venture': 1, 'Fireside Ventures & Others': 1, 'HCS Venture capital fund': 1, 'Taxmann': 1, 'Kaushal Agarwal': 1, 'Harminder Sahani': 1, 'KK Mehra': 1, 'Pranay Jivrajka': 2, 'Navjot Saini': 1, 'Ivy League Alumni Angel Network': 1, 'Incubate Fund': 1, 'Lead Angels Group & Others': 1, 'Pradyumna Dalmia': 2, 'S. Somasegar & Others': 1, 'Ritesh Mehta': 1, 'Aruna Ganesh Ram': 1, 'Sachin Bansal': 5, 'Lead Angels': 5, 'CoCreate Ventures': 1, 'Kaleden Holdings': 1, 'Kedar Lele': 1, 'GHV Accelerator': 4, 'Calcutta Angels Network': 2, 'Raman Roy': 2, 'Yogesh Andlay': 1, 'Vaibhav Jain': 1, 'Gati Ltd': 1, 'Aavishkaar Venture Management': 1, 'Ameera Shah': 3, 'A M Sikander': 1, 'Warburg Pincus': 4, 'Justin Kan': 1, 'Qasar Younis': 1, 'Paul Bucche': 1, 'Susa Ventures': 1, 'Kima Ventures': 1, 'Axan Venture': 1, 'SCM Holdings': 1, 'ADAG Reliance Private Equity': 1, 'YourNest Angel Fund': 11, 'iSON': 1, 'Gleevoaz Ventures': 1, 'Arun Seth': 1, 'T.V. Mohandas Pai': 1, 'Deepak Ghaisas': 1, 'RTP-HC': 1, 'Wonder Ventures': 1, 'Techstars Ventures & Others': 1, 'Pramod Bhasin': 4, 'Times of India Group & Existing investors': 1, 'R.S Sharma': 1, 'Omnivore Capital': 1, 'Hitesh Windlass': 1, 'Devdeep Singh': 1, 'Khosla Impact': 3, 'Softbank Group': 1, 'YMS Mobitech': 1, 'Sanjai Vohra': 1, 'V. Bunty Bohra': 1, 'Undisclosed multiple investors': 1, 'Delta Partners': 1, 'Blacksoil': 1, 'Lightspeed Venture Partners India': 1, 'Lightspeed US': 1, 'Dr. Pooja Gandhi': 1, 'Barkawi Holdings GmbH': 2, 'TM Service Technology Holdings Gmbh': 1, 'Sreevathsa Prabhakar': 1, 'VC Karthic': 1, 'Miten Mehta': 1, 'Umasankar Nistala': 1, 'Rakesh Patel': 1, 'Akash Bhavsar': 1, 'Jeevanandhan Rajagopal': 1, 'Vikas Chadha & Others': 1, 'Reliance Entertainment': 1, 'Subramanya Venkat': 2, 'Manish Maheshwari': 1, 'Contrarian Vriddhi Fund': 1, 'Mohit Sharma': 1, 'Silver Range Investments': 1, 'Lumina Datamatics': 1, 'Shun Yoshida & Others': 1, 'Yang Shu': 1, 'Shekhar Sahu': 1, 'Nitesh Pant': 1, 'Dileep Bhatt': 1, 'Milind Chaudhary': 1, 'Krishna Rokhale': 1, 'Blume Ventures & Others': 2, 'TVS Group': 2, 'Mahindra Univeg': 1, 'Recruit Holdings': 1, 'Viraj Tyagi & Others': 1, 'Mahindra Holidays & Resorts India Ltd': 1, 'BeeNext': 3, 'Naveen Arya': 1, 'Tarun Joshi': 1, 'SeedPlus': 2, 'Xchange Investors NV': 1, 'TransGlobal FZC': 1, '3One4 Capital': 1, 'Pravin Gandhi': 1, 'Smart Start Fund; Kunal Shah': 1, '& Others': 1, 'Russian venture capital fund Ru-Net': 1, 'Healthsquad': 1, 'Ventureast Fund Advisors': 1, 'Sumpoorna Group': 1, 'HAX Accelerator': 1, 'HDFC': 2, 'Faering Capital': 3, 'Elevate Sports': 2, 'Sanjay Nayar': 1, 'Anil Jaggia': 1, 'Narayan Seshadri': 1, 'Radhakrishnan Natarajan & Others': 1, 'undisclosed investor': 3, 'Nitin Passi': 1, 'Manickam Mahalingam': 1, 'Udaan Angels': 2, 'Rajesh Arora': 1, 'Arkas Industries': 1, 'Arun Venkatachalam': 2, 'Badal Malick': 2, 'FAO Ventures': 1, 'Tushar Singh': 1, 'Ranjan Sharma': 1, 'Virendra Patel': 1, 'Gray Matters Capital': 3, 'Quarizon Consultancy Services LLP': 1, 'Karan Bhagat': 1, 'ByteDance': 1, 'Arun Sarin': 1, 'Falcon Edge': 1, 'Mayank Shah': 1, 'Shreyans Shah': 1, 'Vishnu Bhat': 1, 'Rajiv Lunkad': 1, 'Naresh Ravindranath': 1, 'Boman Irani': 1, 'Dhruv Chitgopekar': 1, 'Prantik Dasgupta': 1, 'Hemant Sahni': 1, 'Bravia Capital': 1, 'Newbie Promoters': 1, 'General Catalyst Partners': 1, 'TLabs': 1, 'Lightbox Ventures': 5, 'Axis Capital & Others': 1, 'Saama Capital': 6, 'Raghunandan G': 6, 'Next Orbit Ventures Fund': 1, 'Ranjan Pai': 2, 'Mobikon': 1, 'Blume ventures': 1, 'Janak Jain': 1, 'KAE capital': 1, 'IIFL Seed Ventures Fund': 1, 'Mayfield Ventures': 5, 'Swastika Company Ltd': 4, 'Lalit Vase': 1, 'Astarc Ventures': 4, 'hooting Starts Sports LLP': 1, 'Franchise India Brands': 1, 'Eureka Forbes Ltd': 1, 'Shapoorji Pallonji & Co. Ltd.': 1, 'Omnivore Partners': 2, 'Hero MotoCorp': 1, 'Ajay Nanavati': 1, 'Afsal Salu': 2, 'Michael Herzig': 1, 'Ashish Lakhanpal': 1, 'Karanpal Singh & Others': 1, 'Exfinity Ventures': 3, 'growX ventures': 3, 'Pradeep Dhobale': 1, 'Amit Choudhary': 2, 'Grasshoppers': 1, 'Anita Dongre': 1, 'Yash Dongre': 1, 'Milind Sarwate': 1, 'William Bissel': 1, 'Infina Finance Pvt. Ltd': 1, 'PremjiInvest': 2, 'Venturra Capital': 1, 'Susquehanna International Group.\\xa0 Wavemaker Partners': 1, 'InnoVen Capital India': 1, 'Sailender Solanki': 1, 'Rajiv Solanki': 1, 'CareerNet Consulting Pvt. Ltd': 1, 'Ideation Initiative Pvt. Ltd': 1, 'Idein Ventures': 4, 'Chan Zuckerberg Initiative': 1, 'Sofina': 4, 'Lightspeed Ventures': 4, 'Ravi Linganuri': 1, 'Dr. Rameshwar Kumar': 1, 'havya Sharma': 1, 'Amit Nagar': 1, 'Harinder Takhar': 1, 'Zain Raj': 1, 'Dr. Prasad Kaipa': 1, 'Abaran Deep': 1, 'Aseem Sood': 1, 'Mustafa Patni': 1, 'Rahul Kayan': 1, 'Nikhil Golcha': 1, 'Shubham Gupta': 1, 'Roy Kwan': 1, 'Fork Media': 1, 'Mariwala family': 1, 'Pradeep Mirani': 1, 'Aqeel Ahmed': 2, 'Anand Ladsariya': 2, 'Nitin Agarwal': 1, 'Raj Singh Bhandal': 1, 'BlackSoil Capital Pvt. Ltd.': 1, 'Balasubramanian Krishnamurthy': 1, 'Sidhartha Hazarika & Others': 1, 'Scadea Solutions Inc': 1, 'Dheeraj Jain': 5, 'Palash Jain': 1, 'Rahul Singh': 1, 'Ambarish Gupta': 1, 'Lightbox Ventures and others': 1, 'Ganesh Narasimhan': 1, 'Ramana Thumu': 1, 'Sudhir Mallem': 1, 'CIO Angel Network': 3, 'Sumit Jain': 7, 'KellyGamma': 1, 'Lead Angels & Others': 2, 'Goldman Sachs Group': 1, 'Zodius Technology Fund': 5, 'Lothal Angel Ventures': 1, 'Anglian Omega Network': 2, 'Akusa Holdings': 1, 'Rebright Partners': 6, 'Cisco Ventures': 1, 'Rohit MA': 1, 'Idea Wave Labs': 1, 'Prashant Tandon': 3, 'Gaurav Agarwal': 3, 'Gaurav Bhogle': 1, 'Shrishti Sahu': 1, 'Shantanu Mathur': 1, 'Prabhat Aggarwal': 1, 'Scale Ventures Funds': 1, 'Procam International Pvt. Ltd': 1, 'Flipkart Logistics Pvt. Ltd': 1, 'Pratik Seal': 1, 'Swastika Co Ltd.': 1, 'EDBI': 1, 'Blue Cloud Ventures': 1, 'Hercules Capital': 1, 'Now Capital': 1, 'Kanwaljit Singh': 5, 'Ajay Lakhotia': 1, 'ah! Ventures': 14, 'Digital Currency Group': 1, 'Boost VC': 1, 'Bank to the Future and Funders Club': 1, 'Bhavin Turakhia': 1, 'Mudit Saxena': 1, 'Undisclosed HNIs': 5, 'Syska LED group': 1, 'The HR Fund': 2, 'Quintillion Media': 3, 'Subramanya SV': 2, 'Ravi Garkipati': 1, 'Sachin Bhatia': 3, 'Darius Pandole': 1, 'Kunal Khattar': 1, 'Dheerag Jain': 1, 'Paul Roy': 1, 'Existing Investors': 1, 'Inventus Capital Partners': 4, 'Promatus Group': 1, 'Geniee': 1, 'Inc': 1, 'Swastika Company Ltd.': 1, '1Crowd (through crowd funding)': 1, 'Centre for Innovation Incubation and Entrepreneurship (CIIE)': 3, 'Sharad Sharma & 14 others': 1, 'Noshir Kaka': 1, 'Subramanian Ramadorai': 1, 'Kiran Deshpande': 1, 'Pankaj Gupta': 2, 'Ravi Nigam & Others': 1, 'Gujarat Venture Finance Limited (GVFL)': 1, 'Bennett Coleman & Co. Ltd': 1, 'ThirtyThree Investments': 1, 'Soumitra Sharma': 1, 'Deepak Sharma': 1, 'Sumit Dayal and others': 1, '1Crowd (through crowdfunding)': 1, 'Mukul Singhal': 2, 'Rohit Jain': 2, 'Himanshu Aggrawal': 1, 'Sunil Goyal Ashish Gupta': 1, 'Westbridge Capital Partners': 1, 'HT Media Ltd': 2, 'Manoj Varghese': 2, 'Foxconn Technology Group': 1, 'Bharti Enterprises': 1, 'Ananth Narayanan': 1, 'Divyesh Shah': 1, 'Undisclosed Dubai based HNIs': 1, 'Swan Angel Network': 3, 'Sachin Khandelwal and others': 1, 'Infocomm Investments': 1, 'Accel Partners RNT Associates': 1, 'Maninder Gulati': 2, 'Speridian Technologies': 1, 'Aspire Systems': 1, 'Satish Vasudeva': 1, 'Madhusudhan Jujare & Others': 1, 'Torrent Group': 1, 'Exfinity Venture Partners & Others': 1, 'Vijay Kedia': 1, 'Riju Gupta': 1, 'Kamal Chabra': 1, 'Dr. Goutam Challagalla': 1, 'Outbox Ventures': 4, 'Jaspreet Bindra': 1, 'Arjun Malhotra': 2, 'Rohan Malhotra': 2, 'Sidharth Rao': 1, 'Rakesh Agrawal': 1, 'Rohit Chokhani': 1, 'Ashish Tulsian': 1, 'Vineet Taneja': 1, 'Kamal Puri': 1, 'Mohit Lalvani': 1, 'Michael and Susan Dell Foundation': 2, 'Scale Ventures': 1, 'CureFit': 1, 'Investopad': 1, 'P39 Capital': 1, 'Abhinav Sinha': 1, 'Globevestor Angel Fund': 1, 'Devendra Rane': 1, 'Ravi Jain': 1, 'Arpan Nagdeve': 1, 'Ford Smart Mobility Llc': 1, 'Instalabs': 1, 'Net1 UEPS Technologies Inc': 1, 'Undisclosed Ex Mckinsey Directors and Partners': 1, 'Kunal Shah & Sandeep Tandon': 2, 'Dr. Abhishek Pandey': 1, 'Jaysukh Sapra': 1, 'Hitouch AG': 1, 'Undisclosed HNI investors': 1, 'Rajasthan Angel Investor Network & Others': 1, 'Ashutosh Lawania': 2, 'Rajul Jain': 1, 'Rishi Gupta & Others': 1, 'MediaTek Inc.': 1, 'Sophia Investment ApS': 1, 'Ambit Pragma': 1, 'Sarbvir Singh': 1, 'Raghav Bahl': 3, 'MasterCard': 1, 'Aaruha Technology Fund': 1, 'Zaffiro Ventures': 2, 'SD Ventures': 1, 'Vistaar Investment Advisors Pvt. Ltd.': 1, 'Deepak Gupta': 1, 'Aramex Ventures Llc': 1, 'IIFL Wealth Management Seed Venture Fund': 1, 'Aspada': 2, 'YourNest Angel Fund\\xa0 & Others': 1, 'Stripes Group': 1, 'Network 18': 1, 'Rohit Bansal': 12, 'Kunal Bahl': 13, 'Abhishek Jain': 2, 'Gaurav Singhvi': 1, 'Kirthiga Reddy': 1, 'Renuka Ramanath': 1, 'Cherry Tin': 1, 'AVG Group': 1, 'Rothenberg Ventures': 1, 'Alex Chua': 1, 'Rahul Garg': 1, 'Blume Ventures & IvyCap Ventures': 1, 'Brian Acton': 1, 'Sattva Capital': 1, 'Stanford Angels & Entrepreneurs': 1, 'Harvard Angels': 1, 'Ashish Mahajan': 1, 'Sarvesh Sharma': 1, 'Rishi Parti': 2, 'Yogesh Bansal': 2, 'Rainmaker Ventures': 2, 'Ajay Piramal': 1, 'Gaurav Bhalotia': 3, 'Jaspal Bindra': 1, 'Parth Jindal': 1, 'Keiretsu Forum': 1, 'Plug and Play Tech Center': 1, 'Steelhead Ventures & Others': 1, 'Anurag Gupta': 1, 'Varun Khanna': 1, 'Faraz Khan': 1, 'GEMS group': 1, 'Abhijit Avasthi': 1, 'SP Vijay': 1, 'IIFL and Accel Partners': 1, 'Intelli Reboot Digital Pvt. Ltd': 1, 'Satish Jamdar': 1, 'Star India Pvt. Ltd': 1, 'Franklin Templeton International Services Pvt. Ltd': 1, 'Green House Ventures Accelerator': 1, 'Abhishek Agarwal': 1, 'Krishnakumar Nataraj': 1, 'Sarath Sura': 2, 'Shanti Mohan': 1, 'Sarthak and Nihit Agarwal': 1, 'Suramya Gupta': 1, 'Nilesh Shah': 1, 'Nihon Kotsu Co': 1, 'Swastika Company Pvt Ltd': 1, 'Lightbox': 1, 'MapmyIndia': 1, 'Parampara Capital': 2, 'MadhanKumar Madathupalayam': 1, 'Romulus Capital': 1, 'Sreenivasa Reddy Musani': 1, 'Yeahmobi': 1, 'Fenqile': 1, 'Microsoft Ventures': 1, 'Salesforce Ventures': 1, 'Sanjiv Rai': 1, 'Venkat Tadanki': 1, 'Krishna Mehra': 3, 'Amit Rathore': 1, 'Axiata Digital': 1, 'Ankit Maheshwari': 1, 'Anand Singh': 1, 'BlackJag Partners': 1, 'Cameron Jones': 1, 'Ritesh Dwivedy': 2, 'Priti Padhy': 1, '3 undisclosed HNIs': 1, 'Vivek Joshi': 2, 'Mohit Satyanand': 1, 'Amit Banati': 1, 'Arun Khanna': 1, 'Bhavish Aggarwal': 3, 'Ankit Bhati': 2, 'TVS Automobile Solutions Ltd': 3, 'Viridian Capital': 1, 'EVC Ventures': 2, 'Valpro Capital and existing investors': 1, 'MCube8': 1, 'You & Mr Jones': 1, 'Fortisure Ventures': 1, 'Diaz Nesamoney': 1, 'Blume Ventures & Vaibhav Domkundwar': 1, 'Accel Partners India': 4, 'IvyCap Ventures and Unicorn India Ventures': 1, 'Atul Ingle': 1, 'Guy Oseary': 1, 'Nimmagadda Prasad': 1, 'Ravi Adusumalli': 1, 'New Enterprise Associates (NEA)': 2, 'BetOnIndia Technology Pvt Ltd': 1, 'Sanjay Verma': 1, 'Amit Khanna (LetsVenture)': 1, 'Hamraj Kumar': 1, 'Timbru Ventures': 1, 'Concur Technologies': 1, 'Gund Investment': 1, 'IndiaMart': 1, 'Bitkemy Ventures': 1, 'Unicorn Venture': 1, 'CP Bothra': 1, 'RB Investments PTE Ltd': 1, 'Rahul Kirloskar': 1, 'Fusion Tech Ventures': 1, 'Adi Saravanan': 1, 'Pravin Dongre': 1, 'Mahendra Doshi': 1, 'Saif Partners': 1, 'Purvi Ventures': 2, 'Vipin Arora': 1, 'Rise India': 1, 'Jitendra Gupta': 3, 'Pankaj Tripathi': 1, 'Aprameya Radhakrishnan': 1, 'Phanindra Sama': 9, 'Subba Rao Telidevara': 1, 'Vibhu Garg': 3, 'Paula Ravindra Mariwala': 1, 'Kanodia family': 1, 'Amit Banka': 1, 'GVFL Ltd': 1, 'Bertelsmann India Investments': 4, 'Sanjeev Sinha': 1, 'Soniks Consulting': 1, 'vCommission': 3, 'Harsh Vardhan Hada': 1, 'Piyush Jain': 1, 'Uniqorn Ventures Fund': 1, 'S Somasegar': 1, 'Accel Partners & existing investors': 1, 'Carpediem Capital & Others': 1, 'Niloufer Dundh': 1, 'Fauzan Rahim': 1, 'Balamurugan Mani': 1, 'Ankush Mehta': 1, 'StartupXseed Ventures': 2, 'GMO Payment Gateway': 1, 'MediaTek': 1, 'Shruth & Smith Group': 1, 'Hermes Group': 1, 'Rohan Angrish': 1, 'Hrishi Oberoi': 1, 'Rahul Mehta': 1, 'Kapil Hetamsaria': 1, 'Pranav Dedhia': 1, 'International Finance Corp': 1, 'TPG Growth': 2, 'Adveq Management': 1, 'Kris Gopalakrishnan': 8, 'Helion Venture': 1, 'VentureEast': 2, 'India Alternatives': 1, 'Grex.in': 2, 'Kalaari Capital Accelerator Program': 3, 'Inventus Capital': 5, 'Group of undisclosed Angel Investors & HNIs': 1, 'MoMagic Technologies': 2, 'Rajul Garg & Others': 1, 'Rajesh Ranavat': 1, 'Roopak Saluja': 1, 'Vishal Khare': 3, 'Manish Kheterpal': 3, 'Vinay Mittal': 1, 'Dinesh Mittal': 1, 'Sandeep Gupta': 1, 'NanoHoldings': 1, 'DST Global': 3, 'JM Financial Products Ltd': 1, 'Doreswamy Nandkishore': 1, 'Kshitij Jain': 2, 'Khazanah Nasional Berhad': 3, 'Creation Investments Capital Management': 1, 'Aspada Ventures': 1, 'GROUPE SOS': 1, 'Rakesh Gupta': 1, 'Aditya Aggarwal': 1, 'Siddharth Banerjee': 1, 'Vikas Ranjan': 1, 'Anshul Jindal': 1, 'Sunil Koul': 1, 'and Sanjeev Agrawal': 1, 'Anurag Chauhan': 1, 'Nexus Ventures': 1, 'Undisclosed Investors & Tamarind Family Private Trust': 1, 'S Chand': 1, 'Kinnevik Group': 1, 'Rocket Internet': 3, 'Rata Tata': 1, 'Anuj Srivastava': 3, 'Katabole Technology Venture': 1, 'Kaizen Management Advisors': 1, 'DeVry Inc': 1, 'Aprameya': 1, 'Venk': 1, 'Ravi Machani': 1, 'Hitesh Gupta': 1, 'Rohit Choudhary': 1, 'Chatsworth Management': 1, 'ITW Digital': 1, 'Pradeep Reddy Kamasan': 1, 'MCube Capital Advisors Pvt Ltd': 1, 'Sudhir Mehta': 2, 'FF Angel': 1, 'India Innovation Fund India Venture Partners': 1, 'Vikram Lakhotia': 2, 'Ashish Gupta and other undisclosed investors': 1, 'NSI Infinium Global Pvt. Ltd': 1, 'Nelstone Ventures': 1, 'Transmedia Capital': 1, 'Maiden Lane Ventures': 1, 'CSC Upshot & Angel investors': 1, 'Alok Sharma': 2, 'Saurabh Srivastava': 2, 'and Ajai Chowdhry': 1, 'Vineet Singh': 1, 'Equentia Natural Resource & Other undisclosed investors': 1, 'Xiaomi Inc': 1, 'N.S. Raghavan Centre for Entrepreneurial Learning': 1, 'Mukesh Bansal': 1, 'TM Service Technology Holdings GmbH': 1, 'DTDC Express Ltd': 1, 'Ninestarter': 1, 'Nazara Technologies Pvt Ltd': 1, 'IDG': 1, 'Mahendra Patel': 1, 'Nilender Chauhan': 1, 'Rattan Chadha': 1, 'Wingify': 1, 'Softbank': 5, 'Greenoaks Capital': 2, 'DSG Consumer Partners and Venture Nursery': 1, 'Prashant Puri': 1, 'Dr. Ranjan Pai': 1, 'Shaan': 1, 'Daud Ali': 1, 'Narendra Karnavat': 1, 'Vikas Kapoor': 1, 'Krishna Jhunjhunwaala': 1, 'Jayesh Shah': 1, 'Anil Kapoor': 1, 'Pravin Khandelwal': 1, 'Yatin Kumar Jain': 1, 'Dr. Aniruddha Malpani': 2, 'Dr. Sridhar Ramaswamy': 1, 'Rakesh Mathur': 2, 'StartUp Equity Partners': 1, 'Rajeev Agrawal': 1, 'Prashant Gooty': 1, 'Ram Shriram': 1, 'Neeraj Arora': 3, 'Puru Vashishtha': 1, 'Mount Nathan Advisors': 2, 'Mahavir Pratap Sharma': 3, 'Ajay Data': 1, 'Yogesh Chaudhary': 2, 'Sanjay Phophaliya': 1, 'Siddharth Agarwal': 1, 'Kamal Kothari': 2, 'Naturals Salon Chain': 1, 'Vivek Nathani': 1, 'H C Jain': 1, 'Pawan Munjal': 1, 'Ajay Data & other HNIs': 1, 'Mitin Patel': 1, 'Paytm & existing investors': 1, 'Stanford Angels': 3, 'Chennai Angels': 5, 'Man Capital': 1, 'RN Agarwal': 1, 'Undisclosed Angel investors & HNIs': 1, 'Adil Allana': 1, 'Gautam Ivatury': 1, 'Signal Point Partners': 1, 'Ajay Data & undisclosed HNIs': 1, 'M&Y Partners': 1, 'SVG Media': 1, 'Anthil Ventures & others': 1, 'GirnarSoft': 2, 'Mayfield India II Management Ltd': 1, 'HR Fund': 1, 'NTT Finance': 1, 'Telephone Corporation': 1, 'Indian Angel network': 1, 'GrowthStory': 2, 'Apurva Salapuria': 1, 'Hitesh Oberoi': 1, 'Nirupa Shankar': 1, 'IDFC SPICE Fund': 1, 'Micromax Informatics': 4, 'Max Levchin': 1, 'Scott Banister': 1, 'Farooq Oomerbhoy': 1, 'Anand Mittal': 1, 'Blume Ventures & Other unnamed Investors': 1, 'Anand Rajaraman': 3, 'Venky Harinarayan': 2, 'Fundnel': 1, 'S Chand & Co': 1, 'Lip-Bu Tan': 1, 'Michael Marks': 1, 'Nicolas Braithwaite': 1, 'Kludein LLCPhanindra Sama': 1, 'Narayan Ramachandran': 2, 'Pranav Pai': 1, 'Dino Morea': 2, 'Blinc Advisors': 1, 'Amit Nanavati': 1, 'Tashwinder Singh': 1, 'Taranjit Jaswal': 1, 'Amit Khanna': 1, 'Matt Glickman': 1, 'Anoop Hingorani': 1, 'Manoj Kumar & Other undisclosed investors': 1, 'Daman Soni': 1, 'Rajat Gupta & Others': 1, 'Mohit Gulati': 1, 'Artiman Ventures': 1, 'Ruchirans Jaipuria': 1, 'Anuj Sanghi': 1, 'Zop Smart': 1, 'Sol Primero': 5, 'Sudhir Anandarao': 1, 'Ankur Warikoo': 1, 'Ankur Singla': 1, 'Unicorn Ventures': 1, 'Naveen Tewari': 3, 'Abhay Singhal': 2, 'Amit Gupta': 9, 'Piyush Shah': 2, 'Undisclosed private investors': 1, 'Vijay Krishna Yadav': 1, 'Apoorv Ranjan Sharma': 1, 'Daud Ali and others': 1, 'Undisclosed Japanese investor': 1, 'Nirvana Digital India Fund': 2, 'Nirvana Digital Investment Holding Co Ltd': 1, '500 Start-Ups': 1, 'Aspada Investment Advisors': 2, 'Blume Ventures.': 1, 'Amadeus Capital': 1, 'Entrepreneurs India': 2, 'Vipul Parekh': 1, 'ajesh K Murthy': 1, 'PurpleTalk Inc': 1, 'Anuj Puri': 1, 'Dheeraj Jain & Other angel investors': 1, 'Raj Gala Shah': 1, 'Zaheer Memon': 1, 'Greycroft Partners': 2, 'Fidelity Growth Partners India': 2, 'Mohit Goel': 2, 'Janak Parikh': 1, 'Hari Krishna': 1, 'Ajay Modani': 1, 'Dr V Ravinder': 1, 'Anirudh Rastogi': 1, 'Rakesh Gakhar': 1, 'Rajeev Mudumba': 1, 'Nagendra Prasad Bhanuprakash': 1, 'Agarwal Movers Group': 1, 'Hemang Sahani': 1, 'S Chand and Co Pvt Ltd': 2, 'Funding through 1Crowd platform': 1, 'Alex Kuruvilla': 1, 'Pradeep Guha': 1, 'Saket Dhankar': 1, 'Rajan Pandhare': 1, 'Chandrashekar Tallapragada': 1, 'Pankaj Kapoor': 1, 'Abhishek Goyal': 3, 'Arjun and Rohan Malhotra': 1, 'Harpreet Singh Grover': 2, 'Gagan Dugal': 1, 'Rannvijay Singh': 1, 'Anita Hassanandani': 1, 'Sashi Reddi & Other unnamed investors': 1, 'Naveen Gupta': 1, 'Google Capital': 3, 'CASHurDRIVE Marketing Pvt Ltd': 1, 'Abraaj Group': 1, 'Tracxn Labs & Others': 1, 'Sachin Tendulkar': 1, 'Alok Mittal': 6, 'Rishi Mandawat': 1, 'Dexter Angel Circle': 1, 'Pix Vine Capital': 1, 'Infocomm Development Authority of Singapore': 1, 'GAIN': 1, 'Devidas Desai': 1, 'Vipul Gautam': 1, 'Littlerock': 1, 'BitChemy Ventures': 1, 'Maheshwari Investments Pvt Ltd': 1, 'Anshoo Gaur': 1, 'Rama Krishna Reddy': 1, 'Sandeep Seerapu': 1, 'Mekin Maheshwar': 1, 'Broadbean Capital services': 1, 'Bharanidharan Viswanathan': 1, 'Sanjiv Mittal': 1, 'Shobhit Shukla': 1, 'Rahul Agarwal': 1, 'Robin Utthappa': 1, 'Daljit Singh': 2, 'Aditya Vij': 1, 'Kishore Kumar': 1, 'Shuchin Bajaj': 1, 'Sarva Capital': 1, 'Jay Vijayan': 1, 'SoftBank Ventures Korea': 1, 'Himanshu Aggarwal': 2, 'Puneet Agarwal': 1, 'Mohandas Pai': 6, 'Hiro Mashita': 2, 'Ajay Sarupria': 1, 'Snow Leopard Technology Ventures': 2, 'Wipro Ventures': 1, 'T V Mohandas Pai': 4, 'Multiple investors through Ten Minute Million competition': 4, 'Dunamis Ventures Pte Ltd.': 1, 'Green House Ventures (GHV)': 4, 'Ingram Content Group': 1, 'Oranda Global & Others': 1, 'Sherpa Capital': 1, 'Nyca Partners and Thomvest Ventures': 1, 'Vandana Luthra': 1, 'Venturesity': 1, 'Arihant Patni': 6, 'Zia Mody': 1, 'Ananda Kallugadde': 1, 'Rakesh Desai': 1, 'Rakesh Malhotra': 1, 'Vinod Jain & Others': 1, 'Sixth Sense Ventures': 3, 'Vinod Bansal': 1, 'Sanjeev Singhal': 1, 'Mahesh Parasuraman': 1, 'Rahul Gautam & Others': 1, 'Valiant Capital': 4, 'Rajesh Sawhney': 6, 'India Ventures': 1, 'Aarin Capital & Others': 1, 'Edelweiss Financial Services': 1, 'Lion Ventures': 1, 'Manipal Global Education Services': 2, 'Atul Jain': 1, 'Anil Gelra': 1, 'Jaikumar Nair': 1, 'Jaideep Mehta': 1, 'Sachin Dalal': 1, 'Jayabalan Subramanian': 1, 'Alok Rawat': 1, 'Grey Orange Robotics': 1, 'Sunil Mehta': 1, 'Aspada Advisors': 1, 'Ontario Teachers’ Pension Plan & Others': 1, 'Saumya Tandon': 1, 'Mukesh Kumar Gupta': 1, 'Vaibhav Doshi': 1, 'Joby Babu': 1, 'Abhishek Acharya': 1, 'Manish Shah': 1, 'Ranjit Singh': 1, 'Haresh Chawla': 3, 'Powai Lake Ventures': 8, 'Globevestor': 1, 'Virendra Shekhawat': 1, 'Deepak Chokhani': 1, 'Yogesh Patel & Others': 1, 'Siddhivinayak Skyscrapers': 1, 'Dinesh R. Challa': 1, 'Vishwadeep Bajaj & Others': 1, 'Rajnish Sinha': 1, 'Prijit Debnath': 1, 'KWAN Entertainment & Marketing Solutions': 1, 'Powerhouse Ventures & Others': 1, 'Dr Nandish Domlur': 1, 'Amit Sandill': 1, 'K Ganesh': 2, 'Sujal Shah': 1, 'Aneesh Reddy & Teruhide Sato': 1, 'Farooq Oomerbhoy & Other angel investors': 1, 'Qualcomm (Through QPrize Contest)': 1, 'Aavishkaar': 2, 'Varun Aggarwal': 2, 'Purvi Ventures & Others': 1, '3 undisclosed investors': 1, 'Nitin Bagmane & Other undisclosed investors': 1, 'Lightspeed India': 3, 'Accel Partners & Others': 2, 'Vikram Lal': 1, 'Abhijit Bhandari': 1, 'Shashank Bhagat': 1, 'Rocket Internet AG': 1, 'Holtzbrink Ventures': 1, 'Deutsche Telekom Strategic Investments (DTSI)': 1, 'Silicon Valley Bank': 2, 'The Phoenix Fund and others': 1, 'Yajnanarayana Kammaje': 1, 'Tracxn Syndicate': 2, 'Qualgro': 2, 'Mamoru Taniya': 1, 'Suresh Venkat': 1, 'Raj Y': 1, 'Vishal Bali & Others': 1, 'Calcutta Angels': 4, 'Ashish Hemrajani': 2, 'Parikshit Dar': 1, 'Rajesh Balpande': 1, 'Kapil Goel': 1, 'Insitor Impact Asia Fund': 1, 'Acumen Fund': 4, 'Eduardo Saverin': 1, 'Siddharth Pai': 1, 'Manvinder Singh Banga': 1, 'MeritTrac': 1, 'Deepinder Goyal': 2, 'Ashish Dhawan': 1, 'Mayank Singhal': 2, 'Samir Bangara': 2, 'Anisha Mittal': 1, 'Lalit Mangal': 3, 'Deobrat Singh': 1, 'Saurab Paruthi': 1, 'Singapore Angel Network.': 1, 'Dinesh Agarwal': 4, 'Tata Capital Innovation Fund': 1, 'Jagdish Kumar': 1, 'Bharat Gupta': 1, 'Ankush Saigal': 1, 'Praveen Saini': 1, 'Lalitesh Katragadda': 1, 'Ganayantrika Systems': 1, 'Arjun Handa': 1, 'Amit Jindal': 1, 'Nagendra Chaudhary': 1, 'Bhanu Vikram Parsotam': 1, 'Rohan Desai and Paras Patel': 1, 'SIDBI Venture Capital Limited': 1, 'Ankur Gupta': 1, 'Myntra/LivSpace Founders': 1, 'Newbie Promoter Pvt Ltd': 1, 'Ctrip.com International Ltd': 1, 'Krishna Jhujhunwala': 1, 'Sanjay Mehta & Others': 1, 'GBIM Technologies Pvt Ltd': 1, 'Arun Chandra Mohan': 2, 'Nahata Family': 1, 'Waheed Alli': 1, 'Mato Peric': 2, 'TracxnLabs': 3, 'Ranjan Mahtani': 1, 'GIC': 2, 'Tiger Global Management': 14, 'Matt Mullenweg': 1, 'Adam D’Angelo': 1, 'Ruchi Sanghvi & Others': 1, 'Vallabh Bhanshali': 1, 'N Squared Management LLC': 1, 'Jagdish & Sandeep Mehta Family Office': 1, 'Equity Crest': 1, 'Vinners': 1, 'Sparknext': 1, 'March Capital': 1, 'Shiva Ashok & Other unnamed investors': 1, '50k Ventures': 1, 'Munish Jauhar': 1, 'Pulkit Jain': 1, 'Rohit Narang': 1, 'Amod Malviya': 1, 'Mustafa Wajid': 1, 'Umang Kumar & Others': 1, 'Saavn': 1, 'Micromax': 1, 'Dhiraj Rajaram': 1, 'Ambiga Dhiraj': 1, 'Sanjay Nath': 1, 'Cipher-Plexus Capital Advisors & Indian HNIs': 1, 'Varun Khurana': 1, 'Samar Singla': 1, 'Vinay Bansal': 1, 'Vikas Malpani': 1, 'LV Prasad': 1, 'Times Group': 1, 'Abhinav Mathur': 1, 'Sanjay Mehta': 4, 'Huzaifa Khorakiwala': 1, 'Nirvana Digital Investment Holding': 1, 'RB Investments & existing investors': 1, 'Anand Chandrasekaran & Others': 1, 'Unilazer Fund': 1, 'Peyush Bansal': 1, 'Umang Kumar': 2, 'Lemelson Foundation': 1, 'Alpha Capital': 1, 'Undisclosed US Based Investors': 1, 'Saïd Business School Seed Fund.': 1, 'Farooq Adam': 1, 'Ambi Parameswaran': 1, 'Rob Chandra': 1, 'SoftBank Corp': 1, 'Beenext Ventures': 1, 'Kanpur Angels & Others': 1, 'Taurus Value Creation': 1, 'Konly Venture': 1, 'Chandigarh Angels Funding': 1, 'Avnish Mehra': 1, 'Pranay Adhvaryu': 1, 'Ravi Sampat': 1, 'APIS Partners': 1, 'Institutional Venture Partners': 1, 'CRV': 1, 'Kalaari Capital and Inventus Capital': 1, 'GPA group': 1, 'Puneet Dalmia': 4, 'Lalit Mangal & Others': 1, 'Un disclosed investors': 1, 'Neeraj Goenka': 1, 'Farooq Adam Mukadam': 1, 'Mohit Saxena': 4, 'Foxconn Technology Group & Others': 1, 'Harminder Sahni': 1, 'Sanjay Bakshi': 1, 'Maple Capital Advisors': 1, 'TermSheet': 1, 'Tekton Ventures': 1, 'Lead Angel Network': 1, 'Vineet Nalla': 1, 'Amit Patni': 2, 'Samir Shah': 2, 'Frontline Strategy': 2, 'Aarin Capital Partners': 4, 'Lashit Sanghvi': 1, 'Nikhil Vora': 2, 'Venkat Vardhan': 1, 'Mohammed Bin Abdul Rehman Al Khalifa': 1, 'Ralph Berezan': 1, 'Vissal Mathew': 1, 'Balamurali Krishna': 1, 'The Saha Fund': 1, 'CIO Angel Network (CAN)': 1, 'Times Internet Ltd & One more Fund': 1, 'Chandigarh Angel Network (CAN)': 1, 'Beerud Sheth and Ravi Mantha': 1, 'CerraCap': 1, 'Gaurav Gupta': 1, 'Vidyadhar Sarfare': 1, 'Ajeet Khurana Jinesh Shah': 1, 'Vikram Chachra': 4, 'Gopal Aggarwal': 1, 'Shopclues': 1, 'Steven Lurie': 1, 'Accion': 2, 'Yuri Milner': 2, 'Apoletto': 2, 'Bren Corporation': 1, 'CLSA Capital Partners ARIA IV Funds': 1, 'Mr. Sudhir & Ms. Shalini Sethi': 1, 'Mr. Praveen Someshwar': 1, 'Mitesh Majithia': 1, 'Uniqorn Ventures and other': 1, 'Gabriel Investments': 1, 'Extreme Venture Partners\\xa0 William Bissell': 1, 'Zoya Akhtar': 1, 'Reema Kagati': 1, 'Ruchi Narain': 1, 'Amrish Kumar': 1, 'Hrishikesh Parandekar': 1, 'Prashanth Ranganathan': 1, 'Infosys': 1, 'Singapore Angels Network': 1, 'Amazon': 2, 'Ru-Net Technology Partners': 1, 'Chicago Capital Ventures': 1, 'Others': 2, 'Unilazer': 1, 'Nisha Sharma': 1, 'Balaji Prabhakar': 1, 'SAIF Partners and others': 1, 'Allen Blue': 1, 'John Katzman': 1, 'Kartik Hosanagar': 1, 'Blue Fog Capital': 1, 'Kris Gopalakrishnan & Others': 1, 'Turning Ideas': 2, 'Prahlad Rao': 1, 'Sundara Rajan': 1, 'TCS': 1, 'Kalpana Tatavarti': 1, 'Shivanandan Pare': 1, 'Murugappa Group': 1, 'Arathi Krishna': 1, 'Palred Technologies Ltd': 1, 'HT Digital Media Holdings Ltd': 1, 'Venture Nursery': 1, 'BrahmaX Ventures': 1, 'Medi Assist': 1, 'Vectr Ventures': 1, 'Unitus Impact Livelihoods Fund': 1, 'Collaborative Licensing Ventures LLP': 1, 'Ruchir Arora & others': 1, 'Sharad Hegde': 1, 'Girish Reddy': 1, 'Siddharth Patil': 1, 'Shrikant Patil': 1, 'Tree Line Asia': 2, 'Sahil Barua': 3, 'Times Group Brand Capital': 1, 'Segnel Venture': 1, 'Shinji Kimura': 1, 'Sundar Chanrai': 1, 'JAFCO Asia': 2, 'SingTel’s Innov8': 1, 'Varun Ahuja': 1, 'Anubhav Verma': 1, 'Riqueza Capital': 1, 'Dheeraj Jain & Others': 1, 'Constellation Technology Ventures (Exelon Corporation)': 1, 'E.ON': 1, 'RWE': 1, 'Khosla Ventures': 1, 'Neeraj Jawalkar': 1, 'Sanjay Anandaram': 1, 'Vineel Nalla & Others': 1, 'SAIF Partners & others': 1, 'Ness Wadia': 1, 'Saina Nehwal': 1, 'Chandralekha Construction Pvt. Ltd.': 1, 'Mike Galgon': 2, 'Ravi Gururaj': 3, 'Ashim Mehra': 2, 'Internet Group': 1, 'TNN Capital and others': 1, 'Info Edge': 1, 'BEENEXT Ventures': 1, 'Jozef Bardik': 1, 'Leo Wang Sangeeth Ram': 1, 'TV Mohandas Pai’s family office': 1, 'Lensbridge Capital': 1, 'Mape Advisory Group': 1, 'Centre For Incubation & Business Acceleration (CIBA)': 1, 'Goa': 1, 'Mount Nathan Advisors Pte Ltd': 1, 'Traxcn Labs': 1, '50K Ventures & others': 1, 'Logtally': 1, 'Global Founders Capital': 2, 'Gordon and Betty Moore Foundation': 1, 'Jitu Virwani': 1, 'Rimpal Chawla': 1, 'Ravi Krishnamurthy': 1, 'Enablers platform': 1, 'Baillie Gifford': 1, 'Didi Kuaidi': 2, 'Inara Capital': 1, 'Rishi Khiani': 1, 'Palaash Ventures': 2, 'Blackstone Valley Group': 1, 'Raghu Vohra': 1, 'Aditya Dev Sood': 1, 'Kamal Bansal': 1, 'Bessemer Venture Partner': 1, 'Accel': 1, 'Karnataka Semiconductor Venture Capital firm': 1, 'S.D. Shibulal': 1, 'Srinath Batni': 1, 'Professor Tarun Khanna': 1, 'Ganapathy Venugopal.': 1, 'New Enterprise Associates': 4, 'Pradeep K Jaisingh': 1, 'Sunil T V': 1, 'Vijay Ghadge': 1, 'Gurmeet Chahal & Others': 1, 'Hampton Capital': 1, 'Dr. Pramath Raj Sinha': 1, 'BVR Mohan Reddy': 1, 'Bijou Kurien': 2, 'Anil Menon': 1, 'Swastika': 1, 'Manish Gupta': 1, 'Canaan Partners': 1, 'Ashok Agarwal': 1, 'Raghu Khanna': 1, 'Sameer Gupta': 1, 'IFC Everstone Group': 1, 'Cheetah Mobile': 1, 'Apoletto Managers': 1, 'M & S partners': 1, 'Powerhouse Ventures (USA).': 1, 'Tracxn': 1, 'Ashish Goenka & Others': 1, 'Anil Chopra': 1, 'JMR Infotech India Pvt Ltd': 1, 'Unigrowth Inc': 1, 'Mandeep Singh': 1, 'Jairaj Singh': 1, 'FIH Mobile Ltd': 1, 'Delhivery': 4, 'Foxconn': 2, 'Sargod Ventures': 1, 'Elevar Equity': 3, 'Gaurav Dalmia': 1, 'Gagan Hasteer': 1, 'Ashish Todi': 1, 'Abhinav Patodia': 1, 'Kumar Shwetabh': 1, 'Paytm (One97 communications)': 2, 'Harsh Mariwala': 1, 'Dalip Pathak': 1, 'Michael Carlos': 1, 'Peepul Capital': 2, 'DSG consumer Partners': 1, 'Paragon Partners': 1, 'High Networth Individuals (undisclosed)': 1, 'Uniqorn ventures': 1, 'ASP Consulting': 1, 'Satyen Kothari': 1, 'Keshav Sanghi': 1, 'Riddhesh Gandhi & Others': 1, 'Gaja Capital Private Equity Fund': 1, 'Avtar Monga': 1, 'Unnamed Media house and HNIs': 1, 'High Networth Individuals from India & USA': 1, 'Snapdeal': 2, 'Peter Kabel & others': 1, 'Sanjeev Kapoor': 1, 'Ravi Saxena & Others': 1, 'Life.SREDA': 1, 'Sequoia and Kalaari Capital.': 1, 'Vikas Agarwal': 1, 'Sanjeev Kakkar': 1, 'Smile Group': 1, 'SF Capital Group': 1, 'Kemark Ventures': 1, 'Zishaan Hayath and Others': 1, 'Quikr': 1, 'Bedrock Ventures': 2, 'Suyash Sharma': 1, 'Sean O’Sullivan & Others': 1, 'IDG Ventures & Advantedge fund': 1, 'Leon Seynave': 1, 'Biz Stone': 2, 'European investment fund': 1, 'Micromax Informatics Ltd': 1, 'Dewang Neralla': 1, 'Roopak Taneja': 1, 'Manisha Gupta': 1, 'Mumbai Angels MAPE Advisory Group.': 1, 'Devesh Rai G': 1, 'Rajesh Aggarwal': 1, 'Amitpal Bhutani': 1, 'Vijai Laxmi': 1, 'Manpreet Singh': 1, 'Anupam Mittal & other marquee investors': 1, 'Ascent Capital': 2, 'eContext Asia': 1, 'Beenos Asia': 1, 'Aarti Group': 1, 'Dr. Aniruddha Malpani Manish Gupta': 1, 'M&S Partners & others': 1, 'Sands Capital and Accel Partners': 1, 'Qualcomm Venture': 1, 'Springboard Ventures': 1, 'Sierra Ventures': 1, 'Cota Capital': 1, 'Vegas Tech Fund': 1, 'RAAY Global Investments': 1, 'Alok Bajpai': 1, 'Rajnish Kumar': 1, 'Amit Dey': 1, 'Atul Jalan': 2, 'Shrikanth & Bharath': 1, 'R Natarajan': 1, 'Group of Angel investors': 2, 'Mayank Bhangdia': 1, 'ID Enablers Pvt Ltd': 1, 'Oswal Techno Ventures LLP': 1, 'undisclosed private investors': 1, 'OrbiMed': 1, 'Pradip Dadha Group': 1, 'Ventureworks India': 2, 'Unnamed investor': 1, '500 Startups & Other HNIs': 1, 'Jupiter Capital': 1, 'Amit Singhal': 1, 'PK Gulati & others': 1, 'Suresh Vaswani': 1, 'Rajesh Bhatia': 1, 'Dheeraj Mehta & Others': 1, 'GREX': 1, 'Puneet Bhatia & others': 1, 'Tania Johny Palathinkal': 1, 'Group of HNI investors': 1, 'Reliance Capital': 1, 'India Quotient & other investors': 1, 'WestBridge Capital': 1, 'Lok Capital': 2, 'CMYK Health Boutique Pvt Ltd & Other individual investors': 1, 'R M Picture Company Pvt. Ltd.': 1, 'Ashish Jhalani': 1, 'Karanpal Singh': 1, 'Ritu Kapur': 1, 'Nalin Jain': 1, 'Shomil Pant': 1, 'Dinesh Kundu & others': 1, 'Temasek': 2, 'Tandem Capital': 1, 'Aloke Bajpai': 1, 'Beenextan investment fund': 1, 'Nanadan Nilekani': 1, 'InMobi': 1, 'Green House Ventures': 2, 'Ankush Nijhawan': 2, 'Manish Dhingra': 3, 'Gaurav Bhatnagar': 3, 'Subodh Gupta': 1, 'Eight Road Ventures': 1, 'Ash Bhardwaj': 1, 'NY based Hedge Fund': 1, 'Cataraman Ventures': 1, 'Anil Matai': 1, 'Vikram Tandon': 1, 'Shyam Sundar R & others': 1, 'Payal Syal': 1, 'Sandeep Dama & Others': 1, 'Oliphans Capital': 3, 'Applyifi': 1, 'High Networth Individuals (No details)': 1, 'Sachin Bansal & Binny Bansal': 1, 'Sangram Singh': 1, 'Subrata Mitra': 1, 'Larry Braitman': 1, 'Venk Krishna': 1, 'Multiple investors': 1, 'Naman Sarawagi': 1, 'International Finance Corporation (IFC)': 1, 'Uday Punj': 1, 'Sanjeev Mehra': 1, 'Prakhar Bumb': 1, 'Rianta Capital': 2, 'Sunil Edwards': 1, 'Karan Bajwa': 2, 'Amanpreet Bajaj': 2, 'Manish Vij': 2, 'Swarnim Multiventures': 1, 'Bhavdeep Reddy': 1, 'Asha Jadeja Motwani & Others': 1, 'Rajat Malhotra': 1, 'Vijay Anand': 1, 'Mohandas Pai. Pallav Nadhani': 1, 'Singapore Angels Network & others': 1, 'William Bissell': 1, 'Neeraj Aggarwal': 1, 'Sateesh Andara & others': 1, 'Smile Multimedia': 1, 'Girish Matrubootham': 1, 'Astarc Ventures & Others': 1, 'Mato Peric & Others': 1, 'Alibaba Group': 1, 'Ant Financial': 1, 'Tennenbaum Capital Partners & Others': 1, 'SAIF Partners.': 2, 'Mayank Singhal and others': 1, 'Uniqorn Ventures': 1, 'Rahul Khanna & Others': 1, 'Knoll Ventures and others': 1, 'Pranay Chulet': 1, 'Naveen Tiwari': 2, 'Viktor Koenig PE Fund': 1, 'Mantra Ventures': 1, 'Mohandas Pai & others': 2, 'VentureNursery': 2, 'Zeeshan Hayat': 1, 'Niraj Singh': 3, 'Nikunj Jain': 2, 'Punit Goyal': 1, 'Kunal Bajaj': 1, 'Chandru Badrinarayanan': 1, 'BedRock Ventures': 1, 'Shailesh Singh': 1, 'Ramesh Jogani': 1, 'Shailesh Viswanathan': 1, 'Jay Srinivasan': 1, 'Gaurav Sharma': 1, 'Viswanath Ramachandran': 2, 'RippleWave': 1, 'Altimeter Capital': 1, 'Sequoia Capital Global Equities': 1, 'Sanjay Sethi': 1, 'Ravi Jaipuria & others': 1, 'CCube Angels': 1, 'Intellecap Impact Investment Network': 2, 'Indus Age Partners': 1, 'India Internet Fund': 1, 'Horizons Ventures': 1, 'Capricorn Investment Group': 2, 'Social+Capital': 1, 'Helion Advisors': 1, 'Berggruen Holdings': 1, 'Inflexionpoint': 1, 'Vindi Banga': 1, 'Wealth First': 1, 'Ashneer Grover': 1, 'Atul Phadnis': 1, 'responsAbility Investments': 1, 'Best Foodworks': 1, 'Nihon Kotsu': 1, 'Neha Vats': 1, 'Gaurav Vats': 1, 'B M Gupta': 1, 'Vinod Singhal': 1, 'QPrize from Qualcomm Ventures': 1, 'Others from LetsVenture': 1, 'Reliance Capital Venture': 1, 'Jungle Ventures & Bessemer Venture Partners': 1, 'Ajeet Khurana & Others': 1, 'ChrysCapital': 1, 'Deep Kalra': 2, 'Rajesh Magow': 1, 'Mohit Gupta': 1, 'Shamik Sharma': 1, 'Girish Mathrubootham &\\xa0 Group of other Angel investors': 1, 'LeapFrog Investments': 1, 'Jitendra Gupta & others': 1, 'Gujarat based angel investors': 1, 'MMY co-Founder': 1, 'Group of angel investors': 3, 'Nalin Jain & other angel investors': 1, 'Vani Kola': 1, 'Karthee Madasamay': 1, 'family office fund': 1, 'Existing & New Investors': 1, 'Rohit Goel': 1, 'Prashant Malik': 1, 'One97 Communications': 1, 'Milliways Ventures': 1, 'Naya Ventures': 1, 'Rohit Bhatia': 1, 'Sunil Nikhar': 1, 'Vaibhav Domkundwar': 1, 'Siddharth Nautiyal': 1, 'Blume Ventures & others': 1, 'Umesh Yadav': 1, 'Ankush Nijhawa': 1, 'AskMe': 1, 'Group of Angel Investors': 15, 'Rudy Gopalakrishnan': 2, 'Amit Ranjan & others': 1, 'The 1947': 1, 'Ajmera Group of Companies': 1, 'Prime Capital Markets Ltd': 1, 'Anupam Mittal & others': 1, 'GrowX ventures': 1, 'and Sahil Barua': 1, 'Draper Fisher Jurvetson': 1, 'LetsVenture investors': 1, 'Group of Investors': 2, 'Ravi Agarwal': 1, 'Ibibo Group': 1, 'Growx Ventures': 1, 'Manish Singhal': 3, 'Equentia Natural Resources': 1, 'Li Tao': 1, 'Li Jian': 1, 'Draphant Consultants': 1, 'Nitin Garg': 1, 'Saurabh Jain': 1, 'Mohit Agarwal': 1, 'P39 Capital & Others': 1, 'Nikhil Vora & others': 1, 'Bessemer Ventures': 2, 'Mohit Satyanand & others': 1, 'Axon Partners': 1, 'Intel Capital': 1, 'Fidelity Growth Partners': 4, 'Mousse Partners': 2, 'Rahul Khanna': 1, 'Gokul Jaykrishna': 1, 'Ajeet Khurana & others': 1, 'Pravin Agarwala & others': 1, 'Hillhouse Capital': 2, 'Atulya Mittal': 1, 'Mangroves Capital Partners': 1, 'Vikas Saxena': 1, 'DMG information Asia Pacific': 1, 'Globeinvestor': 1, 'Abhishekh Goyal': 1, 'Siddharth Parekh': 1, 'Jaydeep Barman': 1, 'Liberty Media': 1, 'Quilvest': 1, 'Sunrise Capital GmBH': 1, 'Big Data Investments B.V': 1, 'Amarpreet Sawhney': 1, 'Deshpande Foundation': 1, 'Fred Khosravi': 1, 'Richard S. Braddock': 1, 'Not Disclosed': 1, 'Mirah Hospitality': 1, 'Shailesh Mehta': 1, 'Empire Angels': 1, 'NGP': 1, 'Dragoneer Investment Group': 1, 'Teruhide Sato': 2, 'Rajeev Saraf': 1, 'Arvind Jha': 1, 'R. Satya Narayanan': 1, 'Kumar Bansal': 1, 'IndianIdeas.com': 1, 'Forum Synergies PE Fund': 1, 'Ritesh Veera': 1, 'HR Technology fund': 1, 'Tamarind Family Private Trust': 1, 'Uday Shankar': 1, 'Chetan Bhagat': 1, 'Sudhir Rao & Others': 1, 'Sumit Gandhi': 1, 'Manish Gandhi': 1, 'Orios Venture Partners.': 1, 'New India Investment Corporation': 1, 'Deepak Singh': 1, 'Vriddhi Fund': 1, 'India Value Fund Advisors': 1, 'Meru Capital': 1, 'Ola': 1, 'Axis Bank': 1, 'Jayant Bokadia': 1, 'MakeMyTrip': 3, 'AB Kinnevik': 1, 'Coatue Management': 1, 'YourWeCan Ventures': 1, 'Varun Agarwal & Others': 1, 'Bertelsmann India Investments Norwest Venture Partners.': 1, 'Steadview Capital and existing investors': 1, 'Traxcn Labs & Others': 1, 'Sandeep Parwal': 1, 'Krishan Gupta & Others': 1, 'Sherpalo Ventures': 1, 'Sachin and Binny Bansal': 2, 'Malvinder and Shivinder Singh': 1, 'Gurpreet Singh & others': 1, 'Tiger Global Management & others': 1, 'LionRock Capital': 1, 'Elliot Stechman': 1, 'Gautam Sinha': 1, 'Ambarish Ray': 1, 'B S Nagesh': 1, 'Jai Choi': 1, 'Kiyohiro Sugashita': 1, 'Hirokazu': 1, 'Oliphabs Capital': 1, 'Saama Capital.': 1, 'InfoEdge': 1, 'Group of 15 Angel Investors': 1, 'Nikunj Jhaveri': 1, 'Srinivas Tirupati': 1, 'Carrick Capital Partners': 1, 'Mumbai Angels & Other angel investors': 1, 'Ennovent Impact Investment Holding': 1, 'Mark Mobius & 9 Other Angel investors': 1, 'DMG Information': 1, 'Singapore Angel Network & Aseem Vadehra': 1, 'Gautam Gandhi': 1, 'Virendra Shahney': 1, 'Dr Paresh Doshi': 1, 'Nirvana Ventures Advisors': 1, 'Morgan Stanley': 1, 'Fidelity Biosciences': 1, 'Snow Leopard': 1, 'Natarajan Iyer': 1, '& other Angel investors.': 1, 'Future Fund': 1, 'Bessemer Venture': 1, 'Capricorn Investment and IFC': 1, 'KCL': 1, 'SVP Fly Dubai & Others': 1, 'M&S Partners Pte. Ltd': 1, 'i2india Pvt Ltd': 1, 'Low Carbon Enterprise Fund': 1, 'Mahesh Pratapneni': 1, 'Pallab Chatterjee & others': 1, 'Patni Family Office': 1, 'Karan Maheshwari': 1, 'Kishor Ganji': 1, 'Roopa Nath': 1, 'LGT Group': 1, 'Asian Healthcare fund': 1, 'Neoteric Infomatique Limited': 1, 'ASK Pravi': 1, 'Gopal Srinivasan': 1, 'Sashi Reddy': 1, 'Sunil Maheshwari & group of investors': 1, 'Foundation Capital': 1, 'Group of Angel Investors from US/India': 1, 'Bunny Bansal & other investors': 1, 'Raju Reddy': 1, 'Sprout Angels LLP': 1, 'AngelPrime': 3, 'Dr David Cheriton': 1, 'Holostik Group': 1, 'Nokia Growth Partners': 1, 'Avalon Ventures': 1, 'Mercury Fund': 1, 'Anshu Sharma': 1, 'Pratyush Prasanna': 1, 'Robert Winters & others': 1, 'Development finance institution Belgian Investment Company': 1, 'Oikocredit': 1, 'Accion Venture Lab': 1, 'Mape Advisory': 1, 'Manish Dugar': 1, 'Angie Mahtaney': 1, 'Omidiyar Network': 1, 'Blume Ventures and Ujama': 1, 'Commonfloor': 1, 'Sameer Koticha': 1, 'Anand Vijay': 2, 'Nipun Dureja': 1, 'Satyajit Heeralal': 1, 'Keith Rodricks': 1, 'Gaurav Lochan': 1, 'Azmul Haque': 1, 'Nikhil Bagri': 1, 'Rishi Vasudev': 1, 'Rajiv Nayan': 1, 'Viraj Tyagi & others': 1, 'Vishwas Patel': 1, 'Multiples Alternate Asset Management': 1, 'S.Gopalakrishnan': 1, 'Florida based Angel investor': 1, 'Praveen Sinha': 1, 'Prototyze': 1, 'Rajendra Gogri': 1, 'Chandrakant Gogri': 1, 'Teru Sato': 1, 'Venkatesh Valluri': 1, 'KJS Group': 1, 'Jay Sethuram': 1, 'Hemant Kanakia': 1, 'Ravi Trivedi': 1, 'Subhash Goyal': 1, 'Peesh Venture Capital': 1, 'MakeMyTrip Innovation Fund': 1, 'SAIF partners': 1, 'Sunergy Investors': 1, 'Anoop Goyal': 1, 'Mike Shah': 1, 'VA Sastry': 1, 'HDFC Bank': 1, 'Sandiep Shrivatsava': 1, 'i2india Ventures': 1, 'Jan Manten': 1, 'Nirvana Venture Advisors': 1, 'Manipal Group': 1, 'Tim Chen': 1, 'Sanjay Venkat': 1, 'Rajesh Sawheny': 1, 'AECAL': 1, 'MeraEvents.': 1, 'Amit Tyagi': 1, 'Sandeep Acharya & others': 1, 'Investment AB Kinnevik': 1, 'Jason Hirschhorn': 1, 'Jarett Posner': 1, 'and Amit Bhatiani': 1, 'Ajit Surana': 1, 'Silicon Valley Ventures': 1, 'NEA Ventures': 1, 'Cisco Investments': 1, 'American Express': 1, 'Ajai Chowdhry': 2, 'Nitin Singhal & Others': 1, 'Sarvesh Shahra & Others': 1, 'Hyderabad based investor': 1, 'TR Capital': 2, 'Helion Venture Partner': 1, 'GSF and Other angel investors': 1, 'Dragoneer Investment': 2, 'Intel Capital & Kae Capital': 1, 'Google Capital & Accel Partners': 1, 'GIC ventures': 1, 'The Phoenix Fund': 1, 'Pearson Learning Fund': 1, 'Nexus venture Partners': 1, 'GFC': 1, 'Version One Ventures': 1, 'Nexus Venture Partners and Arena Ventures': 1, 'Vikas Taneja & others': 1, 'Deepak Shahdadpuri': 1, 'Gulpreet Kohli': 1, 'Accel US': 1, 'S S Mukherji & Others': 1, 'Ah! Ventures': 1, '91SpringBoard': 1, 'Infuse Ventures fund': 1, 'SEEK Ltd & affiliates': 1, 'Cross Border Angels & others': 1, 'Mitsui & Co & existing investors': 1, 'Alok Goel': 2, 'Amit Agrawal': 1, 'Vinay Goel': 1, 'Gaurav Munjal': 1, 'Ashish Dev Kapur': 1, 'Maverick Capital': 1, 'Alok Goel & others': 1, 'Madhukar Gangadi': 1, 'Satish Reddy': 1, 'Srini Raju': 1, 'Srini Koppolu & SIDBI': 1, 'Rajan Anandan & other angel investors': 1, 'Ashish Kashyap': 1, 'Shrem Strategies': 1, 'Tarun Arora': 1, 'IAN Ventures': 1, 'Sequoia Capital.': 1, 'Rocket Internet AG & others': 1, 'Varaprasad Reddy': 1, 'Zishan Hayath': 1, 'GSF': 1, 'Ramesh kavediya': 1, 'I-cube-N': 1, 'Value Fund Advisors': 1, 'Wipro': 1, 'CA Media LP': 1, 'Start Media.': 1, 'Armat Group': 1, 'Wu Chay Chin': 1, 'HT Media': 1, 'Arun Duggal': 1, 'RVCF and SIDBI': 1, 'LightBox Ventures': 1, 'Keystone Group': 1, 'Accion Venture Labs': 1, 'Dr Mushtaq Shah': 1, 'Dr Faraz Naqvi': 1, 'Impact Investment Holding': 1, 'Upaya Social Ventures': 1, 'Greenoaks capital': 1, 'LightSpeed Ventures': 1, 'Indian Quotient': 1, 'Solidarity Venture Capital & others': 1, 'Pittie Group': 1, 'Nick Adams': 1, 'Kiran Bhat': 1, 'Family Pot Investments LLP': 1, 'Rajiv Mody': 1, 'Ajai Chowdhary': 1, 'Tano Capital': 1, 'TA Associates': 2, 'Trinity Ventures': 1, 'InterWest Partners': 1, 'Mohr Davidow Ventures': 1, 'Presidio Ventures': 1, 'Ru-Net': 1, 'Orios Venture Partner': 1, 'Valiant Capital Partners': 1, 'Splice Advisors': 1, 'Ant Financial Services (Alipay)': 1, 'Shashank Mehrotra & Others': 1, 'Tybourne Capital': 2, 'RuNet and Sofina': 1, 'Sequoia Capital India and Omidyar Network': 1, 'Chip Perry': 1, 'Mangrove Capital Partners': 1, 'Parvesh Bareja': 1, 'Sunjay Kapur': 1, 'Suresh Senapaty': 1, 'Srinivas Aluri': 1, 'Srinivas Modukury': 1, 'BS Nagesh': 1, 'Ashok Goel (promoter)': 1, 'Mumbai Angels & Group of other investors': 1, 'Cross Border Angels': 1, 'Venture Nursery Angels Mumbai Angels': 1, 'Brick Eagle': 1, 'DA-IICT': 1, 'Techstars': 1, 'Carnegie Mellon University': 1, 'Startup Brasil program': 1, 'InterGlobe Technology Quotient': 1, 'Lantern Capital': 1, 'Fulcrum Ventures': 1, 'Unitus Seed FundNarayan Ramachandran': 1, 'BC Prabhakar': 1, 'Rajat Jain': 1, 'Sanjay Bhasin': 1, 'Nagaraja Prakasam': 1, 'India Quotient.': 1, 'Venkat Vallabhneni': 1, 'Sudhakar Reddy': 1, 'Srinivasa Rao Paturi': 1, 'DeNA Co.': 1, 'Japan & Teruhide Sato (in Addition to MKS Switzerland & Kris GopalKrishnan)': 1, 'TO THE NEW Ventures': 1, 'Tom Clausen': 1, 'Rohan Ajila': 1, 'Haldyn Glass': 1, 'Akash Agarwal': 1, 'Kevin Parikh': 1, 'Redbright Partners': 1, 'Devesh Sachdev': 1, 'Ashish Tiwari': 1, 'Seedrs Crowd funding platform': 1, 'Kickstarter': 1, 'JS Capital': 1, 'GWB Group': 1, 'TNN Capital & IIG': 1, 'Shankar Mahadevan': 1, 'Deep Kalra & Others': 1, 'Adroitent Pvt. Ltd.': 1, 'Tiger Global & Other investors': 1, 'Cogent E Services': 1, 'Consortium of Angel Investors': 1, 'Hyderabad Angels (at Startup Heroes event)': 5, 'Eduardo Saverin & Velos Capital': 1, 'Premji Invest & Mayfield Fund': 1, 'Amit Rambhia & Others': 1, 'August Capital Partners': 1, 'Michael Blakey': 1, 'ANALEC': 1, 'Kaizen Private Equity': 1, 'People Group (Shaadi.com)': 1, 'Asia Pacific Internet Group': 1, 'KARSEMVEN Fund': 1, 'Exfinity Fund': 1, 'GrowX Ventures.': 1, 'UK based Group of Angel Investors': 1}\n"
     ]
    }
   ],
   "source": [
    "# WE HAVE GOT ALL THE INVESTORS WHO HAVE INVESTED.\n",
    "print(d)"
   ]
  },
  {
   "cell_type": "code",
   "execution_count": 53,
   "metadata": {},
   "outputs": [
    {
     "name": "stdout",
     "output_type": "stream",
     "text": [
      "[64, 53, 44, 41, 40]\n",
      "<class 'list'>\n"
     ]
    }
   ],
   "source": [
    "# THE TOP 5\n",
    "\n",
    "values=[]\n",
    "\n",
    "for e in d.values():\n",
    "    values.append(e)\n",
    "values.sort(reverse=True)\n",
    "values=values[0:5]\n",
    "# HERE WE WILL GET TOP 5 INVESTORS\n",
    "print(values)\n",
    "print(type(values))"
   ]
  },
  {
   "cell_type": "code",
   "execution_count": 56,
   "metadata": {},
   "outputs": [
    {
     "name": "stdout",
     "output_type": "stream",
     "text": [
      "Sequoia Capital 64\n",
      "Accel Partners 53\n",
      "Kalaari Capital 44\n",
      "SAIF Partners 41\n",
      "Indian Angel Network 40\n"
     ]
    }
   ],
   "source": [
    "number=[]\n",
    "investors=[]\n",
    "for value in values:\n",
    "    for key in d:\n",
    "        if d[key]==value:\n",
    "            print(key,d[key])\n",
    "            number.append(d[key])\n",
    "            investors.append(key)\n",
    "# THESE ARE THE TOP 5 INVESTORS WHO HAVE INVESTED MORE NUMBER OF TIMES"
   ]
  },
  {
   "cell_type": "code",
   "execution_count": 57,
   "metadata": {},
   "outputs": [
    {
     "name": "stdout",
     "output_type": "stream",
     "text": [
      "['Sequoia Capital', 'Accel Partners', 'Kalaari Capital', 'SAIF Partners', 'Indian Angel Network']\n",
      "[64, 53, 44, 41, 40]\n"
     ]
    }
   ],
   "source": [
    "print(investors)\n",
    "print(number)"
   ]
  },
  {
   "cell_type": "code",
   "execution_count": 58,
   "metadata": {},
   "outputs": [],
   "source": [
    "# WE CAN SUGGEST THAT , IT IS BETTER TO CONTACT 'Sequoia Capital' AS HE HAS INVESTED MORE NUMBER OF TIMES, IT MIGHT HELP\n",
    "# TO GET THE INVESTMENT FOR HIS COMPANY."
   ]
  },
  {
   "cell_type": "code",
   "execution_count": 61,
   "metadata": {},
   "outputs": [
    {
     "data": {
      "image/png": "[encoded data removed]",
      "text/plain": [
       "<Figure size 432x288 with 1 Axes>"
      ]
     },
     "metadata": {},
     "output_type": "display_data"
    }
   ],
   "source": [
    "plt.pie(number,labels=investors,autopct=\"%.2f%%\",rotatelabels=True)\n",
    "plt.title('INVESTORS')\n",
    "plt.show()"
   ]
  },
  {
   "cell_type": "markdown",
   "metadata": {},
   "source": [
    "#ANSWER\n",
    "Sequoia Capital or [Any Top 5 Investors]  can invest in our Friend's Startup As they have invested more number of times.We have To Contact them to explain our Startup so that they can make their mind to invest in our startup.\n"
   ]
  },
  {
   "cell_type": "markdown",
   "metadata": {},
   "source": [
    "# THIRD QUESTION"
   ]
  },
  {
   "cell_type": "code",
   "execution_count": 186,
   "metadata": {},
   "outputs": [],
   "source": [
    "import pandas as pd\n",
    "import numpy as np\n",
    "import matplotlib.pyplot as plt"
   ]
  },
  {
   "cell_type": "code",
   "execution_count": 187,
   "metadata": {},
   "outputs": [],
   "source": [
    "data=pd.read_csv('startup_funding.csv')"
   ]
  },
  {
   "cell_type": "code",
   "execution_count": 188,
   "metadata": {},
   "outputs": [],
   "source": [
    "df3=data.copy()"
   ]
  },
  {
   "cell_type": "code",
   "execution_count": 189,
   "metadata": {},
   "outputs": [
    {
     "data": {
      "text/html": [
       "<div>\n",
       "<style scoped>\n",
       "    .dataframe tbody tr th:only-of-type {\n",
       "        vertical-align: middle;\n",
       "    }\n",
       "\n",
       "    .dataframe tbody tr th {\n",
       "        vertical-align: top;\n",
       "    }\n",
       "\n",
       "    .dataframe thead th {\n",
       "        text-align: right;\n",
       "    }\n",
       "</style>\n",
       "<table border=\"1\" class=\"dataframe\">\n",
       "  <thead>\n",
       "    <tr style=\"text-align: right;\">\n",
       "      <th></th>\n",
       "      <th>SNo</th>\n",
       "      <th>Date</th>\n",
       "      <th>StartupName</th>\n",
       "      <th>IndustryVertical</th>\n",
       "      <th>SubVertical</th>\n",
       "      <th>CityLocation</th>\n",
       "      <th>InvestorsName</th>\n",
       "      <th>InvestmentType</th>\n",
       "      <th>AmountInUSD</th>\n",
       "      <th>Remarks</th>\n",
       "    </tr>\n",
       "  </thead>\n",
       "  <tbody>\n",
       "    <tr>\n",
       "      <td>0</td>\n",
       "      <td>0</td>\n",
       "      <td>01/08/2017</td>\n",
       "      <td>TouchKin</td>\n",
       "      <td>Technology</td>\n",
       "      <td>Predictive Care Platform</td>\n",
       "      <td>Bangalore</td>\n",
       "      <td>Kae Capital</td>\n",
       "      <td>Private Equity</td>\n",
       "      <td>1,300,000</td>\n",
       "      <td>NaN</td>\n",
       "    </tr>\n",
       "    <tr>\n",
       "      <td>1</td>\n",
       "      <td>1</td>\n",
       "      <td>02/08/2017</td>\n",
       "      <td>Ethinos</td>\n",
       "      <td>Technology</td>\n",
       "      <td>Digital Marketing Agency</td>\n",
       "      <td>Mumbai</td>\n",
       "      <td>Triton Investment Advisors</td>\n",
       "      <td>Private Equity</td>\n",
       "      <td>NaN</td>\n",
       "      <td>NaN</td>\n",
       "    </tr>\n",
       "    <tr>\n",
       "      <td>2</td>\n",
       "      <td>2</td>\n",
       "      <td>02/08/2017</td>\n",
       "      <td>Leverage Edu</td>\n",
       "      <td>Consumer Internet</td>\n",
       "      <td>Online platform for Higher Education Services</td>\n",
       "      <td>New Delhi</td>\n",
       "      <td>Kashyap Deorah, Anand Sankeshwar, Deepak Jain,...</td>\n",
       "      <td>Seed Funding</td>\n",
       "      <td>NaN</td>\n",
       "      <td>NaN</td>\n",
       "    </tr>\n",
       "    <tr>\n",
       "      <td>3</td>\n",
       "      <td>3</td>\n",
       "      <td>02/08/2017</td>\n",
       "      <td>Zepo</td>\n",
       "      <td>Consumer Internet</td>\n",
       "      <td>DIY Ecommerce platform</td>\n",
       "      <td>Mumbai</td>\n",
       "      <td>Kunal Shah, LetsVenture, Anupam Mittal, Hetal ...</td>\n",
       "      <td>Seed Funding</td>\n",
       "      <td>500,000</td>\n",
       "      <td>NaN</td>\n",
       "    </tr>\n",
       "    <tr>\n",
       "      <td>4</td>\n",
       "      <td>4</td>\n",
       "      <td>02/08/2017</td>\n",
       "      <td>Click2Clinic</td>\n",
       "      <td>Consumer Internet</td>\n",
       "      <td>healthcare service aggregator</td>\n",
       "      <td>Hyderabad</td>\n",
       "      <td>Narottam Thudi, Shireesh Palle</td>\n",
       "      <td>Seed Funding</td>\n",
       "      <td>850,000</td>\n",
       "      <td>NaN</td>\n",
       "    </tr>\n",
       "  </tbody>\n",
       "</table>\n",
       "</div>"
      ],
      "text/plain": [
       "   SNo        Date   StartupName   IndustryVertical  \\\n",
       "0    0  01/08/2017      TouchKin         Technology   \n",
       "1    1  02/08/2017       Ethinos         Technology   \n",
       "2    2  02/08/2017  Leverage Edu  Consumer Internet   \n",
       "3    3  02/08/2017          Zepo  Consumer Internet   \n",
       "4    4  02/08/2017  Click2Clinic  Consumer Internet   \n",
       "\n",
       "                                     SubVertical CityLocation  \\\n",
       "0                       Predictive Care Platform    Bangalore   \n",
       "1                       Digital Marketing Agency       Mumbai   \n",
       "2  Online platform for Higher Education Services    New Delhi   \n",
       "3                         DIY Ecommerce platform       Mumbai   \n",
       "4                  healthcare service aggregator    Hyderabad   \n",
       "\n",
       "                                       InvestorsName  InvestmentType  \\\n",
       "0                                        Kae Capital  Private Equity   \n",
       "1                         Triton Investment Advisors  Private Equity   \n",
       "2  Kashyap Deorah, Anand Sankeshwar, Deepak Jain,...    Seed Funding   \n",
       "3  Kunal Shah, LetsVenture, Anupam Mittal, Hetal ...    Seed Funding   \n",
       "4                     Narottam Thudi, Shireesh Palle    Seed Funding   \n",
       "\n",
       "  AmountInUSD Remarks  \n",
       "0   1,300,000     NaN  \n",
       "1         NaN     NaN  \n",
       "2         NaN     NaN  \n",
       "3     500,000     NaN  \n",
       "4     850,000     NaN  "
      ]
     },
     "execution_count": 189,
     "metadata": {},
     "output_type": "execute_result"
    }
   ],
   "source": [
    "df3.head()"
   ]
  },
  {
   "cell_type": "code",
   "execution_count": 193,
   "metadata": {},
   "outputs": [
    {
     "data": {
      "text/plain": [
       "SNo                    0\n",
       "Date                   0\n",
       "StartupName            0\n",
       "IndustryVertical     171\n",
       "SubVertical          936\n",
       "CityLocation         179\n",
       "InvestorsName          8\n",
       "InvestmentType         1\n",
       "AmountInUSD          847\n",
       "Remarks             1953\n",
       "dtype: int64"
      ]
     },
     "execution_count": 193,
     "metadata": {},
     "output_type": "execute_result"
    }
   ],
   "source": [
    "df3.isnull().sum()"
   ]
  },
  {
   "cell_type": "code",
   "execution_count": 190,
   "metadata": {},
   "outputs": [],
   "source": [
    "#df3['InvestorsName'].dropna(inplace=True)\n",
    "    "
   ]
  },
  {
   "cell_type": "code",
   "execution_count": 201,
   "metadata": {},
   "outputs": [],
   "source": [
    "#df3['InvestorsName'].isnull().sum()"
   ]
  },
  {
   "cell_type": "code",
   "execution_count": 195,
   "metadata": {},
   "outputs": [],
   "source": [
    "right={}\n",
    "left={}\n",
    "for index,row in df3.iterrows():\n",
    "    name=row['StartupName']\n",
    "    name=str(name)\n",
    "    name=name.lower()\n",
    "    l1=name.split()\n",
    "    l2=name.split('.')\n",
    "    #CHECKING FOR ALL THE POSSIBILTIES\n",
    "    if 'ola' in l1 or 'ola' in l2 or 'olacabs' in l1:\n",
    "        req_startup = 'Ola'\n",
    "    elif 'flipkart' in l1 or 'flipkart' in l2:\n",
    "        req_startup = 'Flipkart'\n",
    "    elif 'oyo' in l1 or 'oyo' in l2 or 'oyorooms' in l1:\n",
    "        req_startup = 'Oyo'\n",
    "    elif 'paytm' in l1 or 'paytm' in l2:\n",
    "        req_startup = 'Paytm'\n",
    "    elif 'snapdeal' in l1 or 'snapdeal' in l2:\n",
    "        req_startup = 'Snapdeal'\n",
    "    elif 'urbanclap' in l1 or 'urbanclap' in l2:\n",
    "        req_startup = 'UrbanClap'\n",
    "    elif 'jugnoo' in l1 or 'jugnoo' in l2:\n",
    "        req_startup = 'Jugnoo'\n",
    "    else:\n",
    "        req_startup = name\n",
    "    \n",
    "    invest=row['InvestorsName']\n",
    "    invest=str(invest)\n",
    "    invest=[i.strip() for i in str(invest).split(',')]\n",
    "    \n",
    "    for j in invest:\n",
    "        if j=='':  # IF IT IS EMPTY STRING IT WILL CONTINUE\n",
    "            continue\n",
    "        fullname=req_startup+','+j\n",
    "        \n",
    "        if fullname in right: # IF THAT COMBINATION IS ALREADY PRESENT IT WILL CONTINUE\n",
    "            continue   \n",
    "        else:  # IF NOT IT WILL BE ASSIGNED TO 1 \n",
    "            right[fullname]=1\n",
    "            \n",
    "            arr=fullname.split(',')\n",
    "            investors=arr[1] # WE WILL GET INVESTORS NAME FROM THAT\n",
    "            \n",
    "            if investors in left: #IF IT IS PRESENT IT WILL INCREMENTED BY 1\n",
    "                left[investors]+=1\n",
    "            else:\n",
    "                left[investors]=1 #IT WILL BE ASSIGNED TO 1\n",
    "#print(left)  "
   ]
  },
  {
   "cell_type": "code",
   "execution_count": 196,
   "metadata": {},
   "outputs": [
    {
     "name": "stdout",
     "output_type": "stream",
     "text": [
      "{'Kae Capital': 20, 'Triton Investment Advisors': 1, 'Kashyap Deorah': 3, 'Anand Sankeshwar': 2, 'Deepak Jain': 1, 'Sadashiva NT': 1, 'Arjun Mehta': 1, 'Satish Kaul': 1, 'Anindya Ghose': 1, 'Kunal Shah': 17, 'LetsVenture': 17, 'Anupam Mittal': 18, 'Hetal Sonpal': 1, 'Narottam Thudi': 1, 'Shireesh Palle': 1, 'Reliance Corporate Advisory Services Ltd': 1, 'Infuse Ventures': 8, 'JLL': 2, 'Asset Management (Asia) Ltd': 1, 'Digital Garage Inc': 1, 'Kalaari Capital': 39, 'Nexus India Capital Advisors': 1, 'International Finance Corporation': 2, 'Rocketship': 2, 'Accel Partners': 46, 'Jungle Ventures': 11, 'Shailesh Rao': 1, 'Venture Highway': 3, 'BCCL': 1, 'Blume Ventures': 36, 'Contrarian Capital India Partners': 1, 'Emergent Ventures India': 1, 'Pallav Nadhani': 4, 'Ashish Gupta': 5, 'Sharad Sharma': 4, 'Sirion Labs': 1, 'nan': 8, 'India Quotient': 17, 'Shunwei Capital': 3, 'Sreeram Iyer': 1, 'Suvo Sarkar': 1, 'Anita Gupta': 1, 'Likemind Ventures': 1, 'Mitsui & Co.': 2, 'Dunamis Ventures Pte Ltd': 1, 'Venture Catalysts': 7, 'Sourav Ganguly': 1, 'Ankit Aditya': 1, 'Moksh Sports Ventures': 1, 'Fireside Ventures': 5, 'Apurva Salarpuria': 1, 'Sidharth Pansari': 2, 'Sprout Capital': 1, 'SBI-FMO Fund': 1, 'Bessemer Venture Partners': 12, 'Catamaran Ventures': 2, 'Corvus Ventures': 2, 'MAPE Advisory Group': 2, '500 Startups': 19, 'Purvi Capital': 3, 'Rajan Anandan': 23, 'Abhishek Gupta': 2, 'Indian Angel Network': 40, 'Brigade Innovations LLP': 1, 'TV Mohandas Pai': 14, 'Suhail Rahman': 1, 'Bobby Reddy': 1, 'M George Oommen': 1, 'Blacksoil Capital Pvt. Ltd': 1, 'Sequoia Capital': 46, 'Grey Orange': 1, 'Rajesh Ramaiah': 1, 'Anshuman Das': 1, 'Rishi Das': 1, 'IDG Ventures India Advisors': 1, 'One97 Communication Ltd': 1, 'Uber Technologies Inc': 1, 'Amaya Capital LLP': 1, 'Xelpmoc': 2, 'ain Capital Ventures': 1, 'Renaud Laplanche': 1, 'Francesco Cara': 1, 'ABI-Showatech (India) Ltd': 1, 'M&S Partners': 7, 'Subramani Somasundaram': 1, 'Sundeep Sahni': 1, 'Mayank Mittal & Others': 1, 'Harmeet Bajaj': 1, 'Pameela P': 1, 'Fusiontech Ventures & Others': 1, 'Sunil Kalra': 5, 'Aditya Singh': 1, 'Rishi Srivastava': 1, 'NB Ventures': 3, 'Nspira': 1, 'Stellaris Venture Partners': 3, 'Tencent Holdings': 3, 'Yuvraj Singh': 2, 'Goldman Sachs': 6, 'Anand Mahindra': 4, 'HBM Healthcare Investments': 1, 'Maverick Capital Ventures': 1, 'Sequoia India': 14, 'Omidyar Network and Kae Capital': 1, 'Amen Dhyllon': 1, 'Info Edge (India) Ltd': 6, 'RoundGlass Partners': 10, 'Grace Grace Techno Ventures LLP': 1, 'Rajul Garg & Other undisclosed investors': 1, 'TVS Motor Company': 1, 'Emerging India': 1, 'blockchain ecosystem Global Advisors': 1, 'Horseferry': 1, 'Sandeep Tandon': 14, 'Arun Patodia': 1, 'Bharat Kedia': 1, 'IvyCap Ventures': 7, 'Harsh Mahajan': 1, 'Farhan Naqvi': 1, 'Sreepathy Viswanathan': 1, 'Sundaram Finance Holdings': 1, 'SBI (Stand Up India Scheme)': 1, 'WaterBridge Ventures': 3, 'SQue Capital': 2, 'Bodhtree Consulting Limited': 1, 'Norwest Venture Partners': 12, 'Mohan Alexander': 1, 'R. Natarajan': 1, 'Vikrant Varshney': 1, 'Amit Sinha': 1, 'Pawan Borle': 2, 'Nirmal Singh': 1, 'Manish Prasad': 1, 'Vineet Varma': 1, 'Nick Haulkoury': 1, 'Abhai S. Rao': 1, 'Dr Ramesh Ayyala': 1, 'Satya Muthyala': 1, 'Cao Yibin': 1, 'Huang Wei': 1, 'Madhusudan E': 1, 'Yes Bank': 1, 'Unicorn India Ventures': 5, 'Venky Krishnakumar': 1, 'Suresh Shankar': 1, 'Vivek Bhargava': 4, 'Alfa Capital': 1, 'Green Shots Capital': 1, 'Real Time Ventures': 1, 'Artha India Ventures': 1, 'Singularity Holdings': 1, 'Girish Mathrubootham': 13, 'Transamerica': 1, 'Nexus Venture Partners': 21, 'Founders Fund': 1, 'Omidyar Network': 15, 'Fairfax Holdings': 1, 'Tekne Capital Management LLC': 1, 'RB Investments': 9, 'undisclosed investors': 12, 'NEA': 3, 'Prime Venture Partners': 6, 'Mekin Maheshwari': 4, 'Mohammed Khan': 1, 'Sameer Narayan & Others': 1, 'Alphard Maritime Group': 1, 'Cross Border Angels & Experts': 2, 'Rajasthan Angel Innovators Network': 2, 'The Chennai Angels': 11, 'YouWeCan Ventures': 11, 'BLIP Initiatives': 1, 'Eight Roads Ventures': 7, 'Lightspeed India Partners': 4, 'Endiya Partners': 5, '3one4 Capital Advisors LLP': 1, 'Startupxseed Ventures LLP': 1, '91maker.com': 1, 'Paytm': 7, 'IIFL Seed Ventures': 1, 'FJ Labs': 1, 'Singularity Ventures': 3, 'GrowX': 1, 'Tracxn Labs': 13, 'Axis Capital': 2, 'Manipal Education and Medical Group (MEMG)': 1, 'SAR Group': 1, 'The Grover Trust': 1, 'iBhubs': 1, 'UC-RNT Fund': 1, 'Matrix Partners': 13, 'alcon Edge Capital': 1, 'DSG Consumer Partners': 8, 'General Catalyst': 1, 'Founder Collective': 1, 'Ventureast': 3, 'Bharat Vijay': 1, 'Krish Seshadri': 1, 'Amar Arsikere': 1, 'IFMR': 1, 'and MAS Financial Services Ltd': 1, 'Undisclosed investors': 28, 'Mohit Srivastav': 1, 'Kishore Ganji': 1, 'Venkat Vallabhaneni': 1, 'Rajeev Menon': 1, 'Naspers': 1, 'Seedfund': 4, 'RB International': 1, 'Snow Leopard Ventures': 1, 'Alto Partners': 1, 'Gujarat Venture Finance Ltd': 1, 'Anthill Scale Ventures': 1, 'Esvee Technologies Inc': 1, 'Inc95 Consulting': 1, 'Aparup Sengupta': 1, 'Devendra Reddy': 1, 'Udayan Goyal': 1, 'SAP.iO': 1, 'Unilazer Ventures': 4, 'Abhinav Bindra': 1, 'Gaurav Marya': 1, 'Zeta': 1, 'Undisclosed Investors': 32, 'Vy Capital': 3, 'SAIF Partners': 29, 'Accel Partner': 2, 'Clairvest Group': 1, 'Hyderabad Angels': 9, 'Nandan Nilekani': 10, 'Dutch government fund': 1, 'Falcon Edge Capital': 4, 'Capital Advisers': 1, 'Asuka Holdings': 2, 'Beenext': 7, 'Beenos': 7, 'Nimit Panigrahi': 2, 'Hinduja family': 1, '50K Ventures': 3, 'Rainmatter': 4, 'Rainbow Digital Services Pvt. Ltd': 1, 'ILearnFinance Academy Pvt. Ltd.': 1, 'Indian Angels Network': 2, 'Deepak Nathani': 3, 'Ajay Relan': 3, 'Vertex Ventures': 6, 'C31 Ventures': 1, 'RNT Capital': 1, 'Gokul Rajaram': 2, 'Aditya Agarwal': 2, 'Ruchi Sanghvi & others': 1, 'Satoshi Studios': 1, 'Anand Chandrasekaran': 13, 'Luxasia Group': 1, 'GVFL': 3, 'Vellayan Subbiah': 2, 'Jonathan Boutelle': 1, 'Rahul Chawla': 1, 'Salil Donde': 1, 'Amit Ranjan': 7, 'Govind Rajan & Others': 1, 'Times Internet': 10, 'InnoVen Capital': 3, '1Crowd': 3, 'Varsha Rao': 1, 'Surojit Chatterjee': 1, 'Nirav Choksi & Others': 1, 'DG Ventures India': 1, 'Dewan Housing Finance Corp': 1, 'Chirag Nikunj Sheth & Others': 1, 'Aakrit Vaish': 1, 'Swapan Rajdev': 1, 'Sushill Jiwarajka': 1, 'Impanix Capital': 1, 'GEMs': 1, 'Infibeam': 2, 'CCavenue': 1, 'IdeaSpring Capital': 1, 'Kstart Capital': 1, 'SAP': 1, 'Innovations East': 1, 'Ayesha Takia Azmi': 1, 'Abu Farhan Azmi': 1, 'Dr. Ritesh Malik': 2, 'SoftBank Group': 4, 'Dheeraj Pandey': 1, 'Rajesh Yohannan': 2, 'Akash Garg': 1, 'Ankur Capital': 1, 'Gokaldas Exports Ltd': 1, 'Fosun International': 1, 'Eagle10 Ventures': 1, 'Lightspeed Venture Partners': 10, 'Ratan Tata': 29, 'Uday Kotak': 2, 'Vijay Shekhar Sharma': 11, 'Kiran Mazumdar-Shaw': 2, 'Rajiv C Mody': 1, 'Trifecta Capital': 9, 'Blue Orchard': 1, 'Lahiri Music’s family office': 1, 'PV Sahad': 1, 'Sandeep Shroff': 1, 'Rahul Gupta': 1, 'Carpediem Capital': 2, 'Soma Capital': 1, 'Great Oaks Ventures': 1, '122 West Ventures': 1, 'Nasper': 1, 'Accel India': 3, 'Harmony Partners': 1, 'Rohto Pharmaceutical': 1, 'Waterbridge Ventures': 1, 'Mathew Cyriac': 2, 'Florintree Advisors': 1, 'Bertelsmann India': 3, 'Matrix Partners India': 7, 'Quadria Capital Advisors': 1, 'Rohitash Gupta': 1, 'Unicorn India Ventures & Others': 1, 'Aspada Investments': 1, 'Helion Venture Partners': 13, 'Powerhouse Ventures': 3, 'Aneesh Reddy': 6, 'Vispi Daver': 1, 'Keyur Joshi': 1, 'Pavan Bakeri': 1, 'Koen Bouwers': 1, 'Lomesh Agarwal': 1, 'Jeroen Mensen': 1, 'Pablo van den Bosch & Others': 1, 'Deepak Kulkarni': 1, 'Sandeep Pangal': 1, 'Zephyr Peacock India': 1, 'FreakOut Group': 1, 'Herb Madan': 1, 'Mahindra Partners': 1, 'F-Prime Capital Partners': 2, 'Ishwar Singh': 1, 'Farhaan Shabbir': 1, 'Orios Venture Partners': 10, 'Labruyere Eberlé': 1, 'CyberAgent Ventures': 1, 'GrowX Ventures': 4, 'IMJ Investment Partners': 1, 'L.D Sharma': 1, 'Saurabh Arora': 1, 'Mahindra and Mahindra Financial Services': 1, 'Nandan Nilekani’s NRJN Trust': 1, 'Mistletoe': 2, 'Qualcomm Ventures': 7, 'Philippe Bouchet': 1, 'Sushil Kumar': 1, 'Sandeep Singh': 1, 'Ivycap Ventures Advisors': 1, 'Singularity Ventures and Ravi Dhariwal': 1, 'Mayfield': 3, 'Nishant Rao': 1, 'Dileep Nath': 1, 'DHI Group Inc': 1, 'Digital Garage': 4, 'BizReach': 1, 'Contrarian Capital': 1, '91springboard': 1, 'Emergent Ventures': 2, 'Abstract Ventures': 1, 'Anthill Ventures': 1, 'Axilor Ventures': 11, 'R Ramaraj': 2, 'Z Nation Lab': 1, 'Redcliffe Capital': 2, 'Urrshila Kerkar': 1, 'SIMI Pacific Pte': 1, 'mall Industries Development Bank of India (SIDBI)': 1, 'Tolaram Inc': 1, 'Mountain Pine Capital': 1, 'Benori Ventures LLP': 1, 'Jacqueline Fernandez': 1, 'Nibhrant Shah': 1, 'Anandbir Singh': 1, 'Anirudh Sheth': 1, 'Pratik Singhi': 1, 'Vikram Mehta': 1, 'Murali Nair': 1, 'Gaurav Kachru': 1, 'Sundeep Singh Sahni': 1, 'Jatin Aneja': 2, 'Arun Malhotra': 1, 'Village Capital': 1, 'Anicut Capital': 1, 'IndiaNivesh Venture Capital Fund': 1, 'Ideaspring Capital': 3, 'Exfinity Venture Partners': 6, 'Undisclosed Investor': 10, 'SIDBI Venture Capital Ltd': 3, 'Ankit Nagori': 3, 'Ravi Garikipati': 3, 'Surot Chatterjee': 1, 'Ashish Agrawal': 1, 'LG Chandrasekhar': 1, 'Sashi Reddi': 2, 'Ligthbox Ventures II': 1, 'Lightbox Expansion Fund': 1, 'Sequoia Capital India': 7, 'RuNet South Asia': 1, 'SoftBank Vision Fund': 1, 'Sequoia Capital India Advisors': 1, 'Greenoaks Capital Partners': 1, 'WGG International': 1, 'pi Ventures': 3, 'Binny Bansal': 9, 'Arun Tadanki': 3, 'Aditya Verma': 1, 'DAH Beteiligungs GmbH': 1, 'S. Xavier Britto': 1, 'Orios Ventures Partners': 1, 'Team Builder Ventures': 1, 'Omidyar Networks': 2, 'Agnus Capital': 3, 'Khattar Holdings': 2, 'GardX International': 1, 'BlackSoil Capital Pvt. Ltd': 1, 'Poshika Financial Ecosystem': 1, 'SoftBank Group Corp': 1, 'Calcutta Angels Network (CAN)': 1, 'Augment Ventures': 2, 'Vishwadeep Bajaj': 1, 'Harsh Kundra': 1, 'Nandkumar Rane': 1, 'LN Buddharaju': 1, 'Anupam Tyagi': 1, 'Langoor': 1, 'Quona Capital': 1, 'Chandigarh Angels Network': 3, 'Social Alpha and other unnamed angel investors': 1, 'Bhupen Shah': 1, 'Jayesh Parekh': 1, 'Sanjay Sathe': 1, 'Sandeep Aggarwal': 3, 'Gautam Chhaochharia': 1, 'R Balachandar': 1, 'Bennett': 3, 'Coleman and Company Ltd': 2, 'Undisclosed angel investors': 1, 'Alibaba': 2, 'CDC Group Plc': 1, 'Atul Nishar': 3, 'Aneesh Seth': 1, 'Tushar Mittal': 1, 'SIDBI Venture Capital Fund': 1, 'Star India Pvt Ltd': 1, 'IDFC Parampara Early Stage Opportunities Fund': 1, 'National Science and Technology Entrepreneurship Development Board': 1, 'IDG Ventures India': 15, 'Michael & Susan Dell Foundation': 4, 'Draper Associates': 1, 'Unitus Seed Fund': 16, 'Private Sector Banks (Debt Funding)': 1, 'IDG ventures': 1, 'Y Combinator': 2, 'SEGNEL Ventures': 1, 'Deepak Gurnani': 1, 'Times Internet Ltd': 3, 'Singapore Angel Network': 12, 'Asuka': 1, 'Pravega Ventures': 2, 'BEENEXT': 6, 'Cyber Carrier': 1, 'Florintree': 1, 'Chidambaram Palaniappan': 1, 'Bharat Sheth': 1, 'IDG Ventures': 19, 'Saha Fund': 3, 'Puneet Gupta': 2, 'Nimitt Desai & Others': 1, 'GREE Ventures': 2, 'Kalaari Capital and IDG Ventures India': 1, 'Summit Media': 1, 'Atul Goel': 1, 'and Gurpreet Singh': 1, 'Sujeet Kumar': 4, 'Bhupender Singh': 1, 'Yashish Dhaiya': 1, 'Microsoft': 1, 'eBay': 1, 'Rakesh and Rajesh Jhunjhunwala': 1, 'L’Occitane': 1, 'Shripad Nadkarni': 2, 'Nandu Nandkishore': 1, 'Ravi Saxena': 1, 'Sandeep Raju': 1, 'Kinzon Capital': 1, 'FTV Capital': 1, 'Zodius Capital': 5, 'Ojas Ventures': 1, 'Mahavir Sharma': 1, 'Vishal Jain': 1, 'Rohit Sethi': 1, 'Gaurav Luniya': 1, 'Carlyle Group': 1, 'Tiger Global': 21, 'Vikas Bajaj': 1, 'Amit Kharbanda': 1, '3one4 capital': 1, 'Brand Capital': 13, 'Ankit Gupta': 1, 'Puneet Motihar': 1, 'KStart Capital': 1, 'Verlinvest': 2, 'Mayfield India': 5, '3one4 Capital': 4, 'Sistema Asia Fund': 3, 'Neoplux Technology Fund': 1, 'Vinod Martin': 1, 'Hemant Kaul': 1, 'Prof. Ram Kumar Kakani & Others': 1, 'JSW Ventures': 3, 'VenturEast': 1, 'Meher Roy': 1, 'Nikhil Arora': 1, 'Meet Kanodia': 1, 'Krit Sankalp': 1, 'Nitish Singh': 1, 'Risabh Gupta': 1, 'Om Chaudhry': 1, 'Malini Patel': 1, 'Stelcore Management Services': 1, 'Anjani Prasad': 1, 'Samridhi Fund': 1, 'Intex Technologies': 1, 'Satveer Thakral': 1, 'Mumbai Angels': 16, 'B Capital Group': 1, 'Ignition Partners': 1, 'Greycroft': 1, 'e.ventures': 2, 'Satya D Sinha': 1, 'Gyanendra Singh': 1, 'IFMR Capital Finance': 1, 'Jaarvis Accelerator': 1, 'Batlivala & Karani Securities': 2, 'Venture Works': 2, 'Earlsfield Capital': 3, 'Temasek Holdings': 1, 'Japan Vyas': 1, 'Tarun Adlakha': 1, 'Facebook FB Start programme': 1, 'Ganesh Natarajan': 2, 'Amereus Group': 1, 'Helion Ventures': 6, 'Al Dhaheri family': 1, 'ThinQbate': 1, 'VH Capital': 1, 'Axilor Partners': 1, 'Lumis Partners': 3, 'Anil Jain & other HNIs': 1, 'Kleiner Perkins': 1, 'Pine Brook': 1, 'Mohit Joshi & Others': 1, 'Mahalingam K': 1, 'Vikram Sud': 2, 'Punit Soni': 2, 'Utsav Somani': 2, 'Vishal Gondal': 3, 'Vikram Limaye': 1, 'PayU': 2, 'Ribbit Capital': 2, 'Quake Capital': 1, 'Kalaari Capital Partners': 1, 'Qualcomm': 2, '3ONE4 Capital Advisors': 1, 'UC-RNT': 1, 'SRI Capital': 5, 'Aprameya Radhakrishna': 12, 'Deepak Natraj': 1, 'Mahesh Murthy': 2, 'Pavan Ongole': 3, 'Sandeep Mathur': 1, 'Vijay Shekhar Sharma & Others': 1, 'Steadview Capital': 4, 'Konglo Ventures': 2, 'White Unicorn Ventures': 2, 'BookMyShow': 1, 'Facebook FBStart': 3, 'Coleman and Co. Ltd (BCCL)': 1, 'Softbank Ventures Korea': 1, 'IMM Investment': 1, 'Indian Angel Network (IAN)': 2, 'Sunil Munjal': 2, 'Nitin Saluja': 1, 'Gagan Goyal': 1, 'Pankaj Rungta': 1, 'Yogesh Agarwal': 1, 'Ishan Manaktala': 1, 'Chandigarh Angels': 1, 'Rohit': 1, 'Ashish Chand': 1, 'Sunil Singh & Others': 1, 'Paragon Trust': 1, 'Sands Capital': 1, 'IFC': 2, 'Flipkart': 9, 'Sanjiv Rangrass': 1, 'V Balakrishnan': 2, 'PV Srinivasan': 1, 'K2 Capital': 1, 'Rajiv Mehta': 3, 'Ramakant Sharma': 2, 'Vishal Malik': 1, 'DanGold Investment Corp': 1, 'Marico Innovation Foundation (MIF)': 1, 'Villgro': 2, 'India Nivesh Growth Fund': 1, 'Sixth Sense': 1, 'TCI Ventures': 1, 'Jasper Infotech Pvt Ltd': 1, 'Alibaba Pictures': 1, 'BlackSoil Capital Pvt Ltd': 1, 'Vedanta Capital': 1, 'William Campbell': 1, 'Toos N Daruvala': 1, 'Aavya Ventures': 1, 'Evan Lim': 1, 'Kanchan Ghoshal': 1, 'Ram Kumar Kakani': 1, 'Ronnie Screwvala': 1, 'Zishaan Hayath': 9, 'Karan Chellani': 2, 'Mohit Satyan': 1, 'Lohia Group': 1, 'Andre Hoffman': 1, 'Deutsche Telekom Strategic Investments & Others': 1, 'Vividhity Ventures': 1, 'Parampara Early Stage Opportunities Fund & Others': 1, 'Harsh V. Pant': 1, 'Ratheesh Raveendran': 1, 'Innoven Capital': 4, 'Quarizon': 6, 'Menterra Social Impact Fund': 2, 'Tencent': 1, 'ru-Net': 4, 'RSI Fund': 1, 'Thrive Capital': 1, 'India Quotient and others': 1, 'Ajith Nair': 2, 'Anish K': 1, 'Amajit Gupta': 1, 'Praveen Dubey': 1, 'J.P. Bhatt': 1, 'Rajasthan Venture Capital Fund': 1, 'Mumbai Angels Network': 1, 'SB Ventures': 1, 'Native Angels Network': 1, 'SD Group': 1, 'Jungle Venture Partners': 1, 'IvyCamp Ventures': 2, 'Umang Moondra': 1, 'Undisclosed investor': 9, 'Singapore based investor': 1, 'YourNest Fund II': 1, 'CapitalG': 1, 'India Educational Investment Fund': 5, 'Indochine International': 1, 'Iron Pillar and IIFL': 1, 'GMO Japan': 1, 'Neelesh Bhatnagar': 1, 'East Ventures & Others': 1, 'Alok Mittal & others': 1, 'Senovo': 1, 'Unternehmertum Venture Capital': 1, 'Alexander Bruehl': 1, 'ABM Knowledgeware': 1, 'Dream Incubator': 1, 'V Aanand R': 1, 'Puthen & Cole': 1, 'Sanjay Mehta & Others ( The Ten Minute Million)': 1, 'The Ten Minute Million': 3, 'Chandigarh Angels Network (CAN)': 1, 'Grace Capital Ventures': 2, 'Soham Vencaps': 1, 'American Express Ventures': 2, 'Cyber Carrier VC': 1, 'AdvantEdge Partners': 3, 'Songhyun Investment': 1, 'Undisclosed': 9, 'GEMs Advisory': 1, 'Franchise India': 2, 'Lakshmi Vilas Bank & undisclosed HNIs': 1, 'Info Edge (India)': 2, 'Ajith Sukumaran': 1, 'Currae Healthtech Fund': 3, 'Eros Labs': 2, 'Investors from Mumbai Angels & LetsVenture': 1, 'Mohan Kumar': 1, 'V. Balakrishnan': 1, 'Edelweiss Private Equity': 3, 'Venk Krishnan': 4, 'MJ Aravind': 1, 'Vikram Kotak': 1, 'Jayant Davar': 1, 'Ramkumar Nishtal': 1, 'Arjun Sharmaa': 1, 'Calcutta Angel Network': 1, 'Appliyifi': 1, 'Max Ventures and Industries': 1, 'Verlinvest SA': 1, 'Axilor': 1, 'Siddhartha Gupta': 1, 'Ashvin Chadha': 5, 'Rajul Garg': 7, 'Rajesh Yabaji': 1, 'Chanakya Hridaya': 1, 'Ramasubramaniam B': 1, 'Vishwanathan': 1, 'Nobel House': 1, 'Sunstone Capital': 1, 'Zodius Technology Opportunities Fund': 2, 'FiNC': 1, 'GHV': 1, 'Lead Angels Network': 1, 'Anbu Pandian': 2, 'Prabhakar MR & Others': 1, 'V. Krishna Prasad': 1, 'Bhupen Shah & Others': 1, 'Swastika Investmart Ltd': 1, 'Digital Financial Service Lab': 1, 'WRV Capital and IndusAge Partners': 1, 'Infosys Innovation Fund': 1, 'Emerald Media': 2, 'Premji Invest': 1, 'North Base Media': 2, 'Aarin Capital': 7, 'Epsilon Venture Partners': 1, 'GEMS Advisory': 1, 'KTB Network': 1, 'Cyber Carrier CL': 1, 'International Financial Corporation': 1, 'Dr. Apoorv Ranjan Sharma': 2, 'Anil Jain': 1, 'Anuj Golecha': 1, 'Krishna Jhunjhunwala': 1, 'Anirudh Damani': 6, 'Let’s Venture': 1, 'Fireside Ventures & Others': 1, 'HCS Venture capital fund': 1, 'Taxmann': 1, 'Kaushal Agarwal': 1, 'Harminder Sahani': 1, 'KK Mehra': 1, 'Pranay Jivrajka': 2, 'Navjot Saini': 1, 'Ivy League Alumni Angel Network': 1, 'Incubate Fund': 1, 'Lead Angels Group & Others': 1, 'Pradyumna Dalmia': 2, 'S. Somasegar & Others': 1, 'Ritesh Mehta': 1, 'Aruna Ganesh Ram': 1, 'Sachin Bansal': 5, 'Lead Angels': 5, 'CoCreate Ventures': 1, 'Kaleden Holdings': 1, 'Kedar Lele': 1, 'GHV Accelerator': 3, 'Calcutta Angels Network': 2, 'Raman Roy': 2, 'Yogesh Andlay': 1, 'Vaibhav Jain': 1, 'Gati Ltd': 1, 'Aavishkaar Venture Management': 1, 'Ameera Shah': 3, 'A M Sikander': 1, 'Warburg Pincus': 4, 'Justin Kan': 1, 'Qasar Younis': 1, 'Paul Bucche': 1, 'Susa Ventures': 1, 'Kima Ventures': 1, 'Axan Venture': 1, 'SCM Holdings': 1, 'ADAG Reliance Private Equity': 1, 'YourNest Angel Fund': 10, 'iSON': 1, 'Gleevoaz Ventures': 1, 'Arun Seth': 1, 'T.V. Mohandas Pai': 1, 'Deepak Ghaisas': 1, 'RTP-HC': 1, 'Wonder Ventures': 1, 'Techstars Ventures & Others': 1, 'Pramod Bhasin': 4, 'Times of India Group & Existing investors': 1, 'R.S Sharma': 1, 'Omnivore Capital': 1, 'Hitesh Windlass': 1, 'Devdeep Singh': 1, 'Khosla Impact': 3, 'Softbank Group': 1, 'YMS Mobitech': 1, 'Sanjai Vohra': 1, 'V. Bunty Bohra': 1, 'Undisclosed multiple investors': 1, 'Delta Partners': 1, 'Blacksoil': 1, 'Lightspeed Venture Partners India': 1, 'Lightspeed US': 1, 'Dr. Pooja Gandhi': 1, 'Barkawi Holdings GmbH': 1, 'TM Service Technology Holdings Gmbh': 1, 'Sreevathsa Prabhakar': 1, 'VC Karthic': 1, 'Miten Mehta': 1, 'Umasankar Nistala': 1, 'Rakesh Patel': 1, 'Akash Bhavsar': 1, 'Jeevanandhan Rajagopal': 1, 'Vikas Chadha & Others': 1, 'Reliance Entertainment': 1, 'Subramanya Venkat': 2, 'Manish Maheshwari': 1, 'Contrarian Vriddhi Fund': 1, 'Mohit Sharma': 1, 'Silver Range Investments': 1, 'Lumina Datamatics': 1, 'Shun Yoshida & Others': 1, 'Yang Shu': 1, 'Shekhar Sahu': 1, 'Nitesh Pant': 1, 'Dileep Bhatt': 1, 'Milind Chaudhary': 1, 'Krishna Rokhale': 1, 'Blume Ventures & Others': 2, 'TVS Group': 2, 'Mahindra Univeg': 1, 'Recruit Holdings': 1, 'Viraj Tyagi & Others': 1, 'Mahindra Holidays & Resorts India Ltd': 1, 'BeeNext': 3, 'Naveen Arya': 1, 'Tarun Joshi': 1, 'SeedPlus': 2, 'Xchange Investors NV': 1, 'TransGlobal FZC': 1, '3One4 Capital': 1, 'Pravin Gandhi': 1, 'Smart Start Fund; Kunal Shah': 1, '& Others': 1, 'Russian venture capital fund Ru-Net': 1, 'Healthsquad': 1, 'Ventureast Fund Advisors': 1, 'Sumpoorna Group': 1, 'HAX Accelerator': 1, 'HDFC': 1, 'Faering Capital': 2, 'Elevate Sports': 1, 'Sanjay Nayar': 1, 'Anil Jaggia': 1, 'Narayan Seshadri': 1, 'Radhakrishnan Natarajan & Others': 1, 'undisclosed investor': 3, 'Nitin Passi': 1, 'Manickam Mahalingam': 1, 'Udaan Angels': 2, 'Rajesh Arora': 1, 'Arkas Industries': 1, 'Arun Venkatachalam': 2, 'Badal Malick': 2, 'FAO Ventures': 1, 'Tushar Singh': 1, 'Ranjan Sharma': 1, 'Virendra Patel': 1, 'Gray Matters Capital': 3, 'Quarizon Consultancy Services LLP': 1, 'Karan Bhagat': 1, 'ByteDance': 1, 'Arun Sarin': 1, 'Falcon Edge': 1, 'Mayank Shah': 1, 'Shreyans Shah': 1, 'Vishnu Bhat': 1, 'Rajiv Lunkad': 1, 'Naresh Ravindranath': 1, 'Boman Irani': 1, 'Dhruv Chitgopekar': 1, 'Prantik Dasgupta': 1, 'Hemant Sahni': 1, 'Bravia Capital': 1, 'Newbie Promoters': 1, 'General Catalyst Partners': 1, 'TLabs': 1, 'Lightbox Ventures': 5, 'Axis Capital & Others': 1, 'Saama Capital': 5, 'Raghunandan G': 6, 'Next Orbit Ventures Fund': 1, 'Ranjan Pai': 2, 'Mobikon': 1, 'Blume ventures': 1, 'Janak Jain': 1, 'KAE capital': 1, 'IIFL Seed Ventures Fund': 1, 'Mayfield Ventures': 4, 'Swastika Company Ltd': 4, 'Lalit Vase': 1, 'Astarc Ventures': 4, 'hooting Starts Sports LLP': 1, 'Franchise India Brands': 1, 'Eureka Forbes Ltd': 1, 'Shapoorji Pallonji & Co. Ltd.': 1, 'Omnivore Partners': 2, 'Hero MotoCorp': 1, 'Ajay Nanavati': 1, 'Afsal Salu': 2, 'Michael Herzig': 1, 'Ashish Lakhanpal': 1, 'Karanpal Singh & Others': 1, 'Exfinity Ventures': 3, 'growX ventures': 3, 'Pradeep Dhobale': 1, 'Amit Choudhary': 2, 'Grasshoppers': 1, 'Anita Dongre': 1, 'Yash Dongre': 1, 'Milind Sarwate': 1, 'William Bissel': 1, 'Infina Finance Pvt. Ltd': 1, 'PremjiInvest': 2, 'Venturra Capital': 1, 'Susquehanna International Group.\\xa0 Wavemaker Partners': 1, 'InnoVen Capital India': 1, 'Sailender Solanki': 1, 'Rajiv Solanki': 1, 'CareerNet Consulting Pvt. Ltd': 1, 'Ideation Initiative Pvt. Ltd': 1, 'Idein Ventures': 4, 'Chan Zuckerberg Initiative': 1, 'Sofina': 3, 'Lightspeed Ventures': 4, 'Ravi Linganuri': 1, 'Dr. Rameshwar Kumar': 1, 'havya Sharma': 1, 'Amit Nagar': 1, 'Harinder Takhar': 1, 'Zain Raj': 1, 'Dr. Prasad Kaipa': 1, 'Abaran Deep': 1, 'Aseem Sood': 1, 'Mustafa Patni': 1, 'Rahul Kayan': 1, 'Nikhil Golcha': 1, 'Shubham Gupta': 1, 'Roy Kwan': 1, 'Fork Media': 1, 'Mariwala family': 1, 'Pradeep Mirani': 1, 'Aqeel Ahmed': 2, 'Anand Ladsariya': 2, 'Nitin Agarwal': 1, 'Raj Singh Bhandal': 1, 'BlackSoil Capital Pvt. Ltd.': 1, 'Balasubramanian Krishnamurthy': 1, 'Sidhartha Hazarika & Others': 1, 'Scadea Solutions Inc': 1, 'Dheeraj Jain': 5, 'Palash Jain': 1, 'Rahul Singh': 1, 'Ambarish Gupta': 1, 'Lightbox Ventures and others': 1, 'Ganesh Narasimhan': 1, 'Ramana Thumu': 1, 'Sudhir Mallem': 1, 'CIO Angel Network': 2, 'Sumit Jain': 6, 'KellyGamma': 1, 'Lead Angels & Others': 2, 'Goldman Sachs Group': 1, 'Zodius Technology Fund': 4, 'Lothal Angel Ventures': 1, 'Anglian Omega Network': 2, 'Akusa Holdings': 1, 'Rebright Partners': 6, 'Cisco Ventures': 1, 'Rohit MA': 1, 'Idea Wave Labs': 1, 'Prashant Tandon': 3, 'Gaurav Agarwal': 3, 'Gaurav Bhogle': 1, 'Shrishti Sahu': 1, 'Shantanu Mathur': 1, 'Prabhat Aggarwal': 1, 'Scale Ventures Funds': 1, 'Procam International Pvt. Ltd': 1, 'Flipkart Logistics Pvt. Ltd': 1, 'Pratik Seal': 1, 'Swastika Co Ltd.': 1, 'EDBI': 1, 'Blue Cloud Ventures': 1, 'Hercules Capital': 1, 'Now Capital': 1, 'Kanwaljit Singh': 4, 'Ajay Lakhotia': 1, 'ah! Ventures': 14, 'Digital Currency Group': 1, 'Boost VC': 1, 'Bank to the Future and Funders Club': 1, 'Bhavin Turakhia': 1, 'Mudit Saxena': 1, 'Undisclosed HNIs': 5, 'Syska LED group': 1, 'The HR Fund': 2, 'Quintillion Media': 2, 'Subramanya SV': 2, 'Ravi Garkipati': 1, 'Sachin Bhatia': 3, 'Darius Pandole': 1, 'Kunal Khattar': 1, 'Dheerag Jain': 1, 'Paul Roy': 1, 'Existing Investors': 1, 'Inventus Capital Partners': 4, 'Promatus Group': 1, 'Geniee': 1, 'Inc': 1, 'Swastika Company Ltd.': 1, '1Crowd (through crowd funding)': 1, 'Centre for Innovation Incubation and Entrepreneurship (CIIE)': 3, 'Sharad Sharma & 14 others': 1, 'Noshir Kaka': 1, 'Subramanian Ramadorai': 1, 'Kiran Deshpande': 1, 'Pankaj Gupta': 2, 'Ravi Nigam & Others': 1, 'Gujarat Venture Finance Limited (GVFL)': 1, 'Bennett Coleman & Co. Ltd': 1, 'ThirtyThree Investments': 1, 'Soumitra Sharma': 1, 'Deepak Sharma': 1, 'Sumit Dayal and others': 1, '1Crowd (through crowdfunding)': 1, 'Mukul Singhal': 2, 'Rohit Jain': 2, 'Himanshu Aggrawal': 1, 'Sunil Goyal Ashish Gupta': 1, 'Westbridge Capital Partners': 1, 'HT Media Ltd': 2, 'Manoj Varghese': 1, 'Foxconn Technology Group': 1, 'Bharti Enterprises': 1, 'Ananth Narayanan': 1, 'Divyesh Shah': 1, 'Undisclosed Dubai based HNIs': 1, 'Swan Angel Network': 3, 'Sachin Khandelwal and others': 1, 'Infocomm Investments': 1, 'Accel Partners RNT Associates': 1, 'Maninder Gulati': 2, 'Speridian Technologies': 1, 'Aspire Systems': 1, 'Satish Vasudeva': 1, 'Madhusudhan Jujare & Others': 1, 'Torrent Group': 1, 'Exfinity Venture Partners & Others': 1, 'Vijay Kedia': 1, 'Riju Gupta': 1, 'Kamal Chabra': 1, 'Dr. Goutam Challagalla': 1, 'Outbox Ventures': 4, 'Jaspreet Bindra': 1, 'Arjun Malhotra': 2, 'Rohan Malhotra': 2, 'Sidharth Rao': 1, 'Rakesh Agrawal': 1, 'Rohit Chokhani': 1, 'Ashish Tulsian': 1, 'Vineet Taneja': 1, 'Kamal Puri': 1, 'Mohit Lalvani': 1, 'Michael and Susan Dell Foundation': 2, 'Scale Ventures': 1, 'CureFit': 1, 'Investopad': 1, 'P39 Capital': 1, 'Abhinav Sinha': 1, 'Globevestor Angel Fund': 1, 'Devendra Rane': 1, 'Ravi Jain': 1, 'Arpan Nagdeve': 1, 'Ford Smart Mobility Llc': 1, 'Instalabs': 1, 'Net1 UEPS Technologies Inc': 1, 'Undisclosed Ex Mckinsey Directors and Partners': 1, 'Kunal Shah & Sandeep Tandon': 2, 'Dr. Abhishek Pandey': 1, 'Jaysukh Sapra': 1, 'Hitouch AG': 1, 'Undisclosed HNI investors': 1, 'Rajasthan Angel Investor Network & Others': 1, 'Ashutosh Lawania': 2, 'Rajul Jain': 1, 'Rishi Gupta & Others': 1, 'MediaTek Inc.': 1, 'Sophia Investment ApS': 1, 'Ambit Pragma': 1, 'Sarbvir Singh': 1, 'Raghav Bahl': 3, 'MasterCard': 1, 'Aaruha Technology Fund': 1, 'Zaffiro Ventures': 2, 'SD Ventures': 1, 'Vistaar Investment Advisors Pvt. Ltd.': 1, 'Deepak Gupta': 1, 'Aramex Ventures Llc': 1, 'IIFL Wealth Management Seed Venture Fund': 1, 'Aspada': 2, 'YourNest Angel Fund\\xa0 & Others': 1, 'Stripes Group': 1, 'Network 18': 1, 'Rohit Bansal': 12, 'Kunal Bahl': 13, 'Abhishek Jain': 2, 'Gaurav Singhvi': 1, 'Kirthiga Reddy': 1, 'Renuka Ramanath': 1, 'Cherry Tin': 1, 'AVG Group': 1, 'Rothenberg Ventures': 1, 'Alex Chua': 1, 'Rahul Garg': 1, 'Blume Ventures & IvyCap Ventures': 1, 'Brian Acton': 1, 'Sattva Capital': 1, 'Stanford Angels & Entrepreneurs': 1, 'Harvard Angels': 1, 'Ashish Mahajan': 1, 'Sarvesh Sharma': 1, 'Rishi Parti': 2, 'Yogesh Bansal': 2, 'Rainmaker Ventures': 2, 'Ajay Piramal': 1, 'Gaurav Bhalotia': 3, 'Jaspal Bindra': 1, 'Parth Jindal': 1, 'Keiretsu Forum': 1, 'Plug and Play Tech Center': 1, 'Steelhead Ventures & Others': 1, 'Anurag Gupta': 1, 'Varun Khanna': 1, 'Faraz Khan': 1, 'GEMS group': 1, 'Abhijit Avasthi': 1, 'SP Vijay': 1, 'IIFL and Accel Partners': 1, 'Intelli Reboot Digital Pvt. Ltd': 1, 'Satish Jamdar': 1, 'Star India Pvt. Ltd': 1, 'Franklin Templeton International Services Pvt. Ltd': 1, 'Green House Ventures Accelerator': 1, 'Abhishek Agarwal': 1, 'Krishnakumar Nataraj': 1, 'Sarath Sura': 2, 'Shanti Mohan': 1, 'Sarthak and Nihit Agarwal': 1, 'Suramya Gupta': 1, 'Nilesh Shah': 1, 'Nihon Kotsu Co': 1, 'Swastika Company Pvt Ltd': 1, 'Lightbox': 1, 'MapmyIndia': 1, 'Parampara Capital': 2, 'MadhanKumar Madathupalayam': 1, 'Romulus Capital': 1, 'Sreenivasa Reddy Musani': 1, 'Yeahmobi': 1, 'Fenqile': 1, 'Microsoft Ventures': 1, 'Salesforce Ventures': 1, 'Sanjiv Rai': 1, 'Venkat Tadanki': 1, 'Krishna Mehra': 3, 'Amit Rathore': 1, 'Axiata Digital': 1, 'Ankit Maheshwari': 1, 'Anand Singh': 1, 'BlackJag Partners': 1, 'Cameron Jones': 1, 'Ritesh Dwivedy': 2, 'Priti Padhy': 1, '3 undisclosed HNIs': 1, 'Vivek Joshi': 2, 'Mohit Satyanand': 1, 'Amit Banati': 1, 'Arun Khanna': 1, 'Bhavish Aggarwal': 3, 'Ankit Bhati': 2, 'TVS Automobile Solutions Ltd': 3, 'Viridian Capital': 1, 'EVC Ventures': 2, 'Valpro Capital and existing investors': 1, 'MCube8': 1, 'You & Mr Jones': 1, 'Fortisure Ventures': 1, 'Diaz Nesamoney': 1, 'Blume Ventures & Vaibhav Domkundwar': 1, 'Accel Partners India': 3, 'IvyCap Ventures and Unicorn India Ventures': 1, 'Atul Ingle': 1, 'Guy Oseary': 1, 'Nimmagadda Prasad': 1, 'Ravi Adusumalli': 1, 'New Enterprise Associates (NEA)': 2, 'BetOnIndia Technology Pvt Ltd': 1, 'Sanjay Verma': 1, 'Amit Khanna (LetsVenture)': 1, 'Hamraj Kumar': 1, 'Timbru Ventures': 1, 'Concur Technologies': 1, 'Gund Investment': 1, 'IndiaMart': 1, 'Bitkemy Ventures': 1, 'Unicorn Venture': 1, 'CP Bothra': 1, 'RB Investments PTE Ltd': 1, 'Rahul Kirloskar': 1, 'Fusion Tech Ventures': 1, 'Adi Saravanan': 1, 'Pravin Dongre': 1, 'Mahendra Doshi': 1, 'Saif Partners': 1, 'Purvi Ventures': 2, 'Vipin Arora': 1, 'Rise India': 1, 'Jitendra Gupta': 3, 'Pankaj Tripathi': 1, 'Aprameya Radhakrishnan': 1, 'Phanindra Sama': 8, 'Subba Rao Telidevara': 1, 'Vibhu Garg': 3, 'Paula Ravindra Mariwala': 1, 'Kanodia family': 1, 'Amit Banka': 1, 'GVFL Ltd': 1, 'Bertelsmann India Investments': 3, 'Sanjeev Sinha': 1, 'Soniks Consulting': 1, 'vCommission': 2, 'Harsh Vardhan Hada': 1, 'Piyush Jain': 1, 'Uniqorn Ventures Fund': 1, 'S Somasegar': 1, 'Accel Partners & existing investors': 1, 'Carpediem Capital & Others': 1, 'Niloufer Dundh': 1, 'Fauzan Rahim': 1, 'Balamurugan Mani': 1, 'Ankush Mehta': 1, 'StartupXseed Ventures': 2, 'GMO Payment Gateway': 1, 'MediaTek': 1, 'Shruth & Smith Group': 1, 'Hermes Group': 1, 'Rohan Angrish': 1, 'Hrishi Oberoi': 1, 'Rahul Mehta': 1, 'Kapil Hetamsaria': 1, 'Pranav Dedhia': 1, 'International Finance Corp': 1, 'TPG Growth': 1, 'Adveq Management': 1, 'Kris Gopalakrishnan': 7, 'Helion Venture': 1, 'VentureEast': 2, 'India Alternatives': 1, 'Grex.in': 2, 'Kalaari Capital Accelerator Program': 3, 'Inventus Capital': 5, 'Group of undisclosed Angel Investors & HNIs': 1, 'MoMagic Technologies': 2, 'Rajul Garg & Others': 1, 'Rajesh Ranavat': 1, 'Roopak Saluja': 1, 'Vishal Khare': 3, 'Manish Kheterpal': 3, 'Vinay Mittal': 1, 'Dinesh Mittal': 1, 'Sandeep Gupta': 1, 'NanoHoldings': 1, 'DST Global': 2, 'JM Financial Products Ltd': 1, 'Doreswamy Nandkishore': 1, 'Kshitij Jain': 2, 'Khazanah Nasional Berhad': 3, 'Creation Investments Capital Management': 1, 'Aspada Ventures': 1, 'GROUPE SOS': 1, 'Rakesh Gupta': 1, 'Aditya Aggarwal': 1, 'Siddharth Banerjee': 1, 'Vikas Ranjan': 1, 'Anshul Jindal': 1, 'Sunil Koul': 1, 'and Sanjeev Agrawal': 1, 'Anurag Chauhan': 1, 'Nexus Ventures': 1, 'Undisclosed Investors & Tamarind Family Private Trust': 1, 'S Chand': 1, 'Kinnevik Group': 1, 'Rocket Internet': 3, 'Rata Tata': 1, 'Anuj Srivastava': 3, 'Katabole Technology Venture': 1, 'Kaizen Management Advisors': 1, 'DeVry Inc': 1, 'Aprameya': 1, 'Venk': 1, 'Ravi Machani': 1, 'Hitesh Gupta': 1, 'Rohit Choudhary': 1, 'Chatsworth Management': 1, 'ITW Digital': 1, 'Pradeep Reddy Kamasan': 1, 'MCube Capital Advisors Pvt Ltd': 1, 'Sudhir Mehta': 1, 'FF Angel': 1, 'India Innovation Fund India Venture Partners': 1, 'Vikram Lakhotia': 2, 'Ashish Gupta and other undisclosed investors': 1, 'NSI Infinium Global Pvt. Ltd': 1, 'Nelstone Ventures': 1, 'Transmedia Capital': 1, 'Maiden Lane Ventures': 1, 'CSC Upshot & Angel investors': 1, 'Alok Sharma': 1, 'Saurabh Srivastava': 1, 'and Ajai Chowdhry': 1, 'Vineet Singh': 1, 'Equentia Natural Resource & Other undisclosed investors': 1, 'Xiaomi Inc': 1, 'N.S. Raghavan Centre for Entrepreneurial Learning': 1, 'Mukesh Bansal': 1, 'TM Service Technology Holdings GmbH': 1, 'DTDC Express Ltd': 1, 'Ninestarter': 1, 'Nazara Technologies Pvt Ltd': 1, 'IDG': 1, 'Mahendra Patel': 1, 'Nilender Chauhan': 1, 'Rattan Chadha': 1, 'Wingify': 1, 'Softbank': 4, 'Greenoaks Capital': 1, 'DSG Consumer Partners and Venture Nursery': 1, 'Prashant Puri': 1, 'Dr. Ranjan Pai': 1, 'Shaan': 1, 'Daud Ali': 1, 'Narendra Karnavat': 1, 'Vikas Kapoor': 1, 'Krishna Jhunjhunwaala': 1, 'Jayesh Shah': 1, 'Anil Kapoor': 1, 'Pravin Khandelwal': 1, 'Yatin Kumar Jain': 1, 'Dr. Aniruddha Malpani': 2, 'Dr. Sridhar Ramaswamy': 1, 'Rakesh Mathur': 2, 'StartUp Equity Partners': 1, 'Rajeev Agrawal': 1, 'Prashant Gooty': 1, 'Ram Shriram': 1, 'Neeraj Arora': 3, 'Puru Vashishtha': 1, 'Mount Nathan Advisors': 2, 'Mahavir Pratap Sharma': 3, 'Ajay Data': 1, 'Yogesh Chaudhary': 2, 'Sanjay Phophaliya': 1, 'Siddharth Agarwal': 1, 'Kamal Kothari': 2, 'Naturals Salon Chain': 1, 'Vivek Nathani': 1, 'H C Jain': 1, 'Pawan Munjal': 1, 'Ajay Data & other HNIs': 1, 'Mitin Patel': 1, 'Paytm & existing investors': 1, 'Stanford Angels': 3, 'Chennai Angels': 5, 'Man Capital': 1, 'RN Agarwal': 1, 'Undisclosed Angel investors & HNIs': 1, 'Adil Allana': 1, 'Gautam Ivatury': 1, 'Signal Point Partners': 1, 'Ajay Data & undisclosed HNIs': 1, 'M&Y Partners': 1, 'SVG Media': 1, 'Anthil Ventures & others': 1, 'GirnarSoft': 2, 'Mayfield India II Management Ltd': 1, 'HR Fund': 1, 'NTT Finance': 1, 'Telephone Corporation': 1, 'Indian Angel network': 1, 'GrowthStory': 2, 'Apurva Salapuria': 1, 'Hitesh Oberoi': 1, 'Nirupa Shankar': 1, 'IDFC SPICE Fund': 1, 'Micromax Informatics': 4, 'Max Levchin': 1, 'Scott Banister': 1, 'Farooq Oomerbhoy': 1, 'Anand Mittal': 1, 'Blume Ventures & Other unnamed Investors': 1, 'Anand Rajaraman': 3, 'Venky Harinarayan': 2, 'Fundnel': 1, 'S Chand & Co': 1, 'Lip-Bu Tan': 1, 'Michael Marks': 1, 'Nicolas Braithwaite': 1, 'Kludein LLCPhanindra Sama': 1, 'Narayan Ramachandran': 2, 'Pranav Pai': 1, 'Dino Morea': 2, 'Blinc Advisors': 1, 'Amit Nanavati': 1, 'Tashwinder Singh': 1, 'Taranjit Jaswal': 1, 'Amit Khanna': 1, 'Matt Glickman': 1, 'Anoop Hingorani': 1, 'Manoj Kumar & Other undisclosed investors': 1, 'Daman Soni': 1, 'Rajat Gupta & Others': 1, 'Mohit Gulati': 1, 'Artiman Ventures': 1, 'Ruchirans Jaipuria': 1, 'Anuj Sanghi': 1, 'Zop Smart': 1, 'Sol Primero': 5, 'Sudhir Anandarao': 1, 'Ankur Warikoo': 1, 'Ankur Singla': 1, 'Unicorn Ventures': 1, 'Naveen Tewari': 3, 'Abhay Singhal': 2, 'Amit Gupta': 9, 'Piyush Shah': 2, 'Undisclosed private investors': 1, 'Vijay Krishna Yadav': 1, 'Apoorv Ranjan Sharma': 1, 'Daud Ali and others': 1, 'Undisclosed Japanese investor': 1, 'Nirvana Digital India Fund': 1, 'Nirvana Digital Investment Holding Co Ltd': 1, '500 Start-Ups': 1, 'Aspada Investment Advisors': 2, 'Blume Ventures.': 1, 'Amadeus Capital': 1, 'Entrepreneurs India': 2, 'Vipul Parekh': 1, 'ajesh K Murthy': 1, 'PurpleTalk Inc': 1, 'Anuj Puri': 1, 'Dheeraj Jain & Other angel investors': 1, 'Raj Gala Shah': 1, 'Zaheer Memon': 1, 'Greycroft Partners': 1, 'Fidelity Growth Partners India': 2, 'Mohit Goel': 2, 'Janak Parikh': 1, 'Hari Krishna': 1, 'Ajay Modani': 1, 'Dr V Ravinder': 1, 'Anirudh Rastogi': 1, 'Rakesh Gakhar': 1, 'Rajeev Mudumba': 1, 'Nagendra Prasad Bhanuprakash': 1, 'Agarwal Movers Group': 1, 'Hemang Sahani': 1, 'S Chand and Co Pvt Ltd': 2, 'Funding through 1Crowd platform': 1, 'Alex Kuruvilla': 1, 'Pradeep Guha': 1, 'Saket Dhankar': 1, 'Rajan Pandhare': 1, 'Chandrashekar Tallapragada': 1, 'Pankaj Kapoor': 1, 'Abhishek Goyal': 3, 'Arjun and Rohan Malhotra': 1, 'Harpreet Singh Grover': 2, 'Gagan Dugal': 1, 'Rannvijay Singh': 1, 'Anita Hassanandani': 1, 'Sashi Reddi & Other unnamed investors': 1, 'Naveen Gupta': 1, 'Google Capital': 3, 'CASHurDRIVE Marketing Pvt Ltd': 1, 'Abraaj Group': 1, 'Tracxn Labs & Others': 1, 'Sachin Tendulkar': 1, 'Alok Mittal': 6, 'Rishi Mandawat': 1, 'Dexter Angel Circle': 1, 'Pix Vine Capital': 1, 'Infocomm Development Authority of Singapore': 1, 'GAIN': 1, 'Devidas Desai': 1, 'Vipul Gautam': 1, 'Littlerock': 1, 'BitChemy Ventures': 1, 'Maheshwari Investments Pvt Ltd': 1, 'Anshoo Gaur': 1, 'Rama Krishna Reddy': 1, 'Sandeep Seerapu': 1, 'Mekin Maheshwar': 1, 'Broadbean Capital services': 1, 'Bharanidharan Viswanathan': 1, 'Sanjiv Mittal': 1, 'Shobhit Shukla': 1, 'Rahul Agarwal': 1, 'Robin Utthappa': 1, 'Daljit Singh': 2, 'Aditya Vij': 1, 'Kishore Kumar': 1, 'Shuchin Bajaj': 1, 'Sarva Capital': 1, 'Jay Vijayan': 1, 'SoftBank Ventures Korea': 1, 'Himanshu Aggarwal': 2, 'Puneet Agarwal': 1, 'Mohandas Pai': 6, 'Hiro Mashita': 2, 'Ajay Sarupria': 1, 'Snow Leopard Technology Ventures': 2, 'Wipro Ventures': 1, 'T V Mohandas Pai': 4, 'Multiple investors through Ten Minute Million competition': 4, 'Dunamis Ventures Pte Ltd.': 1, 'Green House Ventures (GHV)': 4, 'Ingram Content Group': 1, 'Oranda Global & Others': 1, 'Sherpa Capital': 1, 'Nyca Partners and Thomvest Ventures': 1, 'Vandana Luthra': 1, 'Venturesity': 1, 'Arihant Patni': 6, 'Zia Mody': 1, 'Ananda Kallugadde': 1, 'Rakesh Desai': 1, 'Rakesh Malhotra': 1, 'Vinod Jain & Others': 1, 'Sixth Sense Ventures': 3, 'Vinod Bansal': 1, 'Sanjeev Singhal': 1, 'Mahesh Parasuraman': 1, 'Rahul Gautam & Others': 1, 'Valiant Capital': 4, 'Rajesh Sawhney': 6, 'India Ventures': 1, 'Aarin Capital & Others': 1, 'Edelweiss Financial Services': 1, 'Lion Ventures': 1, 'Manipal Global Education Services': 2, 'Atul Jain': 1, 'Anil Gelra': 1, 'Jaikumar Nair': 1, 'Jaideep Mehta': 1, 'Sachin Dalal': 1, 'Jayabalan Subramanian': 1, 'Alok Rawat': 1, 'Grey Orange Robotics': 1, 'Sunil Mehta': 1, 'Aspada Advisors': 1, 'Ontario Teachers’ Pension Plan & Others': 1, 'Saumya Tandon': 1, 'Mukesh Kumar Gupta': 1, 'Vaibhav Doshi': 1, 'Joby Babu': 1, 'Abhishek Acharya': 1, 'Manish Shah': 1, 'Ranjit Singh': 1, 'Haresh Chawla': 3, 'Powai Lake Ventures': 8, 'Globevestor': 1, 'Virendra Shekhawat': 1, 'Deepak Chokhani': 1, 'Yogesh Patel & Others': 1, 'Siddhivinayak Skyscrapers': 1, 'Dinesh R. Challa': 1, 'Vishwadeep Bajaj & Others': 1, 'Rajnish Sinha': 1, 'Prijit Debnath': 1, 'KWAN Entertainment & Marketing Solutions': 1, 'Powerhouse Ventures & Others': 1, 'Dr Nandish Domlur': 1, 'Amit Sandill': 1, 'K Ganesh': 2, 'Sujal Shah': 1, 'Aneesh Reddy & Teruhide Sato': 1, 'Farooq Oomerbhoy & Other angel investors': 1, 'Qualcomm (Through QPrize Contest)': 1, 'Aavishkaar': 2, 'Varun Aggarwal': 2, 'Purvi Ventures & Others': 1, '3 undisclosed investors': 1, 'Nitin Bagmane & Other undisclosed investors': 1, 'Lightspeed India': 3, 'Accel Partners & Others': 2, 'Vikram Lal': 1, 'Abhijit Bhandari': 1, 'Shashank Bhagat': 1, 'Rocket Internet AG': 1, 'Holtzbrink Ventures': 1, 'Deutsche Telekom Strategic Investments (DTSI)': 1, 'Silicon Valley Bank': 2, 'The Phoenix Fund and others': 1, 'Yajnanarayana Kammaje': 1, 'Tracxn Syndicate': 2, 'Qualgro': 2, 'Mamoru Taniya': 1, 'Suresh Venkat': 1, 'Raj Y': 1, 'Vishal Bali & Others': 1, 'Calcutta Angels': 4, 'Ashish Hemrajani': 2, 'Parikshit Dar': 1, 'Rajesh Balpande': 1, 'Kapil Goel': 1, 'Insitor Impact Asia Fund': 1, 'Acumen Fund': 4, 'Eduardo Saverin': 1, 'Siddharth Pai': 1, 'Manvinder Singh Banga': 1, 'MeritTrac': 1, 'Deepinder Goyal': 2, 'Ashish Dhawan': 1, 'Mayank Singhal': 2, 'Samir Bangara': 2, 'Anisha Mittal': 1, 'Lalit Mangal': 3, 'Deobrat Singh': 1, 'Saurab Paruthi': 1, 'Singapore Angel Network.': 1, 'Dinesh Agarwal': 3, 'Tata Capital Innovation Fund': 1, 'Jagdish Kumar': 1, 'Bharat Gupta': 1, 'Ankush Saigal': 1, 'Praveen Saini': 1, 'Lalitesh Katragadda': 1, 'Ganayantrika Systems': 1, 'Arjun Handa': 1, 'Amit Jindal': 1, 'Nagendra Chaudhary': 1, 'Bhanu Vikram Parsotam': 1, 'Rohan Desai and Paras Patel': 1, 'SIDBI Venture Capital Limited': 1, 'Ankur Gupta': 1, 'Myntra/LivSpace Founders': 1, 'Newbie Promoter Pvt Ltd': 1, 'Ctrip.com International Ltd': 1, 'Krishna Jhujhunwala': 1, 'Sanjay Mehta & Others': 1, 'GBIM Technologies Pvt Ltd': 1, 'Arun Chandra Mohan': 2, 'Nahata Family': 1, 'Waheed Alli': 1, 'Mato Peric': 2, 'TracxnLabs': 3, 'Ranjan Mahtani': 1, 'GIC': 2, 'Tiger Global Management': 14, 'Matt Mullenweg': 1, 'Adam D’Angelo': 1, 'Ruchi Sanghvi & Others': 1, 'Vallabh Bhanshali': 1, 'N Squared Management LLC': 1, 'Jagdish & Sandeep Mehta Family Office': 1, 'Equity Crest': 1, 'Vinners': 1, 'Sparknext': 1, 'March Capital': 1, 'Shiva Ashok & Other unnamed investors': 1, '50k Ventures': 1, 'Munish Jauhar': 1, 'Pulkit Jain': 1, 'Rohit Narang': 1, 'Amod Malviya': 1, 'Mustafa Wajid': 1, 'Umang Kumar & Others': 1, 'Saavn': 1, 'Micromax': 1, 'Dhiraj Rajaram': 1, 'Ambiga Dhiraj': 1, 'Sanjay Nath': 1, 'Cipher-Plexus Capital Advisors & Indian HNIs': 1, 'Varun Khurana': 1, 'Samar Singla': 1, 'Vinay Bansal': 1, 'Vikas Malpani': 1, 'LV Prasad': 1, 'Times Group': 1, 'Abhinav Mathur': 1, 'Sanjay Mehta': 4, 'Huzaifa Khorakiwala': 1, 'Nirvana Digital Investment Holding': 1, 'RB Investments & existing investors': 1, 'Anand Chandrasekaran & Others': 1, 'Unilazer Fund': 1, 'Peyush Bansal': 1, 'Umang Kumar': 2, 'Lemelson Foundation': 1, 'Alpha Capital': 1, 'Undisclosed US Based Investors': 1, 'Saïd Business School Seed Fund.': 1, 'Farooq Adam': 1, 'Ambi Parameswaran': 1, 'Rob Chandra': 1, 'SoftBank Corp': 1, 'Beenext Ventures': 1, 'Kanpur Angels & Others': 1, 'Taurus Value Creation': 1, 'Konly Venture': 1, 'Chandigarh Angels Funding': 1, 'Avnish Mehra': 1, 'Pranay Adhvaryu': 1, 'Ravi Sampat': 1, 'APIS Partners': 1, 'Institutional Venture Partners': 1, 'CRV': 1, 'Kalaari Capital and Inventus Capital': 1, 'GPA group': 1, 'Puneet Dalmia': 4, 'Lalit Mangal & Others': 1, 'Un disclosed investors': 1, 'Neeraj Goenka': 1, 'Farooq Adam Mukadam': 1, 'Mohit Saxena': 3, 'Foxconn Technology Group & Others': 1, 'Harminder Sahni': 1, 'Sanjay Bakshi': 1, 'Maple Capital Advisors': 1, 'TermSheet': 1, 'Tekton Ventures': 1, 'Lead Angel Network': 1, 'Vineet Nalla': 1, 'Amit Patni': 2, 'Samir Shah': 2, 'Frontline Strategy': 2, 'Aarin Capital Partners': 4, 'Lashit Sanghvi': 1, 'Nikhil Vora': 2, 'Venkat Vardhan': 1, 'Mohammed Bin Abdul Rehman Al Khalifa': 1, 'Ralph Berezan': 1, 'Vissal Mathew': 1, 'Balamurali Krishna': 1, 'The Saha Fund': 1, 'CIO Angel Network (CAN)': 1, 'Times Internet Ltd & One more Fund': 1, 'Chandigarh Angel Network (CAN)': 1, 'Beerud Sheth and Ravi Mantha': 1, 'CerraCap': 1, 'Gaurav Gupta': 1, 'Vidyadhar Sarfare': 1, 'Ajeet Khurana Jinesh Shah': 1, 'Vikram Chachra': 4, 'Gopal Aggarwal': 1, 'Shopclues': 1, 'Steven Lurie': 1, 'Accion': 2, 'Yuri Milner': 2, 'Apoletto': 2, 'Bren Corporation': 1, 'CLSA Capital Partners ARIA IV Funds': 1, 'Mr. Sudhir & Ms. Shalini Sethi': 1, 'Mr. Praveen Someshwar': 1, 'Mitesh Majithia': 1, 'Uniqorn Ventures and other': 1, 'Gabriel Investments': 1, 'Extreme Venture Partners\\xa0 William Bissell': 1, 'Zoya Akhtar': 1, 'Reema Kagati': 1, 'Ruchi Narain': 1, 'Amrish Kumar': 1, 'Hrishikesh Parandekar': 1, 'Prashanth Ranganathan': 1, 'Infosys': 1, 'Singapore Angels Network': 1, 'Amazon': 2, 'Ru-Net Technology Partners': 1, 'Chicago Capital Ventures': 1, 'Others': 2, 'Unilazer': 1, 'Nisha Sharma': 1, 'Balaji Prabhakar': 1, 'SAIF Partners and others': 1, 'Allen Blue': 1, 'John Katzman': 1, 'Kartik Hosanagar': 1, 'Blue Fog Capital': 1, 'Kris Gopalakrishnan & Others': 1, 'Turning Ideas': 2, 'Prahlad Rao': 1, 'Sundara Rajan': 1, 'TCS': 1, 'Kalpana Tatavarti': 1, 'Shivanandan Pare': 1, 'Murugappa Group': 1, 'Arathi Krishna': 1, 'Palred Technologies Ltd': 1, 'HT Digital Media Holdings Ltd': 1, 'Venture Nursery': 1, 'BrahmaX Ventures': 1, 'Medi Assist': 1, 'Vectr Ventures': 1, 'Unitus Impact Livelihoods Fund': 1, 'Collaborative Licensing Ventures LLP': 1, 'Ruchir Arora & others': 1, 'Sharad Hegde': 1, 'Girish Reddy': 1, 'Siddharth Patil': 1, 'Shrikant Patil': 1, 'Tree Line Asia': 1, 'Sahil Barua': 3, 'Times Group Brand Capital': 1, 'Segnel Venture': 1, 'Shinji Kimura': 1, 'Sundar Chanrai': 1, 'JAFCO Asia': 2, 'SingTel’s Innov8': 1, 'Varun Ahuja': 1, 'Anubhav Verma': 1, 'Riqueza Capital': 1, 'Dheeraj Jain & Others': 1, 'Constellation Technology Ventures (Exelon Corporation)': 1, 'E.ON': 1, 'RWE': 1, 'Khosla Ventures': 1, 'Neeraj Jawalkar': 1, 'Sanjay Anandaram': 1, 'Vineel Nalla & Others': 1, 'SAIF Partners & others': 1, 'Ness Wadia': 1, 'Saina Nehwal': 1, 'Chandralekha Construction Pvt. Ltd.': 1, 'Mike Galgon': 1, 'Ravi Gururaj': 2, 'Ashim Mehra': 1, 'Internet Group': 1, 'TNN Capital and others': 1, 'Info Edge': 1, 'BEENEXT Ventures': 1, 'Jozef Bardik': 1, 'Leo Wang Sangeeth Ram': 1, 'TV Mohandas Pai’s family office': 1, 'Lensbridge Capital': 1, 'Mape Advisory Group': 1, 'Centre For Incubation & Business Acceleration (CIBA)': 1, 'Goa': 1, 'Mount Nathan Advisors Pte Ltd': 1, 'Traxcn Labs': 1, '50K Ventures & others': 1, 'Logtally': 1, 'Global Founders Capital': 2, 'Gordon and Betty Moore Foundation': 1, 'Jitu Virwani': 1, 'Rimpal Chawla': 1, 'Ravi Krishnamurthy': 1, 'Enablers platform': 1, 'Baillie Gifford': 1, 'Didi Kuaidi': 1, 'Inara Capital': 1, 'Rishi Khiani': 1, 'Palaash Ventures': 2, 'Blackstone Valley Group': 1, 'Raghu Vohra': 1, 'Aditya Dev Sood': 1, 'Kamal Bansal': 1, 'Bessemer Venture Partner': 1, 'Accel': 1, 'Karnataka Semiconductor Venture Capital firm': 1, 'S.D. Shibulal': 1, 'Srinath Batni': 1, 'Professor Tarun Khanna': 1, 'Ganapathy Venugopal.': 1, 'New Enterprise Associates': 4, 'Pradeep K Jaisingh': 1, 'Sunil T V': 1, 'Vijay Ghadge': 1, 'Gurmeet Chahal & Others': 1, 'Hampton Capital': 1, 'Dr. Pramath Raj Sinha': 1, 'BVR Mohan Reddy': 1, 'Bijou Kurien': 2, 'Anil Menon': 1, 'Swastika': 1, 'Manish Gupta': 1, 'Canaan Partners': 1, 'Ashok Agarwal': 1, 'Raghu Khanna': 1, 'Sameer Gupta': 1, 'IFC Everstone Group': 1, 'Cheetah Mobile': 1, 'Apoletto Managers': 1, 'M & S partners': 1, 'Powerhouse Ventures (USA).': 1, 'Tracxn': 1, 'Ashish Goenka & Others': 1, 'Anil Chopra': 1, 'JMR Infotech India Pvt Ltd': 1, 'Unigrowth Inc': 1, 'Mandeep Singh': 1, 'Jairaj Singh': 1, 'FIH Mobile Ltd': 1, 'Delhivery': 3, 'Foxconn': 2, 'Sargod Ventures': 1, 'Elevar Equity': 3, 'Gaurav Dalmia': 1, 'Gagan Hasteer': 1, 'Ashish Todi': 1, 'Abhinav Patodia': 1, 'Kumar Shwetabh': 1, 'Paytm (One97 communications)': 2, 'Harsh Mariwala': 1, 'Dalip Pathak': 1, 'Michael Carlos': 1, 'Peepul Capital': 2, 'DSG consumer Partners': 1, 'Paragon Partners': 1, 'High Networth Individuals (undisclosed)': 1, 'Uniqorn ventures': 1, 'ASP Consulting': 1, 'Satyen Kothari': 1, 'Keshav Sanghi': 1, 'Riddhesh Gandhi & Others': 1, 'Gaja Capital Private Equity Fund': 1, 'Avtar Monga': 1, 'Unnamed Media house and HNIs': 1, 'High Networth Individuals from India & USA': 1, 'Snapdeal': 1, 'Peter Kabel & others': 1, 'Sanjeev Kapoor': 1, 'Ravi Saxena & Others': 1, 'Life.SREDA': 1, 'Sequoia and Kalaari Capital.': 1, 'Vikas Agarwal': 1, 'Sanjeev Kakkar': 1, 'Smile Group': 1, 'SF Capital Group': 1, 'Kemark Ventures': 1, 'Zishaan Hayath and Others': 1, 'Quikr': 1, 'Bedrock Ventures': 2, 'Suyash Sharma': 1, 'Sean O’Sullivan & Others': 1, 'IDG Ventures & Advantedge fund': 1, 'Leon Seynave': 1, 'Biz Stone': 1, 'European investment fund': 1, 'Micromax Informatics Ltd': 1, 'Dewang Neralla': 1, 'Roopak Taneja': 1, 'Manisha Gupta': 1, 'Mumbai Angels MAPE Advisory Group.': 1, 'Devesh Rai G': 1, 'Rajesh Aggarwal': 1, 'Amitpal Bhutani': 1, 'Vijai Laxmi': 1, 'Manpreet Singh': 1, 'Anupam Mittal & other marquee investors': 1, 'Ascent Capital': 2, 'eContext Asia': 1, 'Beenos Asia': 1, 'Aarti Group': 1, 'Dr. Aniruddha Malpani Manish Gupta': 1, 'M&S Partners & others': 1, 'Sands Capital and Accel Partners': 1, 'Qualcomm Venture': 1, 'Springboard Ventures': 1, 'Sierra Ventures': 1, 'Cota Capital': 1, 'Vegas Tech Fund': 1, 'RAAY Global Investments': 1, 'Alok Bajpai': 1, 'Rajnish Kumar': 1, 'Amit Dey': 1, 'Atul Jalan': 2, 'Shrikanth & Bharath': 1, 'R Natarajan': 1, 'Group of Angel investors': 2, 'Mayank Bhangdia': 1, 'ID Enablers Pvt Ltd': 1, 'Oswal Techno Ventures LLP': 1, 'undisclosed private investors': 1, 'OrbiMed': 1, 'Pradip Dadha Group': 1, 'Ventureworks India': 2, 'Unnamed investor': 1, '500 Startups & Other HNIs': 1, 'Jupiter Capital': 1, 'Amit Singhal': 1, 'PK Gulati & others': 1, 'Suresh Vaswani': 1, 'Rajesh Bhatia': 1, 'Dheeraj Mehta & Others': 1, 'GREX': 1, 'Puneet Bhatia & others': 1, 'Tania Johny Palathinkal': 1, 'Group of HNI investors': 1, 'Reliance Capital': 1, 'India Quotient & other investors': 1, 'WestBridge Capital': 1, 'Lok Capital': 2, 'CMYK Health Boutique Pvt Ltd & Other individual investors': 1, 'R M Picture Company Pvt. Ltd.': 1, 'Ashish Jhalani': 1, 'Karanpal Singh': 1, 'Ritu Kapur': 1, 'Nalin Jain': 1, 'Shomil Pant': 1, 'Dinesh Kundu & others': 1, 'Temasek': 2, 'Tandem Capital': 1, 'Aloke Bajpai': 1, 'Beenextan investment fund': 1, 'Nanadan Nilekani': 1, 'InMobi': 1, 'Green House Ventures': 2, 'Ankush Nijhawan': 2, 'Manish Dhingra': 2, 'Gaurav Bhatnagar': 2, 'Subodh Gupta': 1, 'Eight Road Ventures': 1, 'Ash Bhardwaj': 1, 'NY based Hedge Fund': 1, 'Cataraman Ventures': 1, 'Anil Matai': 1, 'Vikram Tandon': 1, 'Shyam Sundar R & others': 1, 'Payal Syal': 1, 'Sandeep Dama & Others': 1, 'Oliphans Capital': 3, 'Applyifi': 1, 'High Networth Individuals (No details)': 1, 'Sachin Bansal & Binny Bansal': 1, 'Sangram Singh': 1, 'Subrata Mitra': 1, 'Larry Braitman': 1, 'Venk Krishna': 1, 'Multiple investors': 1, 'Naman Sarawagi': 1, 'International Finance Corporation (IFC)': 1, 'Uday Punj': 1, 'Sanjeev Mehra': 1, 'Prakhar Bumb': 1, 'Rianta Capital': 2, 'Sunil Edwards': 1, 'Karan Bajwa': 2, 'Amanpreet Bajaj': 2, 'Manish Vij': 2, 'Swarnim Multiventures': 1, 'Bhavdeep Reddy': 1, 'Asha Jadeja Motwani & Others': 1, 'Rajat Malhotra': 1, 'Vijay Anand': 1, 'Mohandas Pai. Pallav Nadhani': 1, 'Singapore Angels Network & others': 1, 'William Bissell': 1, 'Neeraj Aggarwal': 1, 'Sateesh Andara & others': 1, 'Smile Multimedia': 1, 'Girish Matrubootham': 1, 'Astarc Ventures & Others': 1, 'Mato Peric & Others': 1, 'Alibaba Group': 1, 'Ant Financial': 1, 'Tennenbaum Capital Partners & Others': 1, 'SAIF Partners.': 2, 'Mayank Singhal and others': 1, 'Uniqorn Ventures': 1, 'Rahul Khanna & Others': 1, 'Knoll Ventures and others': 1, 'Pranay Chulet': 1, 'Naveen Tiwari': 2, 'Viktor Koenig PE Fund': 1, 'Mantra Ventures': 1, 'Mohandas Pai & others': 2, 'VentureNursery': 2, 'Zeeshan Hayat': 1, 'Niraj Singh': 3, 'Nikunj Jain': 2, 'Punit Goyal': 1, 'Kunal Bajaj': 1, 'Chandru Badrinarayanan': 1, 'BedRock Ventures': 1, 'Shailesh Singh': 1, 'Ramesh Jogani': 1, 'Shailesh Viswanathan': 1, 'Jay Srinivasan': 1, 'Gaurav Sharma': 1, 'Viswanath Ramachandran': 2, 'RippleWave': 1, 'Altimeter Capital': 1, 'Sequoia Capital Global Equities': 1, 'Sanjay Sethi': 1, 'Ravi Jaipuria & others': 1, 'CCube Angels': 1, 'Intellecap Impact Investment Network': 2, 'Indus Age Partners': 1, 'India Internet Fund': 1, 'Horizons Ventures': 1, 'Capricorn Investment Group': 2, 'Social+Capital': 1, 'Helion Advisors': 1, 'Berggruen Holdings': 1, 'Inflexionpoint': 1, 'Vindi Banga': 1, 'Wealth First': 1, 'Ashneer Grover': 1, 'Atul Phadnis': 1, 'responsAbility Investments': 1, 'Best Foodworks': 1, 'Nihon Kotsu': 1, 'Neha Vats': 1, 'Gaurav Vats': 1, 'B M Gupta': 1, 'Vinod Singhal': 1, 'QPrize from Qualcomm Ventures': 1, 'Others from LetsVenture': 1, 'Reliance Capital Venture': 1, 'Jungle Ventures & Bessemer Venture Partners': 1, 'Ajeet Khurana & Others': 1, 'ChrysCapital': 1, 'Deep Kalra': 2, 'Rajesh Magow': 1, 'Mohit Gupta': 1, 'Shamik Sharma': 1, 'Girish Mathrubootham &\\xa0 Group of other Angel investors': 1, 'LeapFrog Investments': 1, 'Jitendra Gupta & others': 1, 'Gujarat based angel investors': 1, 'MMY co-Founder': 1, 'Group of angel investors': 3, 'Nalin Jain & other angel investors': 1, 'Vani Kola': 1, 'Karthee Madasamay': 1, 'family office fund': 1, 'Existing & New Investors': 1, 'Rohit Goel': 1, 'Prashant Malik': 1, 'One97 Communications': 1, 'Milliways Ventures': 1, 'Naya Ventures': 1, 'Rohit Bhatia': 1, 'Sunil Nikhar': 1, 'Vaibhav Domkundwar': 1, 'Siddharth Nautiyal': 1, 'Blume Ventures & others': 1, 'Umesh Yadav': 1, 'Ankush Nijhawa': 1, 'AskMe': 1, 'Group of Angel Investors': 14, 'Rudy Gopalakrishnan': 2, 'Amit Ranjan & others': 1, 'The 1947': 1, 'Ajmera Group of Companies': 1, 'Prime Capital Markets Ltd': 1, 'Anupam Mittal & others': 1, 'GrowX ventures': 1, 'and Sahil Barua': 1, 'Draper Fisher Jurvetson': 1, 'LetsVenture investors': 1, 'Group of Investors': 2, 'Ravi Agarwal': 1, 'Ibibo Group': 1, 'Growx Ventures': 1, 'Manish Singhal': 3, 'Equentia Natural Resources': 1, 'Li Tao': 1, 'Li Jian': 1, 'Draphant Consultants': 1, 'Nitin Garg': 1, 'Saurabh Jain': 1, 'Mohit Agarwal': 1, 'P39 Capital & Others': 1, 'Nikhil Vora & others': 1, 'Bessemer Ventures': 2, 'Mohit Satyanand & others': 1, 'Axon Partners': 1, 'Intel Capital': 1, 'Fidelity Growth Partners': 4, 'Mousse Partners': 2, 'Rahul Khanna': 1, 'Gokul Jaykrishna': 1, 'Ajeet Khurana & others': 1, 'Pravin Agarwala & others': 1, 'Hillhouse Capital': 2, 'Atulya Mittal': 1, 'Mangroves Capital Partners': 1, 'Vikas Saxena': 1, 'DMG information Asia Pacific': 1, 'Globeinvestor': 1, 'Abhishekh Goyal': 1, 'Siddharth Parekh': 1, 'Jaydeep Barman': 1, 'Liberty Media': 1, 'Quilvest': 1, 'Sunrise Capital GmBH': 1, 'Big Data Investments B.V': 1, 'Amarpreet Sawhney': 1, 'Deshpande Foundation': 1, 'Fred Khosravi': 1, 'Richard S. Braddock': 1, 'Not Disclosed': 1, 'Mirah Hospitality': 1, 'Shailesh Mehta': 1, 'Empire Angels': 1, 'NGP': 1, 'Dragoneer Investment Group': 1, 'Teruhide Sato': 2, 'Rajeev Saraf': 1, 'Arvind Jha': 1, 'R. Satya Narayanan': 1, 'Kumar Bansal': 1, 'IndianIdeas.com': 1, 'Forum Synergies PE Fund': 1, 'Ritesh Veera': 1, 'HR Technology fund': 1, 'Tamarind Family Private Trust': 1, 'Uday Shankar': 1, 'Chetan Bhagat': 1, 'Sudhir Rao & Others': 1, 'Sumit Gandhi': 1, 'Manish Gandhi': 1, 'Orios Venture Partners.': 1, 'New India Investment Corporation': 1, 'Deepak Singh': 1, 'Vriddhi Fund': 1, 'India Value Fund Advisors': 1, 'Meru Capital': 1, 'Ola': 1, 'Axis Bank': 1, 'Jayant Bokadia': 1, 'MakeMyTrip': 3, 'AB Kinnevik': 1, 'Coatue Management': 1, 'YourWeCan Ventures': 1, 'Varun Agarwal & Others': 1, 'Bertelsmann India Investments Norwest Venture Partners.': 1, 'Steadview Capital and existing investors': 1, 'Traxcn Labs & Others': 1, 'Sandeep Parwal': 1, 'Krishan Gupta & Others': 1, 'Sherpalo Ventures': 1, 'Sachin and Binny Bansal': 2, 'Malvinder and Shivinder Singh': 1, 'Gurpreet Singh & others': 1, 'Tiger Global Management & others': 1, 'LionRock Capital': 1, 'Elliot Stechman': 1, 'Gautam Sinha': 1, 'Ambarish Ray': 1, 'B S Nagesh': 1, 'Jai Choi': 1, 'Kiyohiro Sugashita': 1, 'Hirokazu': 1, 'Oliphabs Capital': 1, 'Saama Capital.': 1, 'InfoEdge': 1, 'Group of 15 Angel Investors': 1, 'Nikunj Jhaveri': 1, 'Srinivas Tirupati': 1, 'Carrick Capital Partners': 1, 'Mumbai Angels & Other angel investors': 1, 'Ennovent Impact Investment Holding': 1, 'Mark Mobius & 9 Other Angel investors': 1, 'DMG Information': 1, 'Singapore Angel Network & Aseem Vadehra': 1, 'Gautam Gandhi': 1, 'Virendra Shahney': 1, 'Dr Paresh Doshi': 1, 'Nirvana Ventures Advisors': 1, 'Morgan Stanley': 1, 'Fidelity Biosciences': 1, 'Snow Leopard': 1, 'Natarajan Iyer': 1, '& other Angel investors.': 1, 'Future Fund': 1, 'Bessemer Venture': 1, 'Capricorn Investment and IFC': 1, 'KCL': 1, 'SVP Fly Dubai & Others': 1, 'M&S Partners Pte. Ltd': 1, 'i2india Pvt Ltd': 1, 'Low Carbon Enterprise Fund': 1, 'Mahesh Pratapneni': 1, 'Pallab Chatterjee & others': 1, 'Patni Family Office': 1, 'Karan Maheshwari': 1, 'Kishor Ganji': 1, 'Roopa Nath': 1, 'LGT Group': 1, 'Asian Healthcare fund': 1, 'Neoteric Infomatique Limited': 1, 'ASK Pravi': 1, 'Gopal Srinivasan': 1, 'Sashi Reddy': 1, 'Sunil Maheshwari & group of investors': 1, 'Foundation Capital': 1, 'Group of Angel Investors from US/India': 1, 'Bunny Bansal & other investors': 1, 'Raju Reddy': 1, 'Sprout Angels LLP': 1, 'AngelPrime': 3, 'Dr David Cheriton': 1, 'Holostik Group': 1, 'Nokia Growth Partners': 1, 'Avalon Ventures': 1, 'Mercury Fund': 1, 'Anshu Sharma': 1, 'Pratyush Prasanna': 1, 'Robert Winters & others': 1, 'Development finance institution Belgian Investment Company': 1, 'Oikocredit': 1, 'Accion Venture Lab': 1, 'Mape Advisory': 1, 'Manish Dugar': 1, 'Angie Mahtaney': 1, 'Omidiyar Network': 1, 'Blume Ventures and Ujama': 1, 'Commonfloor': 1, 'Sameer Koticha': 1, 'Anand Vijay': 2, 'Nipun Dureja': 1, 'Satyajit Heeralal': 1, 'Keith Rodricks': 1, 'Gaurav Lochan': 1, 'Azmul Haque': 1, 'Nikhil Bagri': 1, 'Rishi Vasudev': 1, 'Rajiv Nayan': 1, 'Viraj Tyagi & others': 1, 'Vishwas Patel': 1, 'Multiples Alternate Asset Management': 1, 'S.Gopalakrishnan': 1, 'Florida based Angel investor': 1, 'Praveen Sinha': 1, 'Prototyze': 1, 'Rajendra Gogri': 1, 'Chandrakant Gogri': 1, 'Teru Sato': 1, 'Venkatesh Valluri': 1, 'KJS Group': 1, 'Jay Sethuram': 1, 'Hemant Kanakia': 1, 'Ravi Trivedi': 1, 'Subhash Goyal': 1, 'Peesh Venture Capital': 1, 'MakeMyTrip Innovation Fund': 1, 'SAIF partners': 1, 'Sunergy Investors': 1, 'Anoop Goyal': 1, 'Mike Shah': 1, 'VA Sastry': 1, 'HDFC Bank': 1, 'Sandiep Shrivatsava': 1, 'i2india Ventures': 1, 'Jan Manten': 1, 'Nirvana Venture Advisors': 1, 'Manipal Group': 1, 'Tim Chen': 1, 'Sanjay Venkat': 1, 'Rajesh Sawheny': 1, 'AECAL': 1, 'MeraEvents.': 1, 'Amit Tyagi': 1, 'Sandeep Acharya & others': 1, 'Investment AB Kinnevik': 1, 'Jason Hirschhorn': 1, 'Jarett Posner': 1, 'and Amit Bhatiani': 1, 'Ajit Surana': 1, 'Silicon Valley Ventures': 1, 'NEA Ventures': 1, 'Cisco Investments': 1, 'American Express': 1, 'Ajai Chowdhry': 2, 'Nitin Singhal & Others': 1, 'Sarvesh Shahra & Others': 1, 'Hyderabad based investor': 1, 'TR Capital': 2, 'Helion Venture Partner': 1, 'GSF and Other angel investors': 1, 'Dragoneer Investment': 2, 'Intel Capital & Kae Capital': 1, 'Google Capital & Accel Partners': 1, 'GIC ventures': 1, 'The Phoenix Fund': 1, 'Pearson Learning Fund': 1, 'Nexus venture Partners': 1, 'GFC': 1, 'Version One Ventures': 1, 'Nexus Venture Partners and Arena Ventures': 1, 'Vikas Taneja & others': 1, 'Deepak Shahdadpuri': 1, 'Gulpreet Kohli': 1, 'Accel US': 1, 'S S Mukherji & Others': 1, 'Ah! Ventures': 1, '91SpringBoard': 1, 'Infuse Ventures fund': 1, 'SEEK Ltd & affiliates': 1, 'Cross Border Angels & others': 1, 'Mitsui & Co & existing investors': 1, 'Alok Goel': 2, 'Amit Agrawal': 1, 'Vinay Goel': 1, 'Gaurav Munjal': 1, 'Ashish Dev Kapur': 1, 'Maverick Capital': 1, 'Alok Goel & others': 1, 'Madhukar Gangadi': 1, 'Satish Reddy': 1, 'Srini Raju': 1, 'Srini Koppolu & SIDBI': 1, 'Rajan Anandan & other angel investors': 1, 'Ashish Kashyap': 1, 'Shrem Strategies': 1, 'Tarun Arora': 1, 'IAN Ventures': 1, 'Sequoia Capital.': 1, 'Rocket Internet AG & others': 1, 'Varaprasad Reddy': 1, 'Zishan Hayath': 1, 'GSF': 1, 'Ramesh kavediya': 1, 'I-cube-N': 1, 'Value Fund Advisors': 1, 'Wipro': 1, 'CA Media LP': 1, 'Start Media.': 1, 'Armat Group': 1, 'Wu Chay Chin': 1, 'HT Media': 1, 'Arun Duggal': 1, 'RVCF and SIDBI': 1, 'LightBox Ventures': 1, 'Keystone Group': 1, 'Accion Venture Labs': 1, 'Dr Mushtaq Shah': 1, 'Dr Faraz Naqvi': 1, 'Impact Investment Holding': 1, 'Upaya Social Ventures': 1, 'Greenoaks capital': 1, 'LightSpeed Ventures': 1, 'Indian Quotient': 1, 'Solidarity Venture Capital & others': 1, 'Pittie Group': 1, 'Nick Adams': 1, 'Kiran Bhat': 1, 'Family Pot Investments LLP': 1, 'Rajiv Mody': 1, 'Ajai Chowdhary': 1, 'Tano Capital': 1, 'TA Associates': 2, 'Trinity Ventures': 1, 'InterWest Partners': 1, 'Mohr Davidow Ventures': 1, 'Presidio Ventures': 1, 'Ru-Net': 1, 'Orios Venture Partner': 1, 'Valiant Capital Partners': 1, 'Splice Advisors': 1, 'Ant Financial Services (Alipay)': 1, 'Shashank Mehrotra & Others': 1, 'Tybourne Capital': 2, 'RuNet and Sofina': 1, 'Sequoia Capital India and Omidyar Network': 1, 'Chip Perry': 1, 'Mangrove Capital Partners': 1, 'Parvesh Bareja': 1, 'Sunjay Kapur': 1, 'Suresh Senapaty': 1, 'Srinivas Aluri': 1, 'Srinivas Modukury': 1, 'BS Nagesh': 1, 'Ashok Goel (promoter)': 1, 'Mumbai Angels & Group of other investors': 1, 'Cross Border Angels': 1, 'Venture Nursery Angels Mumbai Angels': 1, 'Brick Eagle': 1, 'DA-IICT': 1, 'Techstars': 1, 'Carnegie Mellon University': 1, 'Startup Brasil program': 1, 'InterGlobe Technology Quotient': 1, 'Lantern Capital': 1, 'Fulcrum Ventures': 1, 'Unitus Seed FundNarayan Ramachandran': 1, 'BC Prabhakar': 1, 'Rajat Jain': 1, 'Sanjay Bhasin': 1, 'Nagaraja Prakasam': 1, 'India Quotient.': 1, 'Venkat Vallabhneni': 1, 'Sudhakar Reddy': 1, 'Srinivasa Rao Paturi': 1, 'DeNA Co.': 1, 'Japan & Teruhide Sato (in Addition to MKS Switzerland & Kris GopalKrishnan)': 1, 'TO THE NEW Ventures': 1, 'Tom Clausen': 1, 'Rohan Ajila': 1, 'Haldyn Glass': 1, 'Akash Agarwal': 1, 'Kevin Parikh': 1, 'Redbright Partners': 1, 'Devesh Sachdev': 1, 'Ashish Tiwari': 1, 'Seedrs Crowd funding platform': 1, 'Kickstarter': 1, 'JS Capital': 1, 'GWB Group': 1, 'TNN Capital & IIG': 1, 'Shankar Mahadevan': 1, 'Deep Kalra & Others': 1, 'Adroitent Pvt. Ltd.': 1, 'Tiger Global & Other investors': 1, 'Cogent E Services': 1, 'Consortium of Angel Investors': 1, 'Hyderabad Angels (at Startup Heroes event)': 5, 'Eduardo Saverin & Velos Capital': 1, 'Premji Invest & Mayfield Fund': 1, 'Amit Rambhia & Others': 1, 'August Capital Partners': 1, 'Michael Blakey': 1, 'ANALEC': 1, 'Kaizen Private Equity': 1, 'People Group (Shaadi.com)': 1, 'Asia Pacific Internet Group': 1, 'KARSEMVEN Fund': 1, 'Exfinity Fund': 1, 'GrowX Ventures.': 1, 'UK based Group of Angel Investors': 1}\n"
     ]
    }
   ],
   "source": [
    "print(left)"
   ]
  },
  {
   "cell_type": "code",
   "execution_count": 197,
   "metadata": {},
   "outputs": [
    {
     "name": "stdout",
     "output_type": "stream",
     "text": [
      "[46, 40, 39, 36, 32]\n"
     ]
    }
   ],
   "source": [
    "\n",
    "cvalues=[]\n",
    "for value in left.values():\n",
    "    cvalues.append(value)\n",
    "cvalues.sort(reverse=True)\n",
    "#print(cvalues[0:5])\n",
    "\n",
    "newvalues=cvalues[0:6]\n",
    "newset=set(newvalues)\n",
    "#print(newset)\n",
    "newvalues=list(newset)\n",
    "newvalues.sort(reverse=True)\n",
    "print(newvalues)"
   ]
  },
  {
   "cell_type": "code",
   "execution_count": 198,
   "metadata": {},
   "outputs": [
    {
     "name": "stdout",
     "output_type": "stream",
     "text": [
      "Accel Partners 46\n",
      "Sequoia Capital 46\n",
      "Indian Angel Network 40\n",
      "Kalaari Capital 39\n",
      "Blume Ventures 36\n",
      "Undisclosed Investors 32\n"
     ]
    }
   ],
   "source": [
    "cnumber=[]\n",
    "cinvestors=[]\n",
    "for value in newvalues:\n",
    "    for key in left:\n",
    "        if left[key]==value:\n",
    "            print(key,left[key])\n",
    "            cnumber.append(left[key])\n",
    "            cinvestors.append(key)"
   ]
  },
  {
   "cell_type": "code",
   "execution_count": 199,
   "metadata": {},
   "outputs": [
    {
     "name": "stdout",
     "output_type": "stream",
     "text": [
      "[46, 46, 40, 39, 36, 32]\n",
      "['Accel Partners', 'Sequoia Capital', 'Indian Angel Network', 'Kalaari Capital', 'Blume Ventures', 'Undisclosed Investors']\n"
     ]
    }
   ],
   "source": [
    "print(cnumber)\n",
    "print(cinvestors)"
   ]
  },
  {
   "cell_type": "code",
   "execution_count": 200,
   "metadata": {},
   "outputs": [
    {
     "data": {
      "image/png": "[encoded data removed]",
      "text/plain": [
       "<Figure size 432x288 with 1 Axes>"
      ]
     },
     "metadata": {},
     "output_type": "display_data"
    }
   ],
   "source": [
    "plt.pie(cnumber,labels=cinvestors,autopct=\"%.2f%%\",rotatelabels=False)\n",
    "plt.title('INVESTORS')\n",
    "plt.show()"
   ]
  },
  {
   "cell_type": "markdown",
   "metadata": {},
   "source": [
    "#ANSWER\n",
    "Accel Partners and Sequoia Capital are the highest. [Any Top 5 Investors Including(Accel Partners and Sequoia Capital) ]  can invest in our Friend's Startup As they have invested more number of times.We have To Contact them to explain our Startup so that they can make their mind to invest in our startup."
   ]
  },
  {
   "cell_type": "markdown",
   "metadata": {},
   "source": [
    "# FOURTH PROBLEM"
   ]
  },
  {
   "cell_type": "markdown",
   "metadata": {},
   "source": [
    "Find the top 5 investors who have invested in a different number of startups and their investment type is Crowdfunding or Seed Funding."
   ]
  },
  {
   "cell_type": "markdown",
   "metadata": {},
   "source": [
    "\"Private Equity\", \"Seed Funding\", \"Debt Funding\", and \"Crowd Funding\". "
   ]
  },
  {
   "cell_type": "code",
   "execution_count": 202,
   "metadata": {},
   "outputs": [],
   "source": [
    "import pandas as pd\n",
    "import numpy as np\n",
    "import matplotlib.pyplot as plt"
   ]
  },
  {
   "cell_type": "code",
   "execution_count": 203,
   "metadata": {},
   "outputs": [],
   "source": [
    "data=pd.read_csv('startup_funding.csv')"
   ]
  },
  {
   "cell_type": "code",
   "execution_count": 204,
   "metadata": {},
   "outputs": [],
   "source": [
    "df4=data.copy()"
   ]
  },
  {
   "cell_type": "code",
   "execution_count": 205,
   "metadata": {},
   "outputs": [
    {
     "data": {
      "text/html": [
       "<div>\n",
       "<style scoped>\n",
       "    .dataframe tbody tr th:only-of-type {\n",
       "        vertical-align: middle;\n",
       "    }\n",
       "\n",
       "    .dataframe tbody tr th {\n",
       "        vertical-align: top;\n",
       "    }\n",
       "\n",
       "    .dataframe thead th {\n",
       "        text-align: right;\n",
       "    }\n",
       "</style>\n",
       "<table border=\"1\" class=\"dataframe\">\n",
       "  <thead>\n",
       "    <tr style=\"text-align: right;\">\n",
       "      <th></th>\n",
       "      <th>SNo</th>\n",
       "      <th>Date</th>\n",
       "      <th>StartupName</th>\n",
       "      <th>IndustryVertical</th>\n",
       "      <th>SubVertical</th>\n",
       "      <th>CityLocation</th>\n",
       "      <th>InvestorsName</th>\n",
       "      <th>InvestmentType</th>\n",
       "      <th>AmountInUSD</th>\n",
       "      <th>Remarks</th>\n",
       "    </tr>\n",
       "  </thead>\n",
       "  <tbody>\n",
       "    <tr>\n",
       "      <td>0</td>\n",
       "      <td>0</td>\n",
       "      <td>01/08/2017</td>\n",
       "      <td>TouchKin</td>\n",
       "      <td>Technology</td>\n",
       "      <td>Predictive Care Platform</td>\n",
       "      <td>Bangalore</td>\n",
       "      <td>Kae Capital</td>\n",
       "      <td>Private Equity</td>\n",
       "      <td>1,300,000</td>\n",
       "      <td>NaN</td>\n",
       "    </tr>\n",
       "    <tr>\n",
       "      <td>1</td>\n",
       "      <td>1</td>\n",
       "      <td>02/08/2017</td>\n",
       "      <td>Ethinos</td>\n",
       "      <td>Technology</td>\n",
       "      <td>Digital Marketing Agency</td>\n",
       "      <td>Mumbai</td>\n",
       "      <td>Triton Investment Advisors</td>\n",
       "      <td>Private Equity</td>\n",
       "      <td>NaN</td>\n",
       "      <td>NaN</td>\n",
       "    </tr>\n",
       "    <tr>\n",
       "      <td>2</td>\n",
       "      <td>2</td>\n",
       "      <td>02/08/2017</td>\n",
       "      <td>Leverage Edu</td>\n",
       "      <td>Consumer Internet</td>\n",
       "      <td>Online platform for Higher Education Services</td>\n",
       "      <td>New Delhi</td>\n",
       "      <td>Kashyap Deorah, Anand Sankeshwar, Deepak Jain,...</td>\n",
       "      <td>Seed Funding</td>\n",
       "      <td>NaN</td>\n",
       "      <td>NaN</td>\n",
       "    </tr>\n",
       "    <tr>\n",
       "      <td>3</td>\n",
       "      <td>3</td>\n",
       "      <td>02/08/2017</td>\n",
       "      <td>Zepo</td>\n",
       "      <td>Consumer Internet</td>\n",
       "      <td>DIY Ecommerce platform</td>\n",
       "      <td>Mumbai</td>\n",
       "      <td>Kunal Shah, LetsVenture, Anupam Mittal, Hetal ...</td>\n",
       "      <td>Seed Funding</td>\n",
       "      <td>500,000</td>\n",
       "      <td>NaN</td>\n",
       "    </tr>\n",
       "    <tr>\n",
       "      <td>4</td>\n",
       "      <td>4</td>\n",
       "      <td>02/08/2017</td>\n",
       "      <td>Click2Clinic</td>\n",
       "      <td>Consumer Internet</td>\n",
       "      <td>healthcare service aggregator</td>\n",
       "      <td>Hyderabad</td>\n",
       "      <td>Narottam Thudi, Shireesh Palle</td>\n",
       "      <td>Seed Funding</td>\n",
       "      <td>850,000</td>\n",
       "      <td>NaN</td>\n",
       "    </tr>\n",
       "  </tbody>\n",
       "</table>\n",
       "</div>"
      ],
      "text/plain": [
       "   SNo        Date   StartupName   IndustryVertical  \\\n",
       "0    0  01/08/2017      TouchKin         Technology   \n",
       "1    1  02/08/2017       Ethinos         Technology   \n",
       "2    2  02/08/2017  Leverage Edu  Consumer Internet   \n",
       "3    3  02/08/2017          Zepo  Consumer Internet   \n",
       "4    4  02/08/2017  Click2Clinic  Consumer Internet   \n",
       "\n",
       "                                     SubVertical CityLocation  \\\n",
       "0                       Predictive Care Platform    Bangalore   \n",
       "1                       Digital Marketing Agency       Mumbai   \n",
       "2  Online platform for Higher Education Services    New Delhi   \n",
       "3                         DIY Ecommerce platform       Mumbai   \n",
       "4                  healthcare service aggregator    Hyderabad   \n",
       "\n",
       "                                       InvestorsName  InvestmentType  \\\n",
       "0                                        Kae Capital  Private Equity   \n",
       "1                         Triton Investment Advisors  Private Equity   \n",
       "2  Kashyap Deorah, Anand Sankeshwar, Deepak Jain,...    Seed Funding   \n",
       "3  Kunal Shah, LetsVenture, Anupam Mittal, Hetal ...    Seed Funding   \n",
       "4                     Narottam Thudi, Shireesh Palle    Seed Funding   \n",
       "\n",
       "  AmountInUSD Remarks  \n",
       "0   1,300,000     NaN  \n",
       "1         NaN     NaN  \n",
       "2         NaN     NaN  \n",
       "3     500,000     NaN  \n",
       "4     850,000     NaN  "
      ]
     },
     "execution_count": 205,
     "metadata": {},
     "output_type": "execute_result"
    }
   ],
   "source": [
    "df4.head()"
   ]
  },
  {
   "cell_type": "code",
   "execution_count": 207,
   "metadata": {},
   "outputs": [
    {
     "data": {
      "text/plain": [
       "array(['Private Equity', 'Seed Funding', 'Debt Funding', nan,\n",
       "       'SeedFunding', 'PrivateEquity', 'Crowd funding', 'Crowd Funding'],\n",
       "      dtype=object)"
      ]
     },
     "execution_count": 207,
     "metadata": {},
     "output_type": "execute_result"
    }
   ],
   "source": [
    "df4['InvestmentType'].unique()"
   ]
  },
  {
   "cell_type": "code",
   "execution_count": 208,
   "metadata": {},
   "outputs": [],
   "source": [
    "df4['InvestmentType'].replace('PrivateEquity','Private Equity',inplace=True)\n",
    "df4['InvestmentType'].replace('SeedFunding','Seed Funding',inplace=True)\n",
    "df4['InvestmentType'].replace('Crowd funding','Crowd Funding',inplace=True)"
   ]
  },
  {
   "cell_type": "markdown",
   "metadata": {},
   "source": [
    "\"Private Equity\", \"Seed Funding\", \"Debt Funding\", and \"Crowd Funding\"."
   ]
  },
  {
   "cell_type": "code",
   "execution_count": 209,
   "metadata": {},
   "outputs": [
    {
     "data": {
      "text/plain": [
       "array(['Private Equity', 'Seed Funding', 'Debt Funding', nan,\n",
       "       'Crowd Funding'], dtype=object)"
      ]
     },
     "execution_count": 209,
     "metadata": {},
     "output_type": "execute_result"
    }
   ],
   "source": [
    "df4['InvestmentType'].unique()"
   ]
  },
  {
   "cell_type": "code",
   "execution_count": 210,
   "metadata": {},
   "outputs": [
    {
     "data": {
      "text/html": [
       "<div>\n",
       "<style scoped>\n",
       "    .dataframe tbody tr th:only-of-type {\n",
       "        vertical-align: middle;\n",
       "    }\n",
       "\n",
       "    .dataframe tbody tr th {\n",
       "        vertical-align: top;\n",
       "    }\n",
       "\n",
       "    .dataframe thead th {\n",
       "        text-align: right;\n",
       "    }\n",
       "</style>\n",
       "<table border=\"1\" class=\"dataframe\">\n",
       "  <thead>\n",
       "    <tr style=\"text-align: right;\">\n",
       "      <th></th>\n",
       "      <th>SNo</th>\n",
       "      <th>Date</th>\n",
       "      <th>StartupName</th>\n",
       "      <th>IndustryVertical</th>\n",
       "      <th>SubVertical</th>\n",
       "      <th>CityLocation</th>\n",
       "      <th>InvestorsName</th>\n",
       "      <th>InvestmentType</th>\n",
       "      <th>AmountInUSD</th>\n",
       "      <th>Remarks</th>\n",
       "    </tr>\n",
       "  </thead>\n",
       "  <tbody>\n",
       "    <tr>\n",
       "      <td>0</td>\n",
       "      <td>0</td>\n",
       "      <td>01/08/2017</td>\n",
       "      <td>TouchKin</td>\n",
       "      <td>Technology</td>\n",
       "      <td>Predictive Care Platform</td>\n",
       "      <td>Bangalore</td>\n",
       "      <td>Kae Capital</td>\n",
       "      <td>Private Equity</td>\n",
       "      <td>1,300,000</td>\n",
       "      <td>NaN</td>\n",
       "    </tr>\n",
       "    <tr>\n",
       "      <td>1</td>\n",
       "      <td>1</td>\n",
       "      <td>02/08/2017</td>\n",
       "      <td>Ethinos</td>\n",
       "      <td>Technology</td>\n",
       "      <td>Digital Marketing Agency</td>\n",
       "      <td>Mumbai</td>\n",
       "      <td>Triton Investment Advisors</td>\n",
       "      <td>Private Equity</td>\n",
       "      <td>NaN</td>\n",
       "      <td>NaN</td>\n",
       "    </tr>\n",
       "    <tr>\n",
       "      <td>2</td>\n",
       "      <td>2</td>\n",
       "      <td>02/08/2017</td>\n",
       "      <td>Leverage Edu</td>\n",
       "      <td>Consumer Internet</td>\n",
       "      <td>Online platform for Higher Education Services</td>\n",
       "      <td>New Delhi</td>\n",
       "      <td>Kashyap Deorah, Anand Sankeshwar, Deepak Jain,...</td>\n",
       "      <td>Seed Funding</td>\n",
       "      <td>NaN</td>\n",
       "      <td>NaN</td>\n",
       "    </tr>\n",
       "    <tr>\n",
       "      <td>3</td>\n",
       "      <td>3</td>\n",
       "      <td>02/08/2017</td>\n",
       "      <td>Zepo</td>\n",
       "      <td>Consumer Internet</td>\n",
       "      <td>DIY Ecommerce platform</td>\n",
       "      <td>Mumbai</td>\n",
       "      <td>Kunal Shah, LetsVenture, Anupam Mittal, Hetal ...</td>\n",
       "      <td>Seed Funding</td>\n",
       "      <td>500,000</td>\n",
       "      <td>NaN</td>\n",
       "    </tr>\n",
       "    <tr>\n",
       "      <td>4</td>\n",
       "      <td>4</td>\n",
       "      <td>02/08/2017</td>\n",
       "      <td>Click2Clinic</td>\n",
       "      <td>Consumer Internet</td>\n",
       "      <td>healthcare service aggregator</td>\n",
       "      <td>Hyderabad</td>\n",
       "      <td>Narottam Thudi, Shireesh Palle</td>\n",
       "      <td>Seed Funding</td>\n",
       "      <td>850,000</td>\n",
       "      <td>NaN</td>\n",
       "    </tr>\n",
       "  </tbody>\n",
       "</table>\n",
       "</div>"
      ],
      "text/plain": [
       "   SNo        Date   StartupName   IndustryVertical  \\\n",
       "0    0  01/08/2017      TouchKin         Technology   \n",
       "1    1  02/08/2017       Ethinos         Technology   \n",
       "2    2  02/08/2017  Leverage Edu  Consumer Internet   \n",
       "3    3  02/08/2017          Zepo  Consumer Internet   \n",
       "4    4  02/08/2017  Click2Clinic  Consumer Internet   \n",
       "\n",
       "                                     SubVertical CityLocation  \\\n",
       "0                       Predictive Care Platform    Bangalore   \n",
       "1                       Digital Marketing Agency       Mumbai   \n",
       "2  Online platform for Higher Education Services    New Delhi   \n",
       "3                         DIY Ecommerce platform       Mumbai   \n",
       "4                  healthcare service aggregator    Hyderabad   \n",
       "\n",
       "                                       InvestorsName  InvestmentType  \\\n",
       "0                                        Kae Capital  Private Equity   \n",
       "1                         Triton Investment Advisors  Private Equity   \n",
       "2  Kashyap Deorah, Anand Sankeshwar, Deepak Jain,...    Seed Funding   \n",
       "3  Kunal Shah, LetsVenture, Anupam Mittal, Hetal ...    Seed Funding   \n",
       "4                     Narottam Thudi, Shireesh Palle    Seed Funding   \n",
       "\n",
       "  AmountInUSD Remarks  \n",
       "0   1,300,000     NaN  \n",
       "1         NaN     NaN  \n",
       "2         NaN     NaN  \n",
       "3     500,000     NaN  \n",
       "4     850,000     NaN  "
      ]
     },
     "execution_count": 210,
     "metadata": {},
     "output_type": "execute_result"
    }
   ],
   "source": [
    "df4.head()"
   ]
  },
  {
   "cell_type": "code",
   "execution_count": 237,
   "metadata": {},
   "outputs": [],
   "source": [
    "right={}\n",
    "left={}\n",
    "for index,row in df4.iterrows():\n",
    "    name=row['StartupName']\n",
    "    investmenttype=row['InvestmentType']\n",
    "    investmenttype=str(investmenttype)\n",
    "    name=str(name)\n",
    "    name=name.lower()\n",
    "    l1=name.split()\n",
    "    l2=name.split('.')\n",
    "    #CHECKING FOR ALL THE POSSIBILTIES\n",
    "    if 'ola' in l1 or 'ola' in l2 or 'olacabs' in l1:\n",
    "        req_startup = 'Ola'\n",
    "    elif 'flipkart' in l1 or 'flipkart' in l2:\n",
    "        req_startup = 'Flipkart'\n",
    "    elif 'oyo' in l1 or 'oyo' in l2 or 'oyorooms' in l1:\n",
    "        req_startup = 'Oyo'\n",
    "    elif 'paytm' in l1 or 'paytm' in l2:\n",
    "        req_startup = 'Paytm'\n",
    "    elif 'snapdeal' in l1 or 'snapdeal' in l2:\n",
    "        req_startup = 'Snapdeal'\n",
    "    elif 'urbanclap' in l1 or 'urbanclap' in l2:\n",
    "        req_startup = 'UrbanClap'\n",
    "    elif 'jugnoo' in l1 or 'jugnoo' in l2:\n",
    "        req_startup = 'Jugnoo'\n",
    "    else:\n",
    "        req_startup = name\n",
    "    \n",
    "    invest=row['InvestorsName']\n",
    "    invest=str(invest)\n",
    "    if invest=='Undisclosed Investors' or invest=='Undisclosed investors':# IF IT HAS THE SAME NAME THEN BOTH ARE EQUAL\n",
    "        invest='Undisclosed Investors'\n",
    "    \n",
    "    invest=[i.strip() for i in str(invest).split(',')]\n",
    "    \n",
    "    for j in invest:\n",
    "        if j=='':  # IF IT IS EMPTY STRING IT WILL CONTINUE\n",
    "            continue\n",
    "        fullname=req_startup+','+j\n",
    "        \n",
    "        if fullname in right: # IF THAT COMBINATION IS ALREADY PRESENT IT WILL CONTINUE\n",
    "            continue   \n",
    "        else:  # IF NOT IT WILL BE ASSIGNED TO 1 \n",
    "            right[fullname]=1\n",
    "            \n",
    "            arr=fullname.split(',')\n",
    "            investors=arr[1] # WE WILL GET INVESTORS NAME FROM THAT\n",
    "            if investmenttype=='Crowd Funding' or investmenttype=='Seed Funding':# IT IS CHECKING WHETHER THERE IT CROWD FUNDING OR SEED FUNDING\n",
    "                if investors in left: #IF IT IS PRESENT IT WILL INCREMENTED BY 1\n",
    "                    left[investors]+=1\n",
    "                else:\n",
    "                    left[investors]=1 #IT WILL BE ASSIGNED TO 1\n",
    "#print(left)  "
   ]
  },
  {
   "cell_type": "markdown",
   "metadata": {},
   "source": [
    "Find the top 5 investors who have invested in a different number of startups and their investment type is Crowdfunding or Seed Funding."
   ]
  },
  {
   "cell_type": "code",
   "execution_count": 238,
   "metadata": {},
   "outputs": [
    {
     "name": "stdout",
     "output_type": "stream",
     "text": [
      "{'Kashyap Deorah': 3, 'Anand Sankeshwar': 2, 'Deepak Jain': 1, 'Sadashiva NT': 1, 'Arjun Mehta': 1, 'Satish Kaul': 1, 'Anindya Ghose': 1, 'Kunal Shah': 14, 'LetsVenture': 16, 'Anupam Mittal': 16, 'Hetal Sonpal': 1, 'Narottam Thudi': 1, 'Shireesh Palle': 1, 'Reliance Corporate Advisory Services Ltd': 1, 'Blume Ventures': 9, 'Contrarian Capital India Partners': 1, 'Emergent Ventures India': 1, 'Pallav Nadhani': 3, 'Ashish Gupta': 5, 'Sharad Sharma': 4, 'Sirion Labs': 1, 'nan': 7, 'India Quotient': 8, 'Shunwei Capital': 1, 'Sreeram Iyer': 1, 'Suvo Sarkar': 1, 'Anita Gupta': 1, 'Likemind Ventures': 1, 'Venture Catalysts': 5, 'Sourav Ganguly': 1, 'Ankit Aditya': 1, 'Moksh Sports Ventures': 1, 'Fireside Ventures': 4, 'Apurva Salarpuria': 1, 'Sidharth Pansari': 2, 'Sprout Capital': 1, '500 Startups': 10, 'Purvi Capital': 2, 'Rajan Anandan': 23, 'Abhishek Gupta': 1, 'Indian Angel Network': 33, 'Brigade Innovations LLP': 1, 'TV Mohandas Pai': 10, 'Suhail Rahman': 1, 'Bobby Reddy': 1, 'M George Oommen': 1, 'Sequoia Capital': 3, 'Grey Orange': 1, 'Rajesh Ramaiah': 1, 'Anshuman Das': 1, 'Rishi Das': 1, 'Uber Technologies Inc': 1, 'Amaya Capital LLP': 1, 'Xelpmoc': 2, 'Kae Capital': 10, 'Francesco Cara': 1, 'ABI-Showatech (India) Ltd': 1, 'M&S Partners': 2, 'Subramani Somasundaram': 1, 'Sundeep Sahni': 1, 'Mayank Mittal & Others': 1, 'Harmeet Bajaj': 1, 'Pameela P': 1, 'Fusiontech Ventures & Others': 1, 'Sunil Kalra': 5, 'Aditya Singh': 1, 'Rishi Srivastava': 1, 'NB Ventures': 1, 'Nspira': 1, 'Yuvraj Singh': 2, 'Anand Mahindra': 3, 'Amen Dhyllon': 1, 'RoundGlass Partners': 1, 'Grace Grace Techno Ventures LLP': 1, 'Rajul Garg & Other undisclosed investors': 1, 'Arun Patodia': 1, 'Bharat Kedia': 1, 'Harsh Mahajan': 1, 'Farhan Naqvi': 1, 'Sreepathy Viswanathan': 1, 'WaterBridge Ventures': 2, 'SQue Capital': 1, 'Bodhtree Consulting Limited': 1, 'Mohan Alexander': 1, 'R. Natarajan': 1, 'Vikrant Varshney': 1, 'Amit Sinha': 1, 'Pawan Borle': 2, 'Nirmal Singh': 1, 'Manish Prasad': 1, 'Vineet Varma': 1, 'Nick Haulkoury': 1, 'Abhai S. Rao': 1, 'Dr Ramesh Ayyala': 1, 'Satya Muthyala': 1, 'Cao Yibin': 1, 'Huang Wei': 1, 'Madhusudan E': 1, 'Artha India Ventures': 1, 'Singularity Holdings': 1, 'Girish Mathrubootham': 10, 'RB Investments': 2, 'undisclosed investors': 11, 'Mohammed Khan': 1, 'Sameer Narayan & Others': 1, 'Alphard Maritime Group': 1, 'Cross Border Angels & Experts': 2, 'Rajasthan Angel Innovators Network': 2, 'The Chennai Angels': 9, 'YouWeCan Ventures': 9, 'BLIP Initiatives': 1, '91maker.com': 1, 'iBhubs': 1, 'Mekin Maheshwari': 3, 'Bharat Vijay': 1, 'Krish Seshadri': 1, 'Amar Arsikere': 1, 'Undisclosed Investors': 50, 'Anthill Scale Ventures': 1, 'Esvee Technologies Inc': 1, 'Inc95 Consulting': 1, 'Aparup Sengupta': 1, 'Devendra Reddy': 1, 'Hyderabad Angels': 7, 'Nimit Panigrahi': 2, 'Hinduja family': 1, '50K Ventures': 3, 'Rainmatter': 3, 'Indian Angels Network': 2, 'Deepak Nathani': 3, 'Ajay Relan': 3, 'Satoshi Studios': 1, 'Anand Chandrasekaran': 11, 'Vellayan Subbiah': 2, 'Jonathan Boutelle': 1, 'Rahul Chawla': 1, 'Salil Donde': 1, 'Amit Ranjan': 7, 'Govind Rajan & Others': 1, '1Crowd': 2, 'Varsha Rao': 1, 'Surojit Chatterjee': 1, 'Nirav Choksi & Others': 1, 'Chirag Nikunj Sheth & Others': 1, 'Aakrit Vaish': 1, 'Swapan Rajdev': 1, 'Sushill Jiwarajka': 1, 'GEMs': 1, 'IdeaSpring Capital': 1, 'Kstart Capital': 1, 'Ayesha Takia Azmi': 1, 'Abu Farhan Azmi': 1, 'Dr. Ritesh Malik': 2, 'Dheeraj Pandey': 1, 'Rajesh Yohannan': 2, 'Akash Garg': 1, 'Ankur Capital': 1, 'JLL': 1, 'Eagle10 Ventures': 1, 'Ratan Tata': 9, 'Nandan Nilekani': 2, 'Uday Kotak': 1, 'Vijay Shekhar Sharma': 7, 'Kiran Mazumdar-Shaw': 1, 'Rajiv C Mody': 1, 'Lahiri Music’s family office': 1, 'PV Sahad': 1, 'Sandeep Shroff': 1, 'Rahul Gupta': 1, 'Matrix Partners': 2, 'Rohitash Gupta': 1, 'Keyur Joshi': 1, 'Pavan Bakeri': 1, 'Koen Bouwers': 1, 'Lomesh Agarwal': 1, 'Jeroen Mensen': 1, 'Pablo van den Bosch & Others': 1, 'Deepak Kulkarni': 1, 'Sandeep Pangal': 1, 'Paytm': 3, 'Ishwar Singh': 1, 'Farhaan Shabbir': 1, 'L.D Sharma': 1, 'Saurabh Arora': 1, 'Philippe Bouchet': 1, 'Sushil Kumar': 1, 'Sandeep Singh': 1, 'MAPE Advisory Group': 1, 'R Ramaraj': 2, 'Corvus Ventures': 1, 'Z Nation Lab': 1, 'mall Industries Development Bank of India (SIDBI)': 1, 'Benori Ventures LLP': 1, 'Jacqueline Fernandez': 1, 'Nibhrant Shah': 1, 'Anandbir Singh': 1, 'Anirudh Sheth': 1, 'Pratik Singhi': 1, 'Vikram Mehta': 1, 'Murali Nair': 1, 'Gaurav Kachru': 1, 'Sundeep Singh Sahni': 1, 'Jatin Aneja': 2, 'Arun Malhotra': 1, 'Village Capital': 1, 'Undisclosed Investor': 9, 'Ravi Garikipati': 3, 'Surot Chatterjee': 1, 'Ashish Agrawal': 1, 'LG Chandrasekhar': 1, 'Sashi Reddi': 2, 'pi Ventures': 1, 'Axilor Ventures': 4, 'Binny Bansal': 7, 'Arun Tadanki': 2, 'Aditya Verma': 1, 'S. Xavier Britto': 1, 'GardX International': 1, 'Accel Partners': 4, 'Poshika Financial Ecosystem': 1, 'Calcutta Angels Network (CAN)': 1, 'Augment Ventures': 2, 'Vishwadeep Bajaj': 1, 'Harsh Kundra': 1, 'Nandkumar Rane': 1, 'LN Buddharaju': 1, 'Anupam Tyagi': 1, 'Ideaspring Capital': 2, 'Langoor': 1, 'Chandigarh Angels Network': 3, 'Social Alpha and other unnamed angel investors': 1, 'Bhupen Shah': 1, 'Jayesh Parekh': 1, 'Sanjay Sathe': 1, 'Sandeep Aggarwal': 3, 'Gautam Chhaochharia': 1, 'R Balachandar': 1, 'Undisclosed angel investors': 1, 'Atul Nishar': 2, 'Aneesh Seth': 1, 'Tushar Mittal': 1, 'National Science and Technology Entrepreneurship Development Board': 1, 'IDG ventures': 1, 'Emergent Ventures': 1, 'Y Combinator': 2, 'Deepak Gurnani': 1, 'Singapore Angel Network': 11, 'Asuka': 1, 'Pravega Ventures': 2, 'BEENEXT': 1, 'Puneet Gupta': 2, 'Nimitt Desai & Others': 1, 'Sujeet Kumar': 4, 'Bhupender Singh': 1, 'Yashish Dhaiya': 1, 'Shripad Nadkarni': 2, 'Nandu Nandkishore': 1, 'Ravi Saxena': 1, 'Sandeep Raju': 1, 'Ojas Ventures': 1, 'Mahavir Sharma': 1, 'Vishal Jain': 1, 'Rohit Sethi': 1, 'Gaurav Luniya': 1, 'Vikas Bajaj': 1, 'Amit Kharbanda': 1, 'Ankit Gupta': 1, 'Puneet Motihar': 1, 'KStart Capital': 1, 'Vinod Martin': 1, 'Hemant Kaul': 1, 'Prof. Ram Kumar Kakani & Others': 1, 'Meher Roy': 1, 'Nikhil Arora': 1, 'Meet Kanodia': 1, 'Krit Sankalp': 1, 'Nitish Singh': 1, 'Risabh Gupta': 1, 'Om Chaudhry': 1, 'Malini Patel': 1, 'Stelcore Management Services': 1, 'Anjani Prasad': 1, 'Satveer Thakral': 1, 'Mumbai Angels': 8, 'Satya D Sinha': 1, 'Gyanendra Singh': 1, 'Jaarvis Accelerator': 1, 'Batlivala & Karani Securities': 1, 'Venture Works': 1, 'Earlsfield Capital': 2, 'Japan Vyas': 1, 'Tarun Adlakha': 1, 'Facebook FB Start programme': 1, 'Ganesh Natarajan': 2, 'ThinQbate': 1, 'Mohit Joshi & Others': 1, 'Mahalingam K': 1, 'Vikram Sud': 1, 'Punit Soni': 2, 'Utsav Somani': 2, 'Vishal Gondal': 2, 'Vikram Limaye': 1, 'Quake Capital': 1, 'SRI Capital': 4, 'Aprameya Radhakrishna': 11, 'Deepak Natraj': 1, 'Mahesh Murthy': 1, 'Pavan Ongole': 3, 'Sandeep Mathur': 1, 'Vijay Shekhar Sharma & Others': 1, 'Konglo Ventures': 2, 'White Unicorn Ventures': 1, 'Facebook FBStart': 3, 'Sandeep Tandon': 10, 'Nitin Saluja': 1, 'Gagan Goyal': 1, 'Pankaj Rungta': 1, 'Yogesh Agarwal': 1, 'Ishan Manaktala': 1, 'Chandigarh Angels': 1, 'Rohit': 1, 'Ashish Chand': 1, 'Sunil Singh & Others': 1, 'V Balakrishnan': 2, 'PV Srinivasan': 1, 'K2 Capital': 1, 'Rajiv Mehta': 3, 'Ramakant Sharma': 1, 'Vishal Malik': 1, 'Aavya Ventures': 1, 'Evan Lim': 1, 'Kanchan Ghoshal': 1, 'Ram Kumar Kakani': 1, 'Zishaan Hayath': 8, 'Karan Chellani': 2, 'Mohit Satyan': 1, 'Vividhity Ventures': 1, 'Harsh V. Pant': 1, 'Ratheesh Raveendran': 1, 'Quarizon': 6, 'India Quotient and others': 1, 'Ajith Nair': 2, 'Anish K': 1, 'Amajit Gupta': 1, 'Praveen Dubey': 1, 'J.P. Bhatt': 1, 'Rajasthan Venture Capital Fund': 1, 'Mumbai Angels Network': 1, 'SB Ventures': 1, 'Native Angels Network': 1, 'IvyCamp Ventures': 2, 'Umang Moondra': 1, 'Undisclosed investor': 9, 'Singapore based investor': 1, 'YourNest Fund II': 1, 'India Educational Investment Fund': 4, 'Alok Mittal & others': 1, 'Dream Incubator': 1, 'V Aanand R': 1, 'Puthen & Cole': 1, 'Sanjay Mehta & Others ( The Ten Minute Million)': 1, 'The Ten Minute Million': 3, 'Chandigarh Angels Network (CAN)': 1, 'Undisclosed': 8, 'GEMs Advisory': 1, 'Grace Capital Ventures': 1, 'Info Edge (India)': 1, 'Ajith Sukumaran': 1, 'Currae Healthtech Fund': 2, 'Eros Labs': 2, 'Investors from Mumbai Angels & LetsVenture': 1, 'Mohan Kumar': 1, 'V. Balakrishnan': 1, 'Venk Krishnan': 4, 'MJ Aravind': 1, 'Vikram Kotak': 1, 'Jayant Davar': 1, 'Ramkumar Nishtal': 1, 'Arjun Sharmaa': 1, 'Calcutta Angel Network': 1, 'Appliyifi': 1, 'Unicorn India Ventures': 2, 'Axilor': 1, 'Siddhartha Gupta': 1, 'Ashvin Chadha': 4, 'Rajul Garg': 6, 'Rajesh Yabaji': 1, 'Chanakya Hridaya': 1, 'Ramasubramaniam B': 1, 'Vishwanathan': 1, 'Nobel House': 1, 'Sunstone Capital': 1, 'FiNC': 1, 'GHV': 1, 'Lead Angels Network': 1, 'Anbu Pandian': 2, 'Prabhakar MR & Others': 1, 'V. Krishna Prasad': 1, 'Bhupen Shah & Others': 1, 'Swastika Investmart Ltd': 1, 'Digital Financial Service Lab': 1, 'GEMS Advisory': 1, 'Dr. Apoorv Ranjan Sharma': 2, 'Anil Jain': 1, 'Anuj Golecha': 1, 'Krishna Jhunjhunwala': 1, 'Anirudh Damani': 6, 'Let’s Venture': 1, 'Fireside Ventures & Others': 1, 'Taxmann': 1, 'Kaushal Agarwal': 1, 'Harminder Sahani': 1, 'KK Mehra': 1, 'Pranay Jivrajka': 2, 'Navjot Saini': 1, 'Pradyumna Dalmia': 2, 'S. Somasegar & Others': 1, 'Ritesh Mehta': 1, 'Aruna Ganesh Ram': 1, 'Sachin Bansal': 3, 'Lead Angels': 5, 'CoCreate Ventures': 1, 'Kedar Lele': 1, 'GHV Accelerator': 3, 'Calcutta Angels Network': 2, 'Raman Roy': 2, 'Yogesh Andlay': 1, 'Vaibhav Jain': 1, '3one4 Capital': 2, 'Aarin Capital': 4, 'Ameera Shah': 3, 'Vivek Bhargava': 3, 'A M Sikander': 1, 'Pramod Bhasin': 3, 'R.S Sharma': 1, 'Omnivore Capital': 1, 'Hitesh Windlass': 1, 'Asuka Holdings': 1, 'Devdeep Singh': 1, 'Khosla Impact': 1, 'YMS Mobitech': 1, 'Sanjai Vohra': 1, 'V. Bunty Bohra': 1, 'Undisclosed multiple investors': 1, 'IDG Ventures': 3, 'Dr. Pooja Gandhi': 1, 'Venture Highway': 1, 'VC Karthic': 1, 'Miten Mehta': 1, 'Umasankar Nistala': 1, 'Rakesh Patel': 1, 'Akash Bhavsar': 1, 'Jeevanandhan Rajagopal': 1, 'Vikas Chadha & Others': 1, 'Subramanya Venkat': 2, 'Mohit Sharma': 1, 'Yang Shu': 1, 'Shekhar Sahu': 1, 'Nitesh Pant': 1, 'Dileep Bhatt': 1, 'Milind Chaudhary': 1, 'Krishna Rokhale': 1, 'Menterra Social Impact Fund': 1, 'Blume Ventures & Others': 1, 'TVS Group': 2, 'Mahindra Univeg': 1, 'Viraj Tyagi & Others': 1, 'BeeNext': 1, 'Pravin Gandhi': 1, 'Smart Start Fund; Kunal Shah': 1, '& Others': 1, 'Ventureast Fund Advisors': 1, 'Sumpoorna Group': 1, 'HAX Accelerator': 1, 'Radhakrishnan Natarajan & Others': 1, 'undisclosed investor': 2, 'Nitin Passi': 1, 'Manickam Mahalingam': 1, 'Udaan Angels': 2, 'Rajesh Arora': 1, 'Arkas Industries': 1, 'GrowX Ventures': 3, 'Arun Venkatachalam': 2, 'Badal Malick': 2, 'Virendra Patel': 1, 'Quarizon Consultancy Services LLP': 1, 'Karan Bhagat': 1, 'DSG Consumer Partners': 2, 'Mayank Shah': 1, 'Shreyans Shah': 1, 'Vishnu Bhat': 1, 'Rajiv Lunkad': 1, 'Naresh Ravindranath': 1, 'Boman Irani': 1, 'Dhruv Chitgopekar': 1, 'Prantik Dasgupta': 1, 'Hemant Sahni': 1, 'Newbie Promoters': 1, 'TLabs': 1, 'Ranjan Pai': 1, 'Mobikon': 1, 'Janak Jain': 1, 'KAE capital': 1, 'Swastika Company Ltd': 4, 'Lalit Vase': 1, 'Astarc Ventures': 2, 'Ajay Nanavati': 1, 'Afsal Salu': 2, 'Kalaari Capital': 6, 'Karanpal Singh & Others': 1, 'Pradeep Dhobale': 1, 'Amit Choudhary': 2, 'Anita Dongre': 1, 'Yash Dongre': 1, 'Milind Sarwate': 1, 'William Bissel': 1, 'Sailender Solanki': 1, 'Rajiv Solanki': 1, 'CareerNet Consulting Pvt. Ltd': 1, 'Ideation Initiative Pvt. Ltd': 1, 'Idein Ventures': 4, 'Ravi Linganuri': 1, 'Dr. Rameshwar Kumar': 1, 'havya Sharma': 1, 'Amit Nagar': 1, 'Harinder Takhar': 1, 'Zain Raj': 1, 'Dr. Prasad Kaipa': 1, 'Abaran Deep': 1, 'Aseem Sood': 1, 'Mustafa Patni': 1, 'Rahul Kayan': 1, 'Nikhil Golcha': 1, 'Shubham Gupta': 1, 'Roy Kwan': 1, 'Pradeep Mirani': 1, 'Aqeel Ahmed': 2, 'Anand Ladsariya': 2, 'Nitin Agarwal': 1, 'Raj Singh Bhandal': 1, 'Balasubramanian Krishnamurthy': 1, 'Sidhartha Hazarika & Others': 1, 'Dheeraj Jain': 5, 'Palash Jain': 1, 'Rahul Singh': 1, 'Ambarish Gupta': 1, 'Ganesh Narasimhan': 1, 'Ramana Thumu': 1, 'Sudhir Mallem': 1, 'CIO Angel Network': 1, 'Sumit Jain': 6, 'KellyGamma': 1, 'Lead Angels & Others': 2, 'Lothal Angel Ventures': 1, 'Anglian Omega Network': 2, 'Rebright Partners': 4, 'Rohit MA': 1, 'Idea Wave Labs': 1, 'Prashant Tandon': 3, 'Gaurav Agarwal': 3, 'Gaurav Bhogle': 1, 'Shrishti Sahu': 1, 'Shantanu Mathur': 1, 'Prabhat Aggarwal': 1, 'Scale Ventures Funds': 1, 'Pratik Seal': 1, 'Swastika Co Ltd.': 1, 'Now Capital': 1, 'Kanwaljit Singh': 4, 'Ajay Lakhotia': 1, 'Mudit Saxena': 1, 'Undisclosed HNIs': 4, 'Tracxn Labs': 11, 'Subramanya SV': 2, 'Ravi Garkipati': 1, 'Sachin Bhatia': 3, 'Darius Pandole': 1, 'Kunal Khattar': 1, 'Dheerag Jain': 1, 'Brand Capital': 3, 'Paul Roy': 1, 'Existing Investors': 1, 'Promatus Group': 1, 'Swastika Company Ltd.': 1, '1Crowd (through crowd funding)': 1, 'Centre for Innovation Incubation and Entrepreneurship (CIIE)': 3, 'Sharad Sharma & 14 others': 1, 'Noshir Kaka': 1, 'Subramanian Ramadorai': 1, 'Kiran Deshpande': 1, 'Pankaj Gupta': 2, 'Ravi Nigam & Others': 1, '1Crowd (through crowdfunding)': 1, 'HT Media Ltd': 1, 'North Base Media': 1, 'Manoj Varghese': 1, 'Ananth Narayanan': 1, 'Divyesh Shah': 1, 'Undisclosed Dubai based HNIs': 1, 'Swan Angel Network': 3, 'Sachin Khandelwal and others': 1, 'Maninder Gulati': 2, 'Satish Vasudeva': 1, 'Madhusudhan Jujare & Others': 1, 'Vijay Kedia': 1, 'Riju Gupta': 1, 'Kamal Chabra': 1, 'Dr. Goutam Challagalla': 1, 'Outbox Ventures': 3, 'Jaspreet Bindra': 1, 'Arjun Malhotra': 2, 'Rohan Malhotra': 2, 'Sidharth Rao': 1, 'Rakesh Agrawal': 1, 'ah! Ventures': 12, 'Rohit Chokhani': 1, 'Vineet Taneja': 1, 'Kamal Puri': 1, 'Mohit Lalvani': 1, 'Scale Ventures': 1, 'Investopad': 1, 'P39 Capital': 1, 'Abhinav Sinha': 1, 'Globevestor Angel Fund': 1, 'Devendra Rane': 1, 'Ravi Jain': 1, 'Arpan Nagdeve': 1, 'Instalabs': 1, 'Undisclosed Ex Mckinsey Directors and Partners': 1, 'Kunal Shah & Sandeep Tandon': 1, 'Rajasthan Angel Investor Network & Others': 1, 'Ashutosh Lawania': 2, 'Rajul Jain': 1, 'Rishi Gupta & Others': 1, 'Sarbvir Singh': 1, 'Raghav Bahl': 2, 'Aaruha Technology Fund': 1, 'Zaffiro Ventures': 2, 'Deepak Gupta': 1, 'Rohit Bansal': 10, 'Kunal Bahl': 11, 'Abhishek Jain': 2, 'Gaurav Singhvi': 1, 'Kirthiga Reddy': 1, 'Renuka Ramanath': 1, 'Cherry Tin': 1, 'Rothenberg Ventures': 1, 'Alex Chua': 1, 'Rahul Garg': 1, 'Stanford Angels & Entrepreneurs': 1, 'Harvard Angels': 1, 'Ashish Mahajan': 1, 'Sarvesh Sharma': 1, 'Rishi Parti': 1, 'Yogesh Bansal': 2, 'Ajay Piramal': 1, 'Gaurav Bhalotia': 3, 'Jaspal Bindra': 1, 'Parth Jindal': 1, 'Keiretsu Forum': 1, 'Anurag Gupta': 1, 'Varun Khanna': 1, 'Faraz Khan': 1, 'GEMS group': 1, 'Abhijit Avasthi': 1, 'SP Vijay': 1, 'Satish Jamdar': 1, 'Green House Ventures Accelerator': 1, 'Abhishek Agarwal': 1, 'Krishnakumar Nataraj': 1, 'Sarath Sura': 2, 'Shanti Mohan': 1, 'Sarthak and Nihit Agarwal': 1, 'Suramya Gupta': 1, 'Nilesh Shah': 1, 'Swastika Company Pvt Ltd': 1, 'MapmyIndia': 1, 'MadhanKumar Madathupalayam': 1, 'Sreenivasa Reddy Musani': 1, 'Sanjiv Rai': 1, 'Aneesh Reddy': 5, 'Venkat Tadanki': 1, 'Krishna Mehra': 3, 'Amit Rathore': 1, 'Ankit Maheshwari': 1, 'Anand Singh': 1, 'BlackJag Partners': 1, 'Cameron Jones': 1, 'Ritesh Dwivedy': 1, 'Priti Padhy': 1, '3 undisclosed HNIs': 1, 'Vivek Joshi': 2, 'Mohit Satyanand': 1, 'Amit Banati': 1, 'Arun Khanna': 1, 'Bhavish Aggarwal': 3, 'Ankit Bhati': 2, 'Viridian Capital': 1, 'EVC Ventures': 2, 'MCube8': 1, 'Saama Capital': 1, 'Blume Ventures & Vaibhav Domkundwar': 1, 'Atul Ingle': 1, 'Nimmagadda Prasad': 1, 'BetOnIndia Technology Pvt Ltd': 1, 'Sanjay Verma': 1, 'Amit Khanna (LetsVenture)': 1, 'Hamraj Kumar': 1, 'Timbru Ventures': 1, 'Bitkemy Ventures': 1, 'Unicorn Venture': 1, 'CP Bothra': 1, 'Rahul Kirloskar': 1, 'Fusion Tech Ventures': 1, 'Adi Saravanan': 1, 'Pravin Dongre': 1, 'Mahendra Doshi': 1, 'Purvi Ventures': 2, 'Vipin Arora': 1, 'Jitendra Gupta': 3, 'Pankaj Tripathi': 1, 'Nexus Venture Partners': 1, 'SAIF Partners': 5, 'Aprameya Radhakrishnan': 1, 'Phanindra Sama': 5, 'Subba Rao Telidevara': 1, 'Vibhu Garg': 3, 'Paula Ravindra Mariwala': 1, 'Kanodia family': 1, 'Amit Banka': 1, 'Sanjeev Sinha': 1, 'Soniks Consulting': 1, 'Harsh Vardhan Hada': 1, 'Piyush Jain': 1, 'Niloufer Dundh': 1, 'Fauzan Rahim': 1, 'Balamurugan Mani': 1, 'Ankush Mehta': 1, 'StartupXseed Ventures': 2, 'Shruth & Smith Group': 1, 'Hermes Group': 1, 'Rohan Angrish': 1, 'Hrishi Oberoi': 1, 'Rahul Mehta': 1, 'Kapil Hetamsaria': 1, 'Pranav Dedhia': 1, 'Grex.in': 2, 'Kalaari Capital Accelerator Program': 3, 'Group of undisclosed Angel Investors & HNIs': 1, 'Rajul Garg & Others': 1, 'Roopak Saluja': 1, 'Vishal Khare': 3, 'Manish Kheterpal': 2, 'Vinay Mittal': 1, 'Dinesh Mittal': 1, 'Sandeep Gupta': 1, 'Rakesh Gupta': 1, 'Aditya Aggarwal': 1, 'Siddharth Banerjee': 1, 'Vikas Ranjan': 1, 'Anshul Jindal': 1, 'Sunil Koul': 1, 'and Sanjeev Agrawal': 1, 'Raghunandan G': 5, 'Anurag Chauhan': 1, 'Anuj Srivastava': 3, 'Ankit Nagori': 2, 'YourNest Angel Fund': 2, 'Katabole Technology Venture': 1, 'Aprameya': 1, 'Venk': 1, 'Ravi Machani': 1, 'Hitesh Gupta': 1, 'Rohit Choudhary': 1, 'Chatsworth Management': 1, 'ITW Digital': 1, 'Pradeep Reddy Kamasan': 1, 'vCommission': 1, 'MCube Capital Advisors Pvt Ltd': 1, 'Sudhir Mehta': 1, 'MoMagic Technologies': 1, 'Vikram Lakhotia': 2, 'Ashish Gupta and other undisclosed investors': 1, 'Alok Sharma': 1, 'Kris Gopalakrishnan': 5, 'Saurabh Srivastava': 1, 'and Ajai Chowdhry': 1, 'Equentia Natural Resource & Other undisclosed investors': 1, 'N.S. Raghavan Centre for Entrepreneurial Learning': 1, 'Mukesh Bansal': 1, 'Ninestarter': 1, 'IDG': 1, 'Villgro': 1, 'Mahendra Patel': 1, 'Nilender Chauhan': 1, 'Rattan Chadha': 1, 'Wingify': 1, 'Prashant Puri': 1, 'Dr. Ranjan Pai': 1, 'Shaan': 1, 'Daud Ali': 1, 'Narendra Karnavat': 1, 'Vikas Kapoor': 1, 'Krishna Jhunjhunwaala': 1, 'Jayesh Shah': 1, 'Anil Kapoor': 1, 'Pravin Khandelwal': 1, 'Yatin Kumar Jain': 1, 'Dr. Aniruddha Malpani': 2, 'Dr. Sridhar Ramaswamy': 1, 'Rakesh Mathur': 2, 'Prime Venture Partners': 2, 'StartUp Equity Partners': 1, 'Rajeev Agrawal': 1, 'Prashant Gooty': 1, 'Ram Shriram': 1, 'Neeraj Arora': 1, 'Puru Vashishtha': 1, 'Mount Nathan Advisors': 1, 'Mahavir Pratap Sharma': 3, 'Ajay Data': 1, 'Yogesh Chaudhary': 2, 'Sanjay Phophaliya': 1, 'Siddharth Agarwal': 1, 'Kamal Kothari': 2, 'Vivek Nathani': 1, 'H C Jain': 1, 'Ajay Data & other HNIs': 1, 'Mitin Patel': 1, 'RN Agarwal': 1, 'Undisclosed Angel investors & HNIs': 1, 'Adil Allana': 1, 'Gautam Ivatury': 1, 'Signal Point Partners': 1, 'Ajay Data & undisclosed HNIs': 1, 'M&Y Partners': 1, 'SVG Media': 1, 'Anthil Ventures & others': 1, 'Indian Angel network': 1, 'GrowthStory': 2, 'Apurva Salapuria': 1, 'Hitesh Oberoi': 1, 'Nirupa Shankar': 1, 'Farooq Oomerbhoy': 1, 'Anand Mittal': 1, 'Blume Ventures & Other unnamed Investors': 1, 'Fundnel': 1, 'Unitus Seed Fund': 7, 'Kludein LLCPhanindra Sama': 1, 'Narayan Ramachandran': 1, 'Pranav Pai': 1, 'Dino Morea': 2, 'Anoop Hingorani': 1, 'Manoj Kumar & Other undisclosed investors': 1, 'Daman Soni': 1, 'Rajat Gupta & Others': 1, 'Mohit Gulati': 1, 'Ruchirans Jaipuria': 1, 'Anuj Sanghi': 1, 'Sol Primero': 5, 'Sudhir Anandarao': 1, 'Ankur Warikoo': 1, 'Ankur Singla': 1, 'Unicorn Ventures': 1, 'Naveen Tewari': 3, 'Abhay Singhal': 2, 'Amit Gupta': 8, 'Piyush Shah': 2, 'Undisclosed private investors': 1, 'Vijay Krishna Yadav': 1, 'Apoorv Ranjan Sharma': 1, 'Daud Ali and others': 1, 'Aspada Investment Advisors': 1, 'Blume Ventures.': 1, 'Stanford Angels': 2, 'Entrepreneurs India': 2, 'Vipul Parekh': 1, 'ajesh K Murthy': 1, 'PurpleTalk Inc': 1, 'Anuj Puri': 1, 'Dheeraj Jain & Other angel investors': 1, 'Raj Gala Shah': 1, 'Zaheer Memon': 1, 'Mohit Goel': 2, 'Janak Parikh': 1, 'Hari Krishna': 1, 'Ajay Modani': 1, 'Dr V Ravinder': 1, 'Anirudh Rastogi': 1, 'Rakesh Gakhar': 1, 'Rajeev Mudumba': 1, 'Nagendra Prasad Bhanuprakash': 1, 'Hemang Sahani': 1, 'Funding through 1Crowd platform': 1, 'Alex Kuruvilla': 1, 'Pradeep Guha': 1, 'Saket Dhankar': 1, 'Rajan Pandhare': 1, 'Chandrashekar Tallapragada': 1, 'Pankaj Kapoor': 1, 'Beenext': 1, 'Abhishek Goyal': 3, 'Arjun and Rohan Malhotra': 1, 'Harpreet Singh Grover': 2, 'Gagan Dugal': 1, 'Rannvijay Singh': 1, 'Anita Hassanandani': 1, 'Naveen Gupta': 1, 'Tracxn Labs & Others': 1, 'Alok Mittal': 6, 'Rishi Mandawat': 1, 'Dexter Angel Circle': 1, 'Pix Vine Capital': 1, 'Infocomm Development Authority of Singapore': 1, 'GAIN': 1, 'Devidas Desai': 1, 'Vipul Gautam': 1, 'Littlerock': 1, 'Singularity Ventures': 1, 'Mekin Maheshwar': 1, 'Bharanidharan Viswanathan': 1, 'Sanjiv Mittal': 1, 'Shobhit Shukla': 1, 'Rahul Agarwal': 1, 'Robin Utthappa': 1, 'Daljit Singh': 2, 'Aditya Vij': 1, 'Kishore Kumar': 1, 'Shuchin Bajaj': 1, 'Jay Vijayan': 1, 'Himanshu Aggarwal': 2, 'Puneet Agarwal': 1, 'Mohandas Pai': 4, 'Hiro Mashita': 1, 'Ajay Sarupria': 1, 'Snow Leopard Technology Ventures': 1, 'T V Mohandas Pai': 4, 'Multiple investors through Ten Minute Million competition': 4, 'Dunamis Ventures Pte Ltd.': 1, 'Green House Ventures (GHV)': 4, 'Ingram Content Group': 1, 'Oranda Global & Others': 1, 'Venturesity': 1, 'Arihant Patni': 5, 'Vinod Jain & Others': 1, 'Vinod Bansal': 1, 'Sanjeev Singhal': 1, 'Mahesh Parasuraman': 1, 'Rahul Gautam & Others': 1, 'Rajesh Sawhney': 6, 'India Ventures': 1, 'Aarin Capital & Others': 1, 'Lion Ventures': 1, 'Manipal Global Education Services': 1, 'Atul Jain': 1, 'Anil Gelra': 1, 'Jaikumar Nair': 1, 'Jaideep Mehta': 1, 'Sachin Dalal': 1, 'Jayabalan Subramanian': 1, 'Alok Rawat': 1, 'Grey Orange Robotics': 1, 'Sunil Mehta': 1, 'Mukesh Kumar Gupta': 1, 'Vaibhav Doshi': 1, 'Joby Babu': 1, 'Abhishek Acharya': 1, 'Manish Shah': 1, 'Ranjit Singh': 1, 'Haresh Chawla': 2, 'Powai Lake Ventures': 7, 'Globevestor': 1, 'Virendra Shekhawat': 1, 'Deepak Chokhani': 1, 'Yogesh Patel & Others': 1, 'Vishwadeep Bajaj & Others': 1, 'Rajnish Sinha': 1, 'Prijit Debnath': 1, 'KWAN Entertainment & Marketing Solutions': 1, 'Powerhouse Ventures & Others': 1, 'Dr Nandish Domlur': 1, 'Amit Sandill': 1, 'Sujal Shah': 1, 'Farooq Oomerbhoy & Other angel investors': 1, 'Qualcomm (Through QPrize Contest)': 1, 'Chennai Angels': 4, 'Varun Aggarwal': 2, 'Purvi Ventures & Others': 1, '3 undisclosed investors': 1, 'Nitin Bagmane & Other undisclosed investors': 1, 'Accel Partners & Others': 1, 'The Phoenix Fund and others': 1, 'Yajnanarayana Kammaje': 1, 'Tracxn Syndicate': 2, 'Suresh Venkat': 1, 'Raj Y': 1, 'Vishal Bali & Others': 1, 'Calcutta Angels': 4, 'Kapil Goel': 1, 'Siddharth Pai': 1, 'Manvinder Singh Banga': 1, 'Samir Bangara': 2, 'Anisha Mittal': 1, 'Lalit Mangal': 3, 'Deobrat Singh': 1, 'Saurab Paruthi': 1, 'Singapore Angel Network.': 1, 'Dinesh Agarwal': 3, 'Jagdish Kumar': 1, 'Bharat Gupta': 1, 'Ankush Saigal': 1, 'Praveen Saini': 1, 'Lalitesh Katragadda': 1, 'Ganayantrika Systems': 1, 'Bhanu Vikram Parsotam': 1, 'Rohan Desai and Paras Patel': 1, 'Ankur Gupta': 1, 'Myntra/LivSpace Founders': 1, 'Newbie Promoter Pvt Ltd': 1, 'Krishna Jhujhunwala': 1, 'Sanjay Mehta & Others': 1, 'GBIM Technologies Pvt Ltd': 1, 'Arun Chandra Mohan': 1, 'Mato Peric': 1, 'TracxnLabs': 3, 'Ranjan Mahtani': 1, 'Equity Crest': 1, 'Vinners': 1, 'Sparknext': 1, 'Shiva Ashok & Other unnamed investors': 1, '50k Ventures': 1, 'Munish Jauhar': 1, 'Pulkit Jain': 1, 'Rohit Narang': 1, 'Amod Malviya': 1, 'Mustafa Wajid': 1, 'Umang Kumar & Others': 1, 'Flipkart': 2, 'Saavn': 1, 'Micromax': 1, 'Dhiraj Rajaram': 1, 'Ambiga Dhiraj': 1, 'Sanjay Nath': 1, 'Varun Khurana': 1, 'Samar Singla': 1, 'Vinay Bansal': 1, 'Vikas Malpani': 1, 'LV Prasad': 1, 'Times Group': 1, 'Abhinav Mathur': 1, 'Sanjay Mehta': 4, 'Huzaifa Khorakiwala': 1, 'Anand Chandrasekaran & Others': 1, 'Umang Kumar': 2, 'Saïd Business School Seed Fund.': 1, 'Farooq Adam': 1, 'Ambi Parameswaran': 1, 'Rob Chandra': 1, 'Kanpur Angels & Others': 1, 'Chandigarh Angels Funding': 1, 'Avnish Mehra': 1, 'Pranay Adhvaryu': 1, 'Ravi Sampat': 1, 'Lalit Mangal & Others': 1, 'Un disclosed investors': 1, 'Neeraj Goenka': 1, 'Farooq Adam Mukadam': 1, 'Mohit Saxena': 3, 'Foxconn Technology Group & Others': 1, 'Harminder Sahni': 1, 'Sanjay Bakshi': 1, 'Maple Capital Advisors': 1, 'TermSheet': 1, 'Lead Angel Network': 1, 'Vineet Nalla': 1, 'Amit Patni': 1, 'Samir Shah': 2, 'GirnarSoft': 1, 'Aarin Capital Partners': 2, 'Lashit Sanghvi': 1, 'Nikhil Vora': 2, 'Venkat Vardhan': 1, 'Mohammed Bin Abdul Rehman Al Khalifa': 1, 'Ralph Berezan': 1, 'Vissal Mathew': 1, 'Balamurali Krishna': 1, 'CIO Angel Network (CAN)': 1, 'Chandigarh Angel Network (CAN)': 1, 'Beerud Sheth and Ravi Mantha': 1, 'Gaurav Gupta': 1, 'Vidyadhar Sarfare': 1, 'Ajeet Khurana Jinesh Shah': 1, 'Vikram Chachra': 3, 'Gopal Aggarwal': 1, 'Shopclues': 1, 'Mr. Sudhir & Ms. Shalini Sethi': 1, 'Mr. Praveen Someshwar': 1, 'Gabriel Investments': 1, 'Extreme Venture Partners\\xa0 William Bissell': 1, 'Zoya Akhtar': 1, 'Reema Kagati': 1, 'Ruchi Narain': 1, 'Amrish Kumar': 1, 'Hrishikesh Parandekar': 1, 'Prashanth Ranganathan': 1, 'Singapore Angels Network': 1, 'Chicago Capital Ventures': 1, 'Others': 1, 'Nisha Sharma': 1, 'Puneet Dalmia': 2, 'Balaji Prabhakar': 1, 'Allen Blue': 1, 'John Katzman': 1, 'Kartik Hosanagar': 1, 'Blue Fog Capital': 1, 'Kris Gopalakrishnan & Others': 1, 'Turning Ideas': 2, 'Quintillion Media': 1, 'Prahlad Rao': 1, 'Sundara Rajan': 1, 'Kalpana Tatavarti': 1, 'Shivanandan Pare': 1, 'Murugappa Group': 1, 'Arathi Krishna': 1, 'HT Digital Media Holdings Ltd': 1, 'Collaborative Licensing Ventures LLP': 1, 'Ruchir Arora & others': 1, 'Sharad Hegde': 1, 'Girish Reddy': 1, 'Siddharth Patil': 1, 'Shrikant Patil': 1, 'Sahil Barua': 3, 'Mukul Singhal': 1, 'Varun Ahuja': 1, 'Anubhav Verma': 1, 'Riqueza Capital': 1, 'Dheeraj Jain & Others': 1, 'Neeraj Jawalkar': 1, 'Sanjay Anandaram': 1, 'Vineel Nalla & Others': 1, 'Saina Nehwal': 1, 'Mike Galgon': 1, 'Ravi Gururaj': 2, 'Ashim Mehra': 1, 'Internet Group': 1, 'TNN Capital and others': 1, 'Jozef Bardik': 1, 'Leo Wang Sangeeth Ram': 1, 'TV Mohandas Pai’s family office': 1, 'Centre For Incubation & Business Acceleration (CIBA)': 1, 'Goa': 1, 'Mount Nathan Advisors Pte Ltd': 1, 'Sixth Sense Ventures': 1, 'Traxcn Labs': 1, '50K Ventures & others': 1, 'Logtally': 1, 'Gordon and Betty Moore Foundation': 1, 'Jitu Virwani': 1, 'Rimpal Chawla': 1, 'Ravi Krishnamurthy': 1, 'Enablers platform': 1, 'Inara Capital': 1, 'Rishi Khiani': 1, 'Palaash Ventures': 2, 'Blackstone Valley Group': 1, 'Raghu Vohra': 1, 'Aditya Dev Sood': 1, 'Kamal Bansal': 1, 'Karnataka Semiconductor Venture Capital firm': 1, 'S.D. Shibulal': 1, 'Srinath Batni': 1, 'Professor Tarun Khanna': 1, 'Ganapathy Venugopal.': 1, 'Pradeep K Jaisingh': 1, 'Sunil T V': 1, 'Vijay Ghadge': 1, 'Gurmeet Chahal & Others': 1, 'Dr. Pramath Raj Sinha': 1, 'BVR Mohan Reddy': 1, 'Anil Menon': 1, 'Swastika': 1, 'Manish Gupta': 1, 'Ashok Agarwal': 1, 'Raghu Khanna': 1, 'Sameer Gupta': 1, 'Tracxn': 1, 'Ashish Goenka & Others': 1, 'JMR Infotech India Pvt Ltd': 1, 'Unigrowth Inc': 1, 'Mandeep Singh': 1, 'Jairaj Singh': 1, 'Sargod Ventures': 1, 'Elevar Equity': 1, 'Gaurav Dalmia': 1, 'Gagan Hasteer': 1, 'Ashish Todi': 1, 'Abhinav Patodia': 1, 'Kumar Shwetabh': 1, 'High Networth Individuals (undisclosed)': 1, 'Uniqorn ventures': 1, 'ASP Consulting': 1, 'Satyen Kothari': 1, 'Keshav Sanghi': 1, 'Riddhesh Gandhi & Others': 1, 'Avtar Monga': 1, 'Vikas Agarwal': 1, 'Sanjeev Kakkar': 1, 'Smile Group': 1, 'Kemark Ventures': 1, 'Zishaan Hayath and Others': 1, 'Seedfund': 1, 'Bedrock Ventures': 2, 'Suyash Sharma': 1, 'Sean O’Sullivan & Others': 1, 'Dewang Neralla': 1, 'Roopak Taneja': 1, 'Manisha Gupta': 1, 'Mumbai Angels MAPE Advisory Group.': 1, 'Devesh Rai G': 1, 'Rajesh Aggarwal': 1, 'Amitpal Bhutani': 1, 'Vijai Laxmi': 1, 'Manpreet Singh': 1, 'Aarti Group': 1, 'Dr. Aniruddha Malpani Manish Gupta': 1, 'M&S Partners & others': 1, 'Sierra Ventures': 1, 'Cota Capital': 1, 'Vegas Tech Fund': 1, 'Alok Bajpai': 1, 'Rajnish Kumar': 1, 'Amit Dey': 1, 'Atul Jalan': 2, 'Shrikanth & Bharath': 1, 'R Natarajan': 1, 'Group of Angel investors': 2, 'ID Enablers Pvt Ltd': 1, 'Oswal Techno Ventures LLP': 1, 'undisclosed private investors': 1, 'Unnamed investor': 1, '500 Startups & Other HNIs': 1, 'S Chand and Co Pvt Ltd': 1, 'Amit Singhal': 1, 'PK Gulati & others': 1, 'Suresh Vaswani': 1, 'Rajesh Bhatia': 1, 'Dheeraj Mehta & Others': 1, 'GREX': 1, 'Puneet Bhatia & others': 1, 'Tania Johny Palathinkal': 1, 'India Quotient & other investors': 1, 'CMYK Health Boutique Pvt Ltd & Other individual investors': 1, 'R M Picture Company Pvt. Ltd.': 1, 'Ashish Jhalani': 1, 'Karanpal Singh': 1, 'Ritu Kapur': 1, 'Nalin Jain': 1, 'Shomil Pant': 1, 'Dinesh Kundu & others': 1, 'Nanadan Nilekani': 1, 'InMobi': 1, 'Green House Ventures': 2, 'Ankush Nijhawan': 2, 'Manish Dhingra': 2, 'Gaurav Bhatnagar': 2, 'Subodh Gupta': 1, 'Bessemer Venture Partners': 1, 'Anil Matai': 1, 'Vikram Tandon': 1, 'Shyam Sundar R & others': 1, 'Payal Syal': 1, 'Sandeep Dama & Others': 1, 'Oliphans Capital': 3, 'Applyifi': 1, 'High Networth Individuals (No details)': 1, 'Sachin Bansal & Binny Bansal': 1, 'Sangram Singh': 1, 'Multiple investors': 1, 'Naman Sarawagi': 1, 'Uday Punj': 1, 'Ashish Hemrajani': 1, 'Sanjeev Mehra': 1, 'Prakhar Bumb': 1, 'Rianta Capital': 1, 'Sunil Edwards': 1, 'Karan Bajwa': 2, 'Amanpreet Bajaj': 2, 'Manish Vij': 2, 'Bhavdeep Reddy': 1, 'Asha Jadeja Motwani & Others': 1, 'Rajat Malhotra': 1, 'Vijay Anand': 1, 'Mohandas Pai. Pallav Nadhani': 1, 'Singapore Angels Network & others': 1, 'Smile Multimedia': 1, 'Girish Matrubootham': 1, 'Astarc Ventures & Others': 1, 'Mato Peric & Others': 1, 'Mayank Singhal and others': 1, 'Uniqorn Ventures': 1, 'Rahul Khanna & Others': 1, 'Jungle Ventures': 3, 'Pranay Chulet': 1, 'Naveen Tiwari': 2, 'Mayank Singhal': 1, 'Viktor Koenig PE Fund': 1, 'Mantra Ventures': 1, 'Mohandas Pai & others': 1, 'VentureNursery': 2, 'Zeeshan Hayat': 1, 'Niraj Singh': 3, 'Nikunj Jain': 2, 'Punit Goyal': 1, 'Infuse Ventures': 2, 'Kunal Bajaj': 1, 'Chandru Badrinarayanan': 1, 'BedRock Ventures': 1, 'Shailesh Singh': 1, 'Ramesh Jogani': 1, 'Shailesh Viswanathan': 1, 'Jay Srinivasan': 1, 'Gaurav Sharma': 1, 'Viswanath Ramachandran': 2, 'RippleWave': 1, 'Sanjay Sethi': 1, 'Ravi Jaipuria & others': 1, 'CCube Angels': 1, 'Frontline Strategy': 1, 'Intellecap Impact Investment Network': 2, 'Indus Age Partners': 1, 'India Internet Fund': 1, 'Best Foodworks': 1, 'Neha Vats': 1, 'Gaurav Vats': 1, 'B M Gupta': 1, 'Vinod Singhal': 1, 'QPrize from Qualcomm Ventures': 1, 'Others from LetsVenture': 1, 'Ajeet Khurana & Others': 1, 'Girish Mathrubootham &\\xa0 Group of other Angel investors': 1, 'Jitendra Gupta & others': 1, 'Gujarat based angel investors': 1, 'MMY co-Founder': 1, 'Group of angel investors': 3, 'Nalin Jain & other angel investors': 1, 'Vani Kola': 1, 'Karthee Madasamay': 1, 'family office fund': 1, 'Rohit Goel': 1, 'Prashant Malik': 1, 'NEA': 1, 'Milliways Ventures': 1, 'Naya Ventures': 1, 'Rohit Bhatia': 1, 'Sunil Nikhar': 1, 'Vaibhav Domkundwar': 1, 'Siddharth Nautiyal': 1, 'Umesh Yadav': 1, 'Ankush Nijhawa': 1, 'Group of Angel Investors': 14, 'Times Internet': 2, 'Rudy Gopalakrishnan': 2, 'Orios Venture Partners': 2, 'Amit Ranjan & others': 1, 'The 1947': 1, 'Ajmera Group of Companies': 1, 'Prime Capital Markets Ltd': 1, 'Anupam Mittal & others': 1, 'LetsVenture investors': 1, 'Group of Investors': 2, 'Ravi Agarwal': 1, 'Growx Ventures': 1, 'Manish Singhal': 3, 'Equentia Natural Resources': 1, 'Li Tao': 1, 'Li Jian': 1, 'Draphant Consultants': 1, 'Nitin Garg': 1, 'Saurabh Jain': 1, 'Mohit Agarwal': 1, 'P39 Capital & Others': 1, 'IDG Ventures India': 3, 'Bessemer Ventures': 2, 'Mohit Satyanand & others': 1, 'Rahul Khanna': 1, 'Gokul Jaykrishna': 1, 'Ajeet Khurana & others': 1, 'Pravin Agarwala & others': 1, 'Atulya Mittal': 1, 'Globeinvestor': 1, 'Abhishekh Goyal': 1, 'Jaydeep Barman': 1, 'Not Disclosed': 1, 'Mirah Hospitality': 1, 'Teruhide Sato': 2, 'Rajeev Saraf': 1, 'Arvind Jha': 1, 'R. Satya Narayanan': 1, 'Kumar Bansal': 1, 'Kshitij Jain': 1, 'Ritesh Veera': 1, 'Tamarind Family Private Trust': 1, 'Uday Shankar': 1, 'Chetan Bhagat': 1, 'Sudhir Rao & Others': 1, 'Sumit Gandhi': 1, 'Manish Gandhi': 1, 'Deepak Singh': 1, 'Jayant Bokadia': 1, 'YourWeCan Ventures': 1, 'Lightspeed Venture Partners': 1, 'growX ventures': 1, 'Varun Agarwal & Others': 1, 'Traxcn Labs & Others': 1, 'Sandeep Parwal': 1, 'Krishan Gupta & Others': 1, 'Sachin and Binny Bansal': 1, 'Malvinder and Shivinder Singh': 1, 'Gurpreet Singh & others': 1, 'Elliot Stechman': 1, 'Gautam Sinha': 1, 'Ambarish Ray': 1, 'Group of 15 Angel Investors': 1, 'Srinivas Tirupati': 1, 'Mumbai Angels & Other angel investors': 1, 'Mark Mobius & 9 Other Angel investors': 1, 'Singapore Angel Network & Aseem Vadehra': 1, 'Gautam Gandhi': 1, 'Virendra Shahney': 1, 'Dr Paresh Doshi': 1, 'Natarajan Iyer': 1, '& other Angel investors.': 1, 'KCL': 1, 'SVP Fly Dubai & Others': 1, 'M&S Partners Pte. Ltd': 1, 'i2india Pvt Ltd': 1, 'Mahesh Pratapneni': 1, 'Pallab Chatterjee & others': 1, 'Patni Family Office': 1, 'Karan Maheshwari': 1, 'Kishor Ganji': 1, 'Roopa Nath': 1, 'Sunil Maheshwari & group of investors': 1, 'Group of Angel Investors from US/India': 1, 'Sprout Angels LLP': 1, 'AngelPrime': 3, 'Dr David Cheriton': 1, 'Mercury Fund': 1, 'Anshu Sharma': 1, 'Pratyush Prasanna': 1, 'Robert Winters & others': 1, 'Mape Advisory': 1, 'Manish Dugar': 1, 'Angie Mahtaney': 1, 'Anand Vijay': 2, 'Nipun Dureja': 1, 'Satyajit Heeralal': 1, 'Keith Rodricks': 1, 'Gaurav Lochan': 1, 'Azmul Haque': 1, 'Nikhil Bagri': 1, 'Rishi Vasudev': 1, 'Rajiv Nayan': 1, 'Viraj Tyagi & others': 1, 'Acumen Fund': 2, 'Vishwas Patel': 1, 'S.Gopalakrishnan': 1, 'Beenos': 1, 'Florida based Angel investor': 1, 'Prototyze': 1, 'Rajendra Gogri': 1, 'Chandrakant Gogri': 1, 'Teru Sato': 1, 'Venkatesh Valluri': 1, 'Jay Sethuram': 1, 'Hemant Kanakia': 1, 'Ravi Trivedi': 1, 'Subhash Goyal': 1, 'Peesh Venture Capital': 1, 'Anoop Goyal': 1, 'Mike Shah': 1, 'VA Sastry': 1, 'Sandiep Shrivatsava': 1, 'i2india Ventures': 1, 'Jan Manten': 1, 'Manipal Group': 1, 'Tim Chen': 1, 'Sanjay Venkat': 1, 'Rajesh Sawheny': 1, 'AECAL': 1, 'MeraEvents.': 1, 'Amit Tyagi': 1, 'Sandeep Acharya & others': 1, 'Jason Hirschhorn': 1, 'Jarett Posner': 1, 'and Amit Bhatiani': 1, 'Ajit Surana': 1, 'Ajai Chowdhry': 2, 'Nitin Singhal & Others': 1, 'Sarvesh Shahra & Others': 1, 'Hyderabad based investor': 1, 'Helion Venture Partner': 1, 'GSF and Other angel investors': 1, 'Version One Ventures': 1, 'Nexus Venture Partners and Arena Ventures': 1, 'Vikas Taneja & others': 1, 'Deepak Shahdadpuri': 1, 'Gulpreet Kohli': 1, 'Lightspeed Ventures': 1, 'S S Mukherji & Others': 1, 'Ah! Ventures': 1, '91SpringBoard': 1, 'Cross Border Angels & others': 1, 'Alok Goel': 2, 'Amit Agrawal': 1, 'Vinay Goel': 1, 'Gaurav Munjal': 1, 'Ashish Dev Kapur': 1, 'The HR Fund': 1, 'Alok Goel & others': 1, 'Ashish Kashyap': 1, 'Tarun Arora': 1, 'IAN Ventures': 1, 'Zishan Hayath': 1, 'GSF': 1, 'Ramesh kavediya': 1, 'I-cube-N': 1, 'CA Media LP': 1, 'Start Media.': 1, 'Wu Chay Chin': 1, 'HT Media': 1, 'Arun Duggal': 1, 'Dr Mushtaq Shah': 1, 'Dr Faraz Naqvi': 1, 'Impact Investment Holding': 1, 'Upaya Social Ventures': 1, 'Solidarity Venture Capital & others': 1, 'Pittie Group': 1, 'Nick Adams': 1, 'Kiran Bhat': 1, 'Family Pot Investments LLP': 1, 'Splice Advisors': 1, 'Shashank Mehrotra & Others': 1, 'Parvesh Bareja': 1, 'Sunjay Kapur': 1, 'Suresh Senapaty': 1, 'Srinivas Aluri': 1, 'Srinivas Modukury': 1, 'BS Nagesh': 1, 'Mumbai Angels & Group of other investors': 1, 'Cross Border Angels': 1, 'Venture Nursery Angels Mumbai Angels': 1, 'DA-IICT': 1, 'Techstars': 1, 'Carnegie Mellon University': 1, 'Startup Brasil program': 1, 'Unitus Seed FundNarayan Ramachandran': 1, 'Bijou Kurien': 1, 'Deepinder Goyal': 1, 'BC Prabhakar': 1, 'Rajat Jain': 1, 'Sanjay Bhasin': 1, 'Nagaraja Prakasam': 1, 'India Quotient.': 1, 'Venkat Vallabhneni': 1, 'Sudhakar Reddy': 1, 'Srinivasa Rao Paturi': 1, 'DeNA Co.': 1, 'Japan & Teruhide Sato (in Addition to MKS Switzerland & Kris GopalKrishnan)': 1, 'Tom Clausen': 1, 'Rohan Ajila': 1, 'Haldyn Glass': 1, 'Akash Agarwal': 1, 'Kevin Parikh': 1, 'Devesh Sachdev': 1, 'Ashish Tiwari': 1, 'Seedrs Crowd funding platform': 1, 'Kickstarter': 1, 'TNN Capital & IIG': 1, 'Shankar Mahadevan': 1, 'Deep Kalra & Others': 1, 'Adroitent Pvt. Ltd.': 1, 'Cogent E Services': 1, 'Consortium of Angel Investors': 1, 'Hyderabad Angels (at Startup Heroes event)': 5, 'Rohit Jain': 1, 'Amit Rambhia & Others': 1, 'Michael & Susan Dell Foundation': 1, 'August Capital Partners': 1, 'Michael Blakey': 1, 'Inventus Capital Partners': 1, 'UK based Group of Angel Investors': 1}\n"
     ]
    }
   ],
   "source": [
    "print(left)"
   ]
  },
  {
   "cell_type": "code",
   "execution_count": 239,
   "metadata": {},
   "outputs": [
    {
     "name": "stdout",
     "output_type": "stream",
     "text": [
      "[50, 33, 23, 16, 14]\n"
     ]
    }
   ],
   "source": [
    "\n",
    "cvalues=[]\n",
    "for value in left.values():\n",
    "    cvalues.append(value)\n",
    "cvalues.sort(reverse=True)\n",
    "#print(cvalues[0:5])\n",
    "\n",
    "newvalues=cvalues[0:6]\n",
    "newset=set(newvalues)\n",
    "#print(newset)\n",
    "newvalues=list(newset)\n",
    "newvalues.sort(reverse=True)\n",
    "print(newvalues)"
   ]
  },
  {
   "cell_type": "code",
   "execution_count": 240,
   "metadata": {},
   "outputs": [
    {
     "name": "stdout",
     "output_type": "stream",
     "text": [
      "Undisclosed Investors 50\n",
      "Indian Angel Network 33\n",
      "Rajan Anandan 23\n",
      "LetsVenture 16\n",
      "Anupam Mittal 16\n",
      "Kunal Shah 14\n",
      "Group of Angel Investors 14\n"
     ]
    }
   ],
   "source": [
    "cnumber=[]\n",
    "cinvestors=[]\n",
    "for value in newvalues:\n",
    "    for key in left:\n",
    "        if left[key]==value:\n",
    "            print(key,left[key])\n",
    "            cnumber.append(left[key])\n",
    "            cinvestors.append(key)"
   ]
  },
  {
   "cell_type": "code",
   "execution_count": 241,
   "metadata": {},
   "outputs": [
    {
     "name": "stdout",
     "output_type": "stream",
     "text": [
      "[50, 33, 23, 16, 16, 14, 14]\n",
      "['Undisclosed Investors', 'Indian Angel Network', 'Rajan Anandan', 'LetsVenture', 'Anupam Mittal', 'Kunal Shah', 'Group of Angel Investors']\n"
     ]
    }
   ],
   "source": [
    "print(cnumber)\n",
    "print(cinvestors)"
   ]
  },
  {
   "cell_type": "code",
   "execution_count": 242,
   "metadata": {},
   "outputs": [
    {
     "data": {
      "image/png": "[encoded data removed]",
      "text/plain": [
       "<Figure size 432x288 with 1 Axes>"
      ]
     },
     "metadata": {},
     "output_type": "display_data"
    }
   ],
   "source": [
    "plt.pie(cnumber,labels=cinvestors,autopct=\"%.2f%%\",rotatelabels=False)\n",
    "plt.title('INVESTORS')\n",
    "plt.show()"
   ]
  },
  {
   "cell_type": "markdown",
   "metadata": {},
   "source": [
    "ANSWER\n",
    "As the 1st option is Undisclosed Investors , We have to move with Indian Angel Network as they are the highest in\n",
    "crowd funding or seed funding.We can tell our friend to meet Any of these investors who invested in crowd or seed funding.So That he can start the start-up."
   ]
  },
  {
   "cell_type": "markdown",
   "metadata": {},
   "source": [
    "# FIFTH PROBLEM"
   ]
  },
  {
   "cell_type": "code",
   "execution_count": 227,
   "metadata": {},
   "outputs": [],
   "source": [
    "import pandas as pd\n",
    "import numpy as np\n",
    "import matplotlib.pyplot as plt"
   ]
  },
  {
   "cell_type": "code",
   "execution_count": 228,
   "metadata": {},
   "outputs": [],
   "source": [
    "data=pd.read_csv('startup_funding.csv')"
   ]
  },
  {
   "cell_type": "code",
   "execution_count": 229,
   "metadata": {},
   "outputs": [],
   "source": [
    "df5=data.copy()"
   ]
  },
  {
   "cell_type": "code",
   "execution_count": 230,
   "metadata": {},
   "outputs": [
    {
     "data": {
      "text/html": [
       "<div>\n",
       "<style scoped>\n",
       "    .dataframe tbody tr th:only-of-type {\n",
       "        vertical-align: middle;\n",
       "    }\n",
       "\n",
       "    .dataframe tbody tr th {\n",
       "        vertical-align: top;\n",
       "    }\n",
       "\n",
       "    .dataframe thead th {\n",
       "        text-align: right;\n",
       "    }\n",
       "</style>\n",
       "<table border=\"1\" class=\"dataframe\">\n",
       "  <thead>\n",
       "    <tr style=\"text-align: right;\">\n",
       "      <th></th>\n",
       "      <th>SNo</th>\n",
       "      <th>Date</th>\n",
       "      <th>StartupName</th>\n",
       "      <th>IndustryVertical</th>\n",
       "      <th>SubVertical</th>\n",
       "      <th>CityLocation</th>\n",
       "      <th>InvestorsName</th>\n",
       "      <th>InvestmentType</th>\n",
       "      <th>AmountInUSD</th>\n",
       "      <th>Remarks</th>\n",
       "    </tr>\n",
       "  </thead>\n",
       "  <tbody>\n",
       "    <tr>\n",
       "      <td>0</td>\n",
       "      <td>0</td>\n",
       "      <td>01/08/2017</td>\n",
       "      <td>TouchKin</td>\n",
       "      <td>Technology</td>\n",
       "      <td>Predictive Care Platform</td>\n",
       "      <td>Bangalore</td>\n",
       "      <td>Kae Capital</td>\n",
       "      <td>Private Equity</td>\n",
       "      <td>1,300,000</td>\n",
       "      <td>NaN</td>\n",
       "    </tr>\n",
       "    <tr>\n",
       "      <td>1</td>\n",
       "      <td>1</td>\n",
       "      <td>02/08/2017</td>\n",
       "      <td>Ethinos</td>\n",
       "      <td>Technology</td>\n",
       "      <td>Digital Marketing Agency</td>\n",
       "      <td>Mumbai</td>\n",
       "      <td>Triton Investment Advisors</td>\n",
       "      <td>Private Equity</td>\n",
       "      <td>NaN</td>\n",
       "      <td>NaN</td>\n",
       "    </tr>\n",
       "    <tr>\n",
       "      <td>2</td>\n",
       "      <td>2</td>\n",
       "      <td>02/08/2017</td>\n",
       "      <td>Leverage Edu</td>\n",
       "      <td>Consumer Internet</td>\n",
       "      <td>Online platform for Higher Education Services</td>\n",
       "      <td>New Delhi</td>\n",
       "      <td>Kashyap Deorah, Anand Sankeshwar, Deepak Jain,...</td>\n",
       "      <td>Seed Funding</td>\n",
       "      <td>NaN</td>\n",
       "      <td>NaN</td>\n",
       "    </tr>\n",
       "    <tr>\n",
       "      <td>3</td>\n",
       "      <td>3</td>\n",
       "      <td>02/08/2017</td>\n",
       "      <td>Zepo</td>\n",
       "      <td>Consumer Internet</td>\n",
       "      <td>DIY Ecommerce platform</td>\n",
       "      <td>Mumbai</td>\n",
       "      <td>Kunal Shah, LetsVenture, Anupam Mittal, Hetal ...</td>\n",
       "      <td>Seed Funding</td>\n",
       "      <td>500,000</td>\n",
       "      <td>NaN</td>\n",
       "    </tr>\n",
       "    <tr>\n",
       "      <td>4</td>\n",
       "      <td>4</td>\n",
       "      <td>02/08/2017</td>\n",
       "      <td>Click2Clinic</td>\n",
       "      <td>Consumer Internet</td>\n",
       "      <td>healthcare service aggregator</td>\n",
       "      <td>Hyderabad</td>\n",
       "      <td>Narottam Thudi, Shireesh Palle</td>\n",
       "      <td>Seed Funding</td>\n",
       "      <td>850,000</td>\n",
       "      <td>NaN</td>\n",
       "    </tr>\n",
       "  </tbody>\n",
       "</table>\n",
       "</div>"
      ],
      "text/plain": [
       "   SNo        Date   StartupName   IndustryVertical  \\\n",
       "0    0  01/08/2017      TouchKin         Technology   \n",
       "1    1  02/08/2017       Ethinos         Technology   \n",
       "2    2  02/08/2017  Leverage Edu  Consumer Internet   \n",
       "3    3  02/08/2017          Zepo  Consumer Internet   \n",
       "4    4  02/08/2017  Click2Clinic  Consumer Internet   \n",
       "\n",
       "                                     SubVertical CityLocation  \\\n",
       "0                       Predictive Care Platform    Bangalore   \n",
       "1                       Digital Marketing Agency       Mumbai   \n",
       "2  Online platform for Higher Education Services    New Delhi   \n",
       "3                         DIY Ecommerce platform       Mumbai   \n",
       "4                  healthcare service aggregator    Hyderabad   \n",
       "\n",
       "                                       InvestorsName  InvestmentType  \\\n",
       "0                                        Kae Capital  Private Equity   \n",
       "1                         Triton Investment Advisors  Private Equity   \n",
       "2  Kashyap Deorah, Anand Sankeshwar, Deepak Jain,...    Seed Funding   \n",
       "3  Kunal Shah, LetsVenture, Anupam Mittal, Hetal ...    Seed Funding   \n",
       "4                     Narottam Thudi, Shireesh Palle    Seed Funding   \n",
       "\n",
       "  AmountInUSD Remarks  \n",
       "0   1,300,000     NaN  \n",
       "1         NaN     NaN  \n",
       "2         NaN     NaN  \n",
       "3     500,000     NaN  \n",
       "4     850,000     NaN  "
      ]
     },
     "execution_count": 230,
     "metadata": {},
     "output_type": "execute_result"
    }
   ],
   "source": [
    "df5.head()"
   ]
  },
  {
   "cell_type": "code",
   "execution_count": 231,
   "metadata": {},
   "outputs": [
    {
     "data": {
      "text/plain": [
       "array(['Private Equity', 'Seed Funding', 'Debt Funding', nan,\n",
       "       'SeedFunding', 'PrivateEquity', 'Crowd funding', 'Crowd Funding'],\n",
       "      dtype=object)"
      ]
     },
     "execution_count": 231,
     "metadata": {},
     "output_type": "execute_result"
    }
   ],
   "source": [
    "df5['InvestmentType'].unique()"
   ]
  },
  {
   "cell_type": "code",
   "execution_count": 232,
   "metadata": {},
   "outputs": [],
   "source": [
    "df5['InvestmentType'].replace('PrivateEquity','Private Equity',inplace=True)\n",
    "df5['InvestmentType'].replace('SeedFunding','Seed Funding',inplace=True)\n",
    "df5['InvestmentType'].replace('Crowd funding','Crowd Funding',inplace=True)"
   ]
  },
  {
   "cell_type": "markdown",
   "metadata": {},
   "source": [
    "Since your friend startup is not in early phase it is in growth stage so the best-suited investment type is Private Equity. Find the top 5 investors who have invested in a different number of startups and their investment type is Private Equity. Correct spelling of investment types are - \"Private Equity\", \"Seed Funding\", \"Debt Funding\", and \"Crowd Funding\". Keep an eye for any spelling mistake. You can find this by printing unique values from this column.There are many errors in startup names. Ignore correcting all, just handle the important ones - Ola, Flipkart, Oyo and Paytm."
   ]
  },
  {
   "cell_type": "code",
   "execution_count": 233,
   "metadata": {},
   "outputs": [
    {
     "data": {
      "text/plain": [
       "array(['Private Equity', 'Seed Funding', 'Debt Funding', nan,\n",
       "       'Crowd Funding'], dtype=object)"
      ]
     },
     "execution_count": 233,
     "metadata": {},
     "output_type": "execute_result"
    }
   ],
   "source": [
    "df5['InvestmentType'].unique()"
   ]
  },
  {
   "cell_type": "code",
   "execution_count": 234,
   "metadata": {},
   "outputs": [
    {
     "data": {
      "text/html": [
       "<div>\n",
       "<style scoped>\n",
       "    .dataframe tbody tr th:only-of-type {\n",
       "        vertical-align: middle;\n",
       "    }\n",
       "\n",
       "    .dataframe tbody tr th {\n",
       "        vertical-align: top;\n",
       "    }\n",
       "\n",
       "    .dataframe thead th {\n",
       "        text-align: right;\n",
       "    }\n",
       "</style>\n",
       "<table border=\"1\" class=\"dataframe\">\n",
       "  <thead>\n",
       "    <tr style=\"text-align: right;\">\n",
       "      <th></th>\n",
       "      <th>SNo</th>\n",
       "      <th>Date</th>\n",
       "      <th>StartupName</th>\n",
       "      <th>IndustryVertical</th>\n",
       "      <th>SubVertical</th>\n",
       "      <th>CityLocation</th>\n",
       "      <th>InvestorsName</th>\n",
       "      <th>InvestmentType</th>\n",
       "      <th>AmountInUSD</th>\n",
       "      <th>Remarks</th>\n",
       "    </tr>\n",
       "  </thead>\n",
       "  <tbody>\n",
       "    <tr>\n",
       "      <td>0</td>\n",
       "      <td>0</td>\n",
       "      <td>01/08/2017</td>\n",
       "      <td>TouchKin</td>\n",
       "      <td>Technology</td>\n",
       "      <td>Predictive Care Platform</td>\n",
       "      <td>Bangalore</td>\n",
       "      <td>Kae Capital</td>\n",
       "      <td>Private Equity</td>\n",
       "      <td>1,300,000</td>\n",
       "      <td>NaN</td>\n",
       "    </tr>\n",
       "    <tr>\n",
       "      <td>1</td>\n",
       "      <td>1</td>\n",
       "      <td>02/08/2017</td>\n",
       "      <td>Ethinos</td>\n",
       "      <td>Technology</td>\n",
       "      <td>Digital Marketing Agency</td>\n",
       "      <td>Mumbai</td>\n",
       "      <td>Triton Investment Advisors</td>\n",
       "      <td>Private Equity</td>\n",
       "      <td>NaN</td>\n",
       "      <td>NaN</td>\n",
       "    </tr>\n",
       "    <tr>\n",
       "      <td>2</td>\n",
       "      <td>2</td>\n",
       "      <td>02/08/2017</td>\n",
       "      <td>Leverage Edu</td>\n",
       "      <td>Consumer Internet</td>\n",
       "      <td>Online platform for Higher Education Services</td>\n",
       "      <td>New Delhi</td>\n",
       "      <td>Kashyap Deorah, Anand Sankeshwar, Deepak Jain,...</td>\n",
       "      <td>Seed Funding</td>\n",
       "      <td>NaN</td>\n",
       "      <td>NaN</td>\n",
       "    </tr>\n",
       "    <tr>\n",
       "      <td>3</td>\n",
       "      <td>3</td>\n",
       "      <td>02/08/2017</td>\n",
       "      <td>Zepo</td>\n",
       "      <td>Consumer Internet</td>\n",
       "      <td>DIY Ecommerce platform</td>\n",
       "      <td>Mumbai</td>\n",
       "      <td>Kunal Shah, LetsVenture, Anupam Mittal, Hetal ...</td>\n",
       "      <td>Seed Funding</td>\n",
       "      <td>500,000</td>\n",
       "      <td>NaN</td>\n",
       "    </tr>\n",
       "    <tr>\n",
       "      <td>4</td>\n",
       "      <td>4</td>\n",
       "      <td>02/08/2017</td>\n",
       "      <td>Click2Clinic</td>\n",
       "      <td>Consumer Internet</td>\n",
       "      <td>healthcare service aggregator</td>\n",
       "      <td>Hyderabad</td>\n",
       "      <td>Narottam Thudi, Shireesh Palle</td>\n",
       "      <td>Seed Funding</td>\n",
       "      <td>850,000</td>\n",
       "      <td>NaN</td>\n",
       "    </tr>\n",
       "  </tbody>\n",
       "</table>\n",
       "</div>"
      ],
      "text/plain": [
       "   SNo        Date   StartupName   IndustryVertical  \\\n",
       "0    0  01/08/2017      TouchKin         Technology   \n",
       "1    1  02/08/2017       Ethinos         Technology   \n",
       "2    2  02/08/2017  Leverage Edu  Consumer Internet   \n",
       "3    3  02/08/2017          Zepo  Consumer Internet   \n",
       "4    4  02/08/2017  Click2Clinic  Consumer Internet   \n",
       "\n",
       "                                     SubVertical CityLocation  \\\n",
       "0                       Predictive Care Platform    Bangalore   \n",
       "1                       Digital Marketing Agency       Mumbai   \n",
       "2  Online platform for Higher Education Services    New Delhi   \n",
       "3                         DIY Ecommerce platform       Mumbai   \n",
       "4                  healthcare service aggregator    Hyderabad   \n",
       "\n",
       "                                       InvestorsName  InvestmentType  \\\n",
       "0                                        Kae Capital  Private Equity   \n",
       "1                         Triton Investment Advisors  Private Equity   \n",
       "2  Kashyap Deorah, Anand Sankeshwar, Deepak Jain,...    Seed Funding   \n",
       "3  Kunal Shah, LetsVenture, Anupam Mittal, Hetal ...    Seed Funding   \n",
       "4                     Narottam Thudi, Shireesh Palle    Seed Funding   \n",
       "\n",
       "  AmountInUSD Remarks  \n",
       "0   1,300,000     NaN  \n",
       "1         NaN     NaN  \n",
       "2         NaN     NaN  \n",
       "3     500,000     NaN  \n",
       "4     850,000     NaN  "
      ]
     },
     "execution_count": 234,
     "metadata": {},
     "output_type": "execute_result"
    }
   ],
   "source": [
    "df5.head()"
   ]
  },
  {
   "cell_type": "code",
   "execution_count": 243,
   "metadata": {},
   "outputs": [],
   "source": [
    "right={}\n",
    "left={}\n",
    "for index,row in df5.iterrows():\n",
    "    name=row['StartupName']\n",
    "    investmenttype=row['InvestmentType']\n",
    "    investmenttype=str(investmenttype)\n",
    "    name=str(name)\n",
    "    name=name.lower()\n",
    "    l1=name.split()\n",
    "    l2=name.split('.')\n",
    "    #CHECKING FOR ALL THE POSSIBILTIES\n",
    "    if 'ola' in l1 or 'ola' in l2 or 'olacabs' in l1:\n",
    "        req_startup = 'Ola'\n",
    "    elif 'flipkart' in l1 or 'flipkart' in l2:\n",
    "        req_startup = 'Flipkart'\n",
    "    elif 'oyo' in l1 or 'oyo' in l2 or 'oyorooms' in l1:\n",
    "        req_startup = 'Oyo'\n",
    "    elif 'paytm' in l1 or 'paytm' in l2:\n",
    "        req_startup = 'Paytm'\n",
    "    elif 'snapdeal' in l1 or 'snapdeal' in l2:\n",
    "        req_startup = 'Snapdeal'\n",
    "    elif 'urbanclap' in l1 or 'urbanclap' in l2:\n",
    "        req_startup = 'UrbanClap'\n",
    "    elif 'jugnoo' in l1 or 'jugnoo' in l2:\n",
    "        req_startup = 'Jugnoo'\n",
    "    else:\n",
    "        req_startup = name\n",
    "    \n",
    "    invest=row['InvestorsName']\n",
    "    invest=str(invest)\n",
    "    if invest=='Undisclosed Investors' or invest=='Undisclosed investors':# IF IT HAS THE SAME NAME THEN BOTH ARE EQUAL\n",
    "        invest='Undisclosed Investors'\n",
    "    \n",
    "    invest=[i.strip() for i in str(invest).split(',')]\n",
    "    \n",
    "    for j in invest:\n",
    "        if j=='':  # IF IT IS EMPTY STRING IT WILL CONTINUE\n",
    "            continue\n",
    "        fullname=req_startup+','+j\n",
    "        \n",
    "        if fullname in right: # IF THAT COMBINATION IS ALREADY PRESENT IT WILL CONTINUE\n",
    "            continue   \n",
    "        else:  # IF NOT IT WILL BE ASSIGNED TO 1 \n",
    "            right[fullname]=1\n",
    "            \n",
    "            arr=fullname.split(',')\n",
    "            investors=arr[1] # WE WILL GET INVESTORS NAME FROM THAT\n",
    "            if investmenttype=='Private Equity':# IT IS CHECKING WHETHER THERE IT PRIVATE EQUITY\n",
    "                if investors in left: #IF IT IS PRESENT IT WILL INCREMENTED BY 1\n",
    "                    left[investors]+=1\n",
    "                else:\n",
    "                    left[investors]=1 #IT WILL BE ASSIGNED TO 1\n",
    "#print(left)  "
   ]
  },
  {
   "cell_type": "code",
   "execution_count": 244,
   "metadata": {},
   "outputs": [
    {
     "name": "stdout",
     "output_type": "stream",
     "text": [
      "{'Kae Capital': 10, 'Triton Investment Advisors': 1, 'Infuse Ventures': 6, 'JLL': 1, 'Asset Management (Asia) Ltd': 1, 'Digital Garage Inc': 1, 'Kalaari Capital': 33, 'Nexus India Capital Advisors': 1, 'International Finance Corporation': 2, 'Rocketship': 2, 'Accel Partners': 42, 'Jungle Ventures': 8, 'Shailesh Rao': 1, 'Venture Highway': 2, 'BCCL': 1, 'Mitsui & Co.': 2, 'Dunamis Ventures Pte Ltd': 1, 'SBI-FMO Fund': 1, 'Bessemer Venture Partners': 11, 'Catamaran Ventures': 2, 'Corvus Ventures': 1, 'MAPE Advisory Group': 1, 'Blacksoil Capital Pvt. Ltd': 1, 'IDG Ventures India Advisors': 1, 'One97 Communication Ltd': 1, 'ain Capital Ventures': 1, 'Renaud Laplanche': 1, 'Stellaris Venture Partners': 3, 'Tencent Holdings': 3, 'Goldman Sachs': 6, 'HBM Healthcare Investments': 1, 'Maverick Capital Ventures': 1, 'Sequoia India': 14, 'Omidyar Network and Kae Capital': 1, 'Info Edge (India) Ltd': 6, 'TVS Motor Company': 1, 'Emerging India': 1, 'blockchain ecosystem Global Advisors': 1, 'Horseferry': 1, 'Blume Ventures': 27, 'Indian Angel Network': 7, 'Kunal Shah': 3, 'Sandeep Tandon': 4, '500 Startups': 9, 'IvyCap Ventures': 7, 'Sundaram Finance Holdings': 1, 'SBI (Stand Up India Scheme)': 1, 'Norwest Venture Partners': 12, 'Unicorn India Ventures': 3, 'Venky Krishnakumar': 1, 'Suresh Shankar': 1, 'Vivek Bhargava': 1, 'Venture Catalysts': 2, 'Alfa Capital': 1, 'Green Shots Capital': 1, 'Real Time Ventures': 1, 'Transamerica': 1, 'Nexus Venture Partners': 20, 'Founders Fund': 1, 'Omidyar Network': 15, 'Fairfax Holdings': 1, 'Tekne Capital Management LLC': 1, 'NEA': 2, 'Prime Venture Partners': 4, 'Mekin Maheshwari': 1, 'Eight Roads Ventures': 7, 'Lightspeed India Partners': 4, 'Endiya Partners': 5, '3one4 Capital Advisors LLP': 1, 'Startupxseed Ventures LLP': 1, 'Paytm': 4, 'IIFL Seed Ventures': 1, 'FJ Labs': 1, 'Singularity Ventures': 2, 'GrowX': 1, 'Tracxn Labs': 2, 'Axis Capital': 2, 'Manipal Education and Medical Group (MEMG)': 1, 'SAR Group': 1, 'The Grover Trust': 1, 'UC-RNT Fund': 1, 'Matrix Partners': 11, 'alcon Edge Capital': 1, 'DSG Consumer Partners': 5, 'Sequoia Capital': 43, 'General Catalyst': 1, 'Founder Collective': 1, 'Ventureast': 3, 'India Quotient': 9, 'IFMR': 1, 'and MAS Financial Services Ltd': 1, 'Mohit Srivastav': 1, 'Kishore Ganji': 1, 'Venkat Vallabhaneni': 1, 'Rajeev Menon': 1, 'Naspers': 1, 'Seedfund': 3, 'RB International': 1, 'Snow Leopard Ventures': 1, 'Alto Partners': 1, 'Gujarat Venture Finance Ltd': 1, 'Udayan Goyal': 1, 'SAP.iO': 1, 'Unilazer Ventures': 4, 'Abhinav Bindra': 1, 'Gaurav Marya': 1, 'Zeta': 1, 'Undisclosed Investors': 8, 'Vy Capital': 3, 'SAIF Partners': 24, 'Accel Partner': 2, 'Clairvest Group': 1, 'Nandan Nilekani': 8, 'Dutch government fund': 1, 'Falcon Edge Capital': 4, 'Capital Advisers': 1, 'Asuka Holdings': 1, 'YouWeCan Ventures': 2, 'Beenext': 6, 'Beenos': 6, 'M&S Partners': 5, 'Rainbow Digital Services Pvt. Ltd': 1, 'ILearnFinance Academy Pvt. Ltd.': 1, 'Vertex Ventures': 6, 'C31 Ventures': 1, 'RNT Capital': 1, 'Gokul Rajaram': 2, 'Aditya Agarwal': 2, 'Ruchi Sanghvi & others': 1, 'Luxasia Group': 1, 'GVFL': 3, 'Times Internet': 8, 'InnoVen Capital': 3, 'DG Ventures India': 1, 'Dewan Housing Finance Corp': 1, 'Impanix Capital': 1, 'Infibeam': 2, 'CCavenue': 1, 'SAP': 1, 'Innovations East': 1, 'SoftBank Group': 4, 'Gokaldas Exports Ltd': 1, 'Fosun International': 1, 'Lightspeed Venture Partners': 9, 'Trifecta Capital': 9, 'Blue Orchard': 1, 'Carpediem Capital': 2, 'Soma Capital': 1, 'Great Oaks Ventures': 1, '122 West Ventures': 1, 'Nasper': 1, 'Accel India': 3, 'Harmony Partners': 1, 'Rohto Pharmaceutical': 1, 'Waterbridge Ventures': 1, 'Mathew Cyriac': 2, 'Florintree Advisors': 1, 'Bertelsmann India': 3, 'Matrix Partners India': 7, 'Quadria Capital Advisors': 1, 'Unicorn India Ventures & Others': 1, 'Aspada Investments': 1, 'Helion Venture Partners': 13, 'Powerhouse Ventures': 3, 'Girish Mathrubootham': 3, 'Aneesh Reddy': 1, 'Vispi Daver': 1, 'Zephyr Peacock India': 1, 'FreakOut Group': 1, 'Herb Madan': 1, 'WaterBridge Ventures': 1, 'Mahindra Partners': 1, 'F-Prime Capital Partners': 2, 'Shunwei Capital': 2, 'Orios Venture Partners': 8, 'Labruyere Eberlé': 1, 'CyberAgent Ventures': 1, 'GrowX Ventures': 1, 'IMJ Investment Partners': 1, 'Mahindra and Mahindra Financial Services': 1, 'Nandan Nilekani’s NRJN Trust': 1, 'Mistletoe': 2, 'Qualcomm Ventures': 7, 'Ivycap Ventures Advisors': 1, 'Singularity Ventures and Ravi Dhariwal': 1, 'Mayfield': 3, 'Nishant Rao': 1, 'Dileep Nath': 1, 'DHI Group Inc': 1, 'Digital Garage': 4, 'BizReach': 1, 'Contrarian Capital': 1, '91springboard': 1, 'Emergent Ventures': 1, 'Abstract Ventures': 1, 'Anthill Ventures': 1, 'Axilor Ventures': 7, 'Redcliffe Capital': 2, 'Urrshila Kerkar': 1, 'SIMI Pacific Pte': 1, 'Tolaram Inc': 1, 'Mountain Pine Capital': 1, 'Anicut Capital': 1, 'IndiaNivesh Venture Capital Fund': 1, 'Ideaspring Capital': 1, 'Exfinity Venture Partners': 6, 'SIDBI Venture Capital Ltd': 3, 'Ankit Nagori': 1, 'Ligthbox Ventures II': 1, 'Lightbox Expansion Fund': 1, 'Sequoia Capital India': 7, 'RuNet South Asia': 1, 'RB Investments': 7, 'SoftBank Vision Fund': 1, 'Sequoia Capital India Advisors': 1, 'Greenoaks Capital Partners': 1, 'WGG International': 1, 'DAH Beteiligungs GmbH': 1, 'Orios Ventures Partners': 1, 'Team Builder Ventures': 1, 'Omidyar Networks': 2, 'Agnus Capital': 3, 'Khattar Holdings': 2, 'BlackSoil Capital Pvt. Ltd': 1, 'NB Ventures': 2, 'SoftBank Group Corp': 1, 'Quona Capital': 1, 'Bennett': 3, 'Coleman and Company Ltd': 2, 'Alibaba': 2, 'CDC Group Plc': 1, 'SIDBI Venture Capital Fund': 1, 'Star India Pvt Ltd': 1, 'IDFC Parampara Early Stage Opportunities Fund': 1, 'IDG Ventures India': 12, 'Michael & Susan Dell Foundation': 3, 'Draper Associates': 1, 'Unitus Seed Fund': 9, 'Private Sector Banks (Debt Funding)': 1, 'SEGNEL Ventures': 1, 'Times Internet Ltd': 3, 'Cyber Carrier': 1, 'Florintree': 1, 'Chidambaram Palaniappan': 1, 'Bharat Sheth': 1, 'IDG Ventures': 16, 'Saha Fund': 3, 'GREE Ventures': 2, 'Kalaari Capital and IDG Ventures India': 1, 'Summit Media': 1, 'Atul Goel': 1, 'and Gurpreet Singh': 1, 'Microsoft': 1, 'eBay': 1, 'Rakesh and Rajesh Jhunjhunwala': 1, 'L’Occitane': 1, 'Kinzon Capital': 1, 'FTV Capital': 1, 'Zodius Capital': 5, 'Carlyle Group': 1, 'Tiger Global': 21, '3one4 capital': 1, 'Brand Capital': 10, 'Verlinvest': 1, 'Mayfield India': 5, '3one4 Capital': 2, 'Sistema Asia Fund': 3, 'Neoplux Technology Fund': 1, 'JSW Ventures': 3, 'VenturEast': 1, 'Samridhi Fund': 1, 'Intex Technologies': 1, 'B Capital Group': 1, 'Ignition Partners': 1, 'Greycroft': 1, 'e.ventures': 2, 'IFMR Capital Finance': 1, 'pi Ventures': 2, 'Temasek Holdings': 1, 'Amereus Group': 1, 'Helion Ventures': 6, 'Al Dhaheri family': 1, 'VH Capital': 1, 'Axilor Partners': 1, 'Lumis Partners': 3, 'Anil Jain & other HNIs': 1, 'Kleiner Perkins': 1, 'Pine Brook': 1, 'PayU': 2, 'Ribbit Capital': 2, 'Kalaari Capital Partners': 1, 'Qualcomm': 2, '3ONE4 Capital Advisors': 1, 'UC-RNT': 1, 'Steadview Capital': 4, 'BookMyShow': 1, 'Coleman and Co. Ltd (BCCL)': 1, 'Softbank Ventures Korea': 1, 'IMM Investment': 1, 'Indian Angel Network (IAN)': 2, 'BEENEXT': 5, 'The Chennai Angels': 2, 'Sunil Munjal': 2, 'Paragon Trust': 1, 'Sands Capital': 1, 'IFC': 2, 'Flipkart': 7, 'Sanjiv Rangrass': 1, 'DanGold Investment Corp': 1, 'Marico Innovation Foundation (MIF)': 1, 'Villgro': 1, 'India Nivesh Growth Fund': 1, 'Sixth Sense': 1, 'TCI Ventures': 1, 'Jasper Infotech Pvt Ltd': 1, 'Alibaba Pictures': 1, 'BlackSoil Capital Pvt Ltd': 1, 'Vedanta Capital': 1, 'William Campbell': 1, 'Toos N Daruvala': 1, 'Ronnie Screwvala': 1, 'Lohia Group': 1, 'Andre Hoffman': 1, 'Deutsche Telekom Strategic Investments & Others': 1, 'Parampara Early Stage Opportunities Fund & Others': 1, 'Innoven Capital': 4, 'Menterra Social Impact Fund': 1, 'Tencent': 1, 'ru-Net': 4, 'RSI Fund': 1, 'Thrive Capital': 1, 'SD Group': 1, 'Jungle Venture Partners': 1, 'CapitalG': 1, 'Indochine International': 1, 'Iron Pillar and IIFL': 1, 'GMO Japan': 1, 'Neelesh Bhatnagar': 1, 'East Ventures & Others': 1, 'Senovo': 1, 'Unternehmertum Venture Capital': 1, 'Alexander Bruehl': 1, 'ABM Knowledgeware': 1, 'SQue Capital': 1, 'Grace Capital Ventures': 1, 'Soham Vencaps': 1, 'American Express Ventures': 2, 'Cyber Carrier VC': 1, 'AdvantEdge Partners': 3, 'Songhyun Investment': 1, 'Franchise India': 2, 'Lakshmi Vilas Bank & undisclosed HNIs': 1, 'Edelweiss Private Equity': 3, 'Max Ventures and Industries': 1, 'Verlinvest SA': 1, 'RoundGlass Partners': 9, 'Zodius Technology Opportunities Fund': 2, 'WRV Capital and IndusAge Partners': 1, 'Infosys Innovation Fund': 1, 'Emerald Media': 2, 'Premji Invest': 1, 'North Base Media': 1, 'Aarin Capital': 3, 'Epsilon Venture Partners': 1, 'KTB Network': 1, 'Cyber Carrier CL': 1, 'International Financial Corporation': 1, 'HCS Venture capital fund': 1, 'Ivy League Alumni Angel Network': 1, 'Incubate Fund': 1, 'Lead Angels Group & Others': 1, 'Kaleden Holdings': 1, 'Gati Ltd': 1, 'Aavishkaar Venture Management': 1, 'Warburg Pincus': 4, 'Justin Kan': 1, 'Qasar Younis': 1, 'Paul Bucche': 1, 'Susa Ventures': 1, 'Kima Ventures': 1, 'Axan Venture': 1, 'SCM Holdings': 1, 'ADAG Reliance Private Equity': 1, 'YourNest Angel Fund': 8, 'iSON': 1, 'Gleevoaz Ventures': 1, 'Arun Seth': 1, 'T.V. Mohandas Pai': 1, 'Anand Chandrasekaran': 2, 'Deepak Ghaisas': 1, 'RTP-HC': 1, 'Wonder Ventures': 1, 'Techstars Ventures & Others': 1, 'Times of India Group & Existing investors': 1, 'Softbank Group': 1, 'Delta Partners': 1, 'Blacksoil': 1, 'Lightspeed Venture Partners India': 1, 'Lightspeed US': 1, 'Barkawi Holdings GmbH': 1, 'TM Service Technology Holdings Gmbh': 1, 'Sreevathsa Prabhakar': 1, 'Reliance Entertainment': 1, 'Manish Maheshwari': 1, 'Contrarian Vriddhi Fund': 1, 'Silver Range Investments': 1, 'Lumina Datamatics': 1, 'Shun Yoshida & Others': 1, 'Recruit Holdings': 1, 'Mahindra Holidays & Resorts India Ltd': 1, 'Ratan Tata': 20, 'Naveen Arya': 1, 'Tarun Joshi': 1, 'SeedPlus': 2, 'Xchange Investors NV': 1, 'TransGlobal FZC': 1, '3One4 Capital': 1, 'Russian venture capital fund Ru-Net': 1, 'Mumbai Angels': 8, 'White Unicorn Ventures': 1, 'Healthsquad': 1, 'Kiran Mazumdar-Shaw': 1, 'BeeNext': 2, 'HDFC': 1, 'Faering Capital': 2, 'Elevate Sports': 1, 'Sanjay Nayar': 1, 'Vikram Sud': 1, 'Anil Jaggia': 1, 'Narayan Seshadri': 1, 'FAO Ventures': 1, 'Tushar Singh': 1, 'Ranjan Sharma': 1, 'Gray Matters Capital': 3, 'ByteDance': 1, 'Arun Sarin': 1, 'Falcon Edge': 1, 'Bravia Capital': 1, 'General Catalyst Partners': 1, 'Lightbox Ventures': 5, 'Axis Capital & Others': 1, 'Saama Capital': 4, 'Raghunandan G': 1, 'Aprameya Radhakrishna': 1, 'Next Orbit Ventures Fund': 1, 'Blume ventures': 1, 'IIFL Seed Ventures Fund': 1, 'Mayfield Ventures': 4, 'hooting Starts Sports LLP': 1, 'Franchise India Brands': 1, '1Crowd': 1, 'Eureka Forbes Ltd': 1, 'Shapoorji Pallonji & Co. Ltd.': 1, 'Omnivore Partners': 2, 'Hero MotoCorp': 1, 'Michael Herzig': 1, 'Ashish Lakhanpal': 1, 'Exfinity Ventures': 3, 'growX ventures': 2, 'Grasshoppers': 1, 'Infina Finance Pvt. Ltd': 1, 'Uday Kotak': 1, 'PremjiInvest': 2, 'Venturra Capital': 1, 'Susquehanna International Group.\\xa0 Wavemaker Partners': 1, 'InnoVen Capital India': 1, 'Chan Zuckerberg Initiative': 1, 'Sofina': 3, 'Lightspeed Ventures': 3, 'Fork Media': 1, 'Mariwala family': 1, 'BlackSoil Capital Pvt. Ltd.': 1, 'Scadea Solutions Inc': 1, 'Lightbox Ventures and others': 1, 'Goldman Sachs Group': 1, 'Zodius Technology Fund': 4, 'Akusa Holdings': 1, 'Currae Healthtech Fund': 1, 'Cisco Ventures': 1, 'Procam International Pvt. Ltd': 1, 'Flipkart Logistics Pvt. Ltd': 1, 'EDBI': 1, 'Blue Cloud Ventures': 1, 'Hercules Capital': 1, 'ah! Ventures': 2, 'Digital Currency Group': 1, 'Boost VC': 1, 'Bank to the Future and Funders Club': 1, 'Bhavin Turakhia': 1, 'Syska LED group': 1, 'The HR Fund': 1, 'Rajul Garg': 1, 'Quintillion Media': 1, 'Inventus Capital Partners': 3, 'Blume Ventures & Others': 1, 'Geniee': 1, 'Inc': 1, 'Purvi Capital': 1, 'Gujarat Venture Finance Limited (GVFL)': 1, 'Bennett Coleman & Co. Ltd': 1, 'ThirtyThree Investments': 1, 'Soumitra Sharma': 1, 'Deepak Sharma': 1, 'Sumit Dayal and others': 1, 'Mukul Singhal': 1, 'Rohit Jain': 1, 'Himanshu Aggrawal': 1, 'Sunil Goyal Ashish Gupta': 1, 'Westbridge Capital Partners': 1, 'Foxconn Technology Group': 1, 'Bharti Enterprises': 1, 'Infocomm Investments': 1, 'Accel Partners RNT Associates': 1, 'Speridian Technologies': 1, 'Rainmatter': 1, 'Aspire Systems': 1, 'Torrent Group': 1, 'Exfinity Venture Partners & Others': 1, 'Sachin Bansal': 2, 'Vijay Shekhar Sharma': 4, 'Binny Bansal': 2, 'Ashish Tulsian': 1, 'Michael and Susan Dell Foundation': 2, 'CureFit': 1, 'Ford Smart Mobility Llc': 1, 'Net1 UEPS Technologies Inc': 1, 'Dr. Abhishek Pandey': 1, 'Jaysukh Sapra': 1, 'Hitouch AG': 1, 'Undisclosed HNI investors': 1, 'MediaTek Inc.': 1, 'Sophia Investment ApS': 1, 'Ambit Pragma': 1, 'MasterCard': 1, 'SD Ventures': 1, 'Vistaar Investment Advisors Pvt. Ltd.': 1, 'Aramex Ventures Llc': 1, 'IIFL Wealth Management Seed Venture Fund': 1, 'Khosla Impact': 2, 'Aspada': 2, 'YourNest Angel Fund\\xa0 & Others': 1, 'Stripes Group': 1, 'Network 18': 1, 'AVG Group': 1, 'Blume Ventures & IvyCap Ventures': 1, 'Brian Acton': 1, 'Sattva Capital': 1, 'Venture Works': 1, 'Rainmaker Ventures': 2, 'Plug and Play Tech Center': 1, 'Steelhead Ventures & Others': 1, 'undisclosed investors': 1, 'IIFL and Accel Partners': 1, 'Intelli Reboot Digital Pvt. Ltd': 1, 'Star India Pvt. Ltd': 1, 'Franklin Templeton International Services Pvt. Ltd': 1, 'Nihon Kotsu Co': 1, 'Lightbox': 1, 'Parampara Capital': 2, 'Romulus Capital': 1, 'Yeahmobi': 1, 'Fenqile': 1, 'Microsoft Ventures': 1, 'Salesforce Ventures': 1, 'Axiata Digital': 1, 'CIO Angel Network': 1, 'TVS Automobile Solutions Ltd': 3, 'undisclosed investor': 1, 'Valpro Capital and existing investors': 1, 'You & Mr Jones': 1, 'Fortisure Ventures': 1, 'Diaz Nesamoney': 1, 'Accel Partners India': 3, 'IvyCap Ventures and Unicorn India Ventures': 1, 'Guy Oseary': 1, 'Ravi Adusumalli': 1, 'New Enterprise Associates (NEA)': 2, 'Concur Technologies': 1, 'Gund Investment': 1, 'IndiaMart': 1, 'RB Investments PTE Ltd': 1, 'Saif Partners': 1, 'Rise India': 1, 'GVFL Ltd': 1, 'Bertelsmann India Investments': 3, 'vCommission': 1, 'Uniqorn Ventures Fund': 1, 'TV Mohandas Pai': 4, 'S Somasegar': 1, 'Accel Partners & existing investors': 1, 'Carpediem Capital & Others': 1, 'GMO Payment Gateway': 1, 'MediaTek': 1, 'International Finance Corp': 1, 'TPG Growth': 1, 'Adveq Management': 1, 'Kris Gopalakrishnan': 2, 'Helion Venture': 1, 'VentureEast': 2, 'India Alternatives': 1, 'Inventus Capital': 5, 'MoMagic Technologies': 1, 'Rajesh Ranavat': 1, 'NanoHoldings': 1, 'DST Global': 2, 'JM Financial Products Ltd': 1, 'Arun Tadanki': 1, 'Doreswamy Nandkishore': 1, 'Kshitij Jain': 1, 'Khazanah Nasional Berhad': 3, 'Creation Investments Capital Management': 1, 'Aspada Ventures': 1, 'GROUPE SOS': 1, 'Nexus Ventures': 1, 'Undisclosed Investors & Tamarind Family Private Trust': 1, 'S Chand': 1, 'Kinnevik Group': 1, 'Rocket Internet': 3, 'Rata Tata': 1, 'Undisclosed investors': 1, 'Kaizen Management Advisors': 1, 'DeVry Inc': 1, 'FF Angel': 1, 'India Innovation Fund India Venture Partners': 1, 'HT Media Ltd': 1, 'NSI Infinium Global Pvt. Ltd': 1, 'Nelstone Ventures': 1, 'Transmedia Capital': 1, 'Maiden Lane Ventures': 1, 'CSC Upshot & Angel investors': 1, 'Vineet Singh': 1, 'Xiaomi Inc': 1, 'TM Service Technology Holdings GmbH': 1, 'DTDC Express Ltd': 1, 'Nazara Technologies Pvt Ltd': 1, 'Softbank': 4, 'Greenoaks Capital': 1, 'DSG Consumer Partners and Venture Nursery': 1, 'Naturals Salon Chain': 1, 'Pawan Munjal': 1, 'Astarc Ventures': 2, 'Paytm & existing investors': 1, 'Stanford Angels': 1, 'LetsVenture': 1, 'Chennai Angels': 1, 'Hyderabad Angels': 2, 'Man Capital': 1, 'India Educational Investment Fund': 1, 'GirnarSoft': 1, 'Mayfield India II Management Ltd': 1, 'HR Fund': 1, 'NTT Finance': 1, 'Telephone Corporation': 1, 'IDFC SPICE Fund': 1, 'Micromax Informatics': 4, 'Max Levchin': 1, 'Scott Banister': 1, 'Rebright Partners': 2, 'Anand Rajaraman': 3, 'Venky Harinarayan': 2, 'S Chand & Co': 1, 'Lip-Bu Tan': 1, 'Michael Marks': 1, 'Nicolas Braithwaite': 1, 'Blinc Advisors': 1, 'Amit Nanavati': 1, 'Tashwinder Singh': 1, 'Taranjit Jaswal': 1, 'Amit Khanna': 1, 'Matt Glickman': 1, 'Artiman Ventures': 1, 'Zop Smart': 1, 'Undisclosed Japanese investor': 1, 'Nirvana Digital India Fund': 1, 'Nirvana Digital Investment Holding Co Ltd': 1, '500 Start-Ups': 1, 'Amadeus Capital': 1, 'Greycroft Partners': 1, 'Fidelity Growth Partners India': 2, 'Agarwal Movers Group': 1, 'S Chand and Co Pvt Ltd': 1, 'Sashi Reddi & Other unnamed investors': 1, 'Google Capital': 3, 'CASHurDRIVE Marketing Pvt Ltd': 1, 'Abraaj Group': 1, 'Sachin Tendulkar': 1, 'BitChemy Ventures': 1, 'Maheshwari Investments Pvt Ltd': 1, 'Anshoo Gaur': 1, 'Rama Krishna Reddy': 1, 'Sandeep Seerapu': 1, 'Broadbean Capital services': 1, 'Sarva Capital': 1, 'SoftBank Ventures Korea': 1, 'Wipro Ventures': 1, 'Sherpa Capital': 1, 'Nyca Partners and Thomvest Ventures': 1, 'Vandana Luthra': 1, 'Zia Mody': 1, 'Ananda Kallugadde': 1, 'Rakesh Desai': 1, 'Rakesh Malhotra': 1, 'Sixth Sense Ventures': 2, 'Valiant Capital': 4, 'Edelweiss Financial Services': 1, 'Aspada Advisors': 1, 'Ontario Teachers’ Pension Plan & Others': 1, 'Saumya Tandon': 1, 'Siddhivinayak Skyscrapers': 1, 'Dinesh R. Challa': 1, 'K Ganesh': 2, 'Mohandas Pai': 2, 'Neeraj Arora': 2, 'Aneesh Reddy & Teruhide Sato': 1, 'Aavishkaar': 2, 'Lightspeed India': 3, 'Vikram Lal': 1, 'Abhijit Bhandari': 1, 'Mahesh Murthy': 1, 'Shashank Bhagat': 1, 'Rocket Internet AG': 1, 'Holtzbrink Ventures': 1, 'Deutsche Telekom Strategic Investments (DTSI)': 1, 'Silicon Valley Bank': 2, 'Qualgro': 2, 'Mamoru Taniya': 1, 'Ashish Hemrajani': 1, 'Parikshit Dar': 1, 'Rajesh Balpande': 1, 'Insitor Impact Asia Fund': 1, 'Acumen Fund': 2, 'Eduardo Saverin': 1, 'MeritTrac': 1, 'Kunal Bahl': 2, 'Rohit Bansal': 2, 'Deepinder Goyal': 1, 'Ashish Dhawan': 1, 'Mayank Singhal': 1, 'Tata Capital Innovation Fund': 1, 'Arjun Handa': 1, 'Amit Jindal': 1, 'Nagendra Chaudhary': 1, 'SIDBI Venture Capital Limited': 1, 'Ctrip.com International Ltd': 1, 'Nahata Family': 1, 'Waheed Alli': 1, 'GIC': 2, 'Tiger Global Management': 14, 'Matt Mullenweg': 1, 'Adam D’Angelo': 1, 'Ruchi Sanghvi & Others': 1, 'Vallabh Bhanshali': 1, 'N Squared Management LLC': 1, 'Jagdish & Sandeep Mehta Family Office': 1, 'March Capital': 1, 'Cipher-Plexus Capital Advisors & Indian HNIs': 1, 'Nirvana Digital Investment Holding': 1, 'RB Investments & existing investors': 1, 'Unilazer Fund': 1, 'Phanindra Sama': 3, 'Peyush Bansal': 1, 'Lemelson Foundation': 1, 'Alpha Capital': 1, 'Undisclosed US Based Investors': 1, 'SoftBank Corp': 1, 'Beenext Ventures': 1, 'Taurus Value Creation': 1, 'Konly Venture': 1, 'APIS Partners': 1, 'Institutional Venture Partners': 1, 'CRV': 1, 'Kalaari Capital and Inventus Capital': 1, 'GPA group': 1, 'Puneet Dalmia': 2, 'Tekton Ventures': 1, 'Frontline Strategy': 1, 'The Saha Fund': 1, 'Times Internet Ltd & One more Fund': 1, 'CerraCap': 1, 'Steven Lurie': 1, 'Manipal Global Education Services': 1, 'Accion': 2, 'Yuri Milner': 2, 'Apoletto': 2, 'Bren Corporation': 1, 'CLSA Capital Partners ARIA IV Funds': 1, 'Mitesh Majithia': 1, 'Uniqorn Ventures and other': 1, 'Anand Mahindra': 1, 'Infosys': 1, 'Amazon': 2, 'Ru-Net Technology Partners': 1, 'Unilazer': 1, 'SAIF Partners and others': 1, 'Ritesh Dwivedy': 1, 'Ramakant Sharma': 1, 'Mount Nathan Advisors': 1, 'TCS': 1, 'Palred Technologies Ltd': 1, 'Venture Nursery': 1, 'Rishi Parti': 1, 'BrahmaX Ventures': 1, 'Medi Assist': 1, 'Vectr Ventures': 1, 'Unitus Impact Livelihoods Fund': 1, 'Tree Line Asia': 1, 'Times Group Brand Capital': 1, 'Segnel Venture': 1, 'Shinji Kimura': 1, 'Sundar Chanrai': 1, 'JAFCO Asia': 2, 'SingTel’s Innov8': 1, 'Constellation Technology Ventures (Exelon Corporation)': 1, 'E.ON': 1, 'RWE': 1, 'Khosla Ventures': 1, 'SAIF Partners & others': 1, 'Undisclosed HNIs': 1, 'Singapore Angel Network': 1, 'Ness Wadia': 1, 'Chandralekha Construction Pvt. Ltd.': 1, 'Info Edge': 1, 'BEENEXT Ventures': 1, 'Kunal Shah & Sandeep Tandon': 1, 'Haresh Chawla': 1, 'Lensbridge Capital': 1, 'Mape Advisory Group': 1, 'Fireside Ventures': 1, 'Global Founders Capital': 2, 'Baillie Gifford': 1, 'Didi Kuaidi': 1, 'Bessemer Venture Partner': 1, 'Accel': 1, 'New Enterprise Associates': 4, 'Hampton Capital': 1, 'Bijou Kurien': 1, 'Narayan Ramachandran': 1, 'Canaan Partners': 1, 'IFC Everstone Group': 1, 'Earlsfield Capital': 1, 'Cheetah Mobile': 1, 'Apoletto Managers': 1, 'M & S partners': 1, 'Powerhouse Ventures (USA).': 1, 'Anil Chopra': 1, 'nan': 1, 'FIH Mobile Ltd': 1, 'Delhivery': 3, 'Foxconn': 2, 'Paytm (One97 communications)': 2, 'Harsh Mariwala': 1, 'Atul Nishar': 1, 'Dalip Pathak': 1, 'Michael Carlos': 1, 'Peepul Capital': 2, 'DSG consumer Partners': 1, 'Paragon Partners': 1, 'Gaja Capital Private Equity Fund': 1, 'Unnamed Media house and HNIs': 1, 'High Networth Individuals from India & USA': 1, 'Snapdeal': 1, 'Mato Peric': 1, 'Peter Kabel & others': 1, 'Sanjeev Kapoor': 1, 'Ravi Saxena & Others': 1, 'Life.SREDA': 1, 'Sequoia and Kalaari Capital.': 1, 'SF Capital Group': 1, 'Quikr': 1, 'Aarin Capital Partners': 2, 'IDG Ventures & Advantedge fund': 1, 'Leon Seynave': 1, 'Biz Stone': 1, 'European investment fund': 1, 'Micromax Informatics Ltd': 1, 'Anupam Mittal & other marquee investors': 1, 'Ascent Capital': 2, 'eContext Asia': 1, 'Beenos Asia': 1, 'Sands Capital and Accel Partners': 1, 'Qualcomm Venture': 1, 'Springboard Ventures': 1, 'Arihant Patni': 1, 'RAAY Global Investments': 1, 'Mayank Bhangdia': 1, 'OrbiMed': 1, 'Pradip Dadha Group': 1, 'Ventureworks India': 2, 'Jupiter Capital': 1, 'Group of HNI investors': 1, 'Reliance Capital': 1, 'WestBridge Capital': 1, 'Elevar Equity': 2, 'Lok Capital': 2, 'Temasek': 2, 'Tandem Capital': 1, 'Vikram Chachra': 1, 'Aloke Bajpai': 1, 'Beenextan investment fund': 1, 'Eight Road Ventures': 1, 'Ash Bhardwaj': 1, 'NY based Hedge Fund': 1, 'Cataraman Ventures': 1, 'Subrata Mitra': 1, 'Larry Braitman': 1, 'Venk Krishna': 1, 'International Finance Corporation (IFC)': 1, 'Swarnim Multiventures': 1, 'William Bissell': 1, 'Neeraj Aggarwal': 1, 'Anupam Mittal': 2, 'Vishal Gondal': 1, 'Sateesh Andara & others': 1, 'Raghav Bahl': 1, 'Alibaba Group': 1, 'Ant Financial': 1, 'Tennenbaum Capital Partners & Others': 1, 'SAIF Partners.': 2, 'Knoll Ventures and others': 1, 'Zishaan Hayath': 1, 'Altimeter Capital': 1, 'Sequoia Capital Global Equities': 1, 'Horizons Ventures': 1, 'Capricorn Investment Group': 2, 'Social+Capital': 1, 'Helion Advisors': 1, 'Berggruen Holdings': 1, 'Inflexionpoint': 1, 'Pramod Bhasin': 1, 'Vindi Banga': 1, 'Hiro Mashita': 1, 'Wealth First': 1, 'Ashneer Grover': 1, 'Atul Phadnis': 1, 'responsAbility Investments': 1, 'Nihon Kotsu': 1, 'Reliance Capital Venture': 1, 'Jungle Ventures & Bessemer Venture Partners': 1, 'ChrysCapital': 1, 'Deep Kalra': 2, 'Rajesh Magow': 1, 'Mohit Gupta': 1, 'Shamik Sharma': 1, 'LeapFrog Investments': 1, 'Existing & New Investors': 1, 'One97 Communications': 1, 'Blume Ventures & others': 1, 'AskMe': 1, 'GrowX ventures': 1, 'Powai Lake Ventures': 1, 'and Sahil Barua': 1, 'Draper Fisher Jurvetson': 1, 'Ibibo Group': 1, 'Aspada Investment Advisors': 1, 'Nikhil Vora & others': 1, 'Axon Partners': 1, 'Intel Capital': 1, 'Fidelity Growth Partners': 4, 'Mousse Partners': 2, 'Hillhouse Capital': 2, 'Mangroves Capital Partners': 1, 'Vikas Saxena': 1, 'DMG information Asia Pacific': 1, 'Siddharth Parekh': 1, 'Liberty Media': 1, 'Quilvest': 1, 'Sunrise Capital GmBH': 1, 'Big Data Investments B.V': 1, 'Amarpreet Sawhney': 1, 'Deshpande Foundation': 1, 'Fred Khosravi': 1, 'Richard S. Braddock': 1, 'Ashvin Chadha': 1, 'Shailesh Mehta': 1, 'Empire Angels': 1, 'NGP': 1, 'Dragoneer Investment Group': 1, 'IndianIdeas.com': 1, 'Forum Synergies PE Fund': 1, 'HR Technology fund': 1, 'Snow Leopard Technology Ventures': 1, 'Orios Venture Partners.': 1, 'New India Investment Corporation': 1, 'Vriddhi Fund': 1, 'Others': 1, 'India Value Fund Advisors': 1, 'Meru Capital': 1, 'Ola': 1, 'Axis Bank': 1, 'MakeMyTrip': 3, 'AB Kinnevik': 1, 'Coatue Management': 1, 'Bertelsmann India Investments Norwest Venture Partners.': 1, 'Steadview Capital and existing investors': 1, 'Sherpalo Ventures': 1, 'Tiger Global Management & others': 1, 'Abhishek Gupta': 1, 'LionRock Capital': 1, 'B S Nagesh': 1, 'Jai Choi': 1, 'Kiyohiro Sugashita': 1, 'Hirokazu': 1, 'Oliphabs Capital': 1, 'Saama Capital.': 1, 'InfoEdge': 1, 'Batlivala & Karani Securities': 1, 'Nikunj Jhaveri': 1, 'Carrick Capital Partners': 1, 'Ennovent Impact Investment Holding': 1, 'DMG Information': 1, 'Nirvana Ventures Advisors': 1, 'Morgan Stanley': 1, 'Fidelity Biosciences': 1, 'Snow Leopard': 1, 'Future Fund': 1, 'Bessemer Venture': 1, 'Capricorn Investment and IFC': 1, 'Low Carbon Enterprise Fund': 1, 'LGT Group': 1, 'Asian Healthcare fund': 1, 'Neoteric Infomatique Limited': 1, 'ASK Pravi': 1, 'Gopal Srinivasan': 1, 'Sashi Reddy': 1, 'Amit Gupta': 1, 'Pallav Nadhani': 1, 'Foundation Capital': 1, 'Bunny Bansal & other investors': 1, 'Raju Reddy': 1, 'Holostik Group': 1, 'Manish Kheterpal': 1, 'Amit Patni': 1, 'Nokia Growth Partners': 1, 'Avalon Ventures': 1, 'Development finance institution Belgian Investment Company': 1, 'Oikocredit': 1, 'Accion Venture Lab': 1, 'Omidiyar Network': 1, 'Blume Ventures and Ujama': 1, 'Commonfloor': 1, 'Sameer Koticha': 1, 'Multiples Alternate Asset Management': 1, 'Arun Chandra Mohan': 1, 'Praveen Sinha': 1, 'KJS Group': 1, 'MakeMyTrip Innovation Fund': 1, 'SAIF partners': 1, 'Sunergy Investors': 1, 'HDFC Bank': 1, 'Nirvana Venture Advisors': 1, 'Investment AB Kinnevik': 1, 'Silicon Valley Ventures': 1, 'NEA Ventures': 1, 'Cisco Investments': 1, 'American Express': 1, 'Accel Partners & Others': 1, 'TR Capital': 2, 'Info Edge (India)': 1, 'Dragoneer Investment': 2, 'Intel Capital & Kae Capital': 1, 'Google Capital & Accel Partners': 1, 'GIC ventures': 1, 'The Phoenix Fund': 1, 'Undisclosed Investor': 1, 'Pearson Learning Fund': 1, 'Nexus venture Partners': 1, 'GFC': 1, 'Accel US': 1, 'Infuse Ventures fund': 1, 'SEEK Ltd & affiliates': 1, 'Mitsui & Co & existing investors': 1, 'Maverick Capital': 1, 'Madhukar Gangadi': 1, 'Satish Reddy': 1, 'Srini Raju': 1, 'Srini Koppolu & SIDBI': 1, 'Rajan Anandan & other angel investors': 1, 'Shrem Strategies': 1, 'Sequoia Capital.': 1, 'Rocket Internet AG & others': 1, 'Varaprasad Reddy': 1, 'Value Fund Advisors': 1, 'Wipro': 1, 'Outbox Ventures': 1, 'Armat Group': 1, 'RVCF and SIDBI': 1, 'LightBox Ventures': 1, 'Keystone Group': 1, 'Accion Venture Labs': 1, 'Rianta Capital': 1, 'Greenoaks capital': 1, 'LightSpeed Ventures': 1, 'Indian Quotient': 1, 'Rajiv Mody': 1, 'Ajai Chowdhary': 1, 'Tano Capital': 1, 'TA Associates': 2, 'Trinity Ventures': 1, 'InterWest Partners': 1, 'Mohr Davidow Ventures': 1, 'Presidio Ventures': 1, 'Ru-Net': 1, 'Orios Venture Partner': 1, 'Valiant Capital Partners': 1, 'Ant Financial Services (Alipay)': 1, 'Tybourne Capital': 2, 'RuNet and Sofina': 1, 'Sequoia Capital India and Omidyar Network': 1, 'Chip Perry': 1, 'Mangrove Capital Partners': 1, 'Ashok Goel (promoter)': 1, 'Sachin and Binny Bansal': 1, 'Brick Eagle': 1, 'Ranjan Pai': 1, 'Mohandas Pai & others': 1, 'InterGlobe Technology Quotient': 1, 'Lantern Capital': 1, 'Undisclosed': 1, 'Fulcrum Ventures': 1, 'TO THE NEW Ventures': 1, 'SRI Capital': 1, 'Redbright Partners': 1, 'JS Capital': 1, 'GWB Group': 1, 'Tiger Global & Other investors': 1, 'Eduardo Saverin & Velos Capital': 1, 'Premji Invest & Mayfield Fund': 1, 'ANALEC': 1, 'Kaizen Private Equity': 1, 'People Group (Shaadi.com)': 1, 'Asia Pacific Internet Group': 1, 'KARSEMVEN Fund': 1, 'Exfinity Fund': 1, 'GrowX Ventures.': 1}\n"
     ]
    }
   ],
   "source": [
    "print(left)"
   ]
  },
  {
   "cell_type": "code",
   "execution_count": 245,
   "metadata": {},
   "outputs": [
    {
     "name": "stdout",
     "output_type": "stream",
     "text": [
      "[43, 42, 33, 27, 24, 21]\n"
     ]
    }
   ],
   "source": [
    "\n",
    "cvalues=[]\n",
    "for value in left.values():\n",
    "    cvalues.append(value)\n",
    "cvalues.sort(reverse=True)\n",
    "#print(cvalues[0:5])\n",
    "\n",
    "newvalues=cvalues[0:6]\n",
    "newset=set(newvalues)\n",
    "#print(newset)\n",
    "newvalues=list(newset)\n",
    "newvalues.sort(reverse=True)\n",
    "print(newvalues)"
   ]
  },
  {
   "cell_type": "code",
   "execution_count": 246,
   "metadata": {},
   "outputs": [
    {
     "name": "stdout",
     "output_type": "stream",
     "text": [
      "Sequoia Capital 43\n",
      "Accel Partners 42\n",
      "Kalaari Capital 33\n",
      "Blume Ventures 27\n",
      "SAIF Partners 24\n",
      "Tiger Global 21\n"
     ]
    }
   ],
   "source": [
    "cnumber=[]\n",
    "cinvestors=[]\n",
    "for value in newvalues:\n",
    "    for key in left:\n",
    "        if left[key]==value:\n",
    "            print(key,left[key])\n",
    "            cnumber.append(left[key])\n",
    "            cinvestors.append(key)"
   ]
  },
  {
   "cell_type": "code",
   "execution_count": 247,
   "metadata": {},
   "outputs": [
    {
     "name": "stdout",
     "output_type": "stream",
     "text": [
      "[43, 42, 33, 27, 24, 21]\n",
      "['Sequoia Capital', 'Accel Partners', 'Kalaari Capital', 'Blume Ventures', 'SAIF Partners', 'Tiger Global']\n"
     ]
    }
   ],
   "source": [
    "print(cnumber)\n",
    "print(cinvestors)"
   ]
  },
  {
   "cell_type": "code",
   "execution_count": 248,
   "metadata": {},
   "outputs": [
    {
     "data": {
      "image/png": "[encoded data removed]",
      "text/plain": [
       "<Figure size 432x288 with 1 Axes>"
      ]
     },
     "metadata": {},
     "output_type": "display_data"
    }
   ],
   "source": [
    "plt.pie(cnumber,labels=cinvestors,autopct=\"%.2f%%\",rotatelabels=False)\n",
    "plt.title('INVESTORS')\n",
    "plt.show()"
   ]
  },
  {
   "cell_type": "markdown",
   "metadata": {},
   "source": [
    "ANSWER\n",
    "As friend's start-up is in growing phase, For private Equity we can consider Sequoia Capital because they are investing higher \n",
    "on this [private equity] or we can choose any one from the above figure.By explaining the idea if they are satisfied....Then private equity will be one of thier area.[In Friend's startup]"
   ]
  },
  {
   "cell_type": "code",
   "execution_count": 249,
   "metadata": {},
   "outputs": [],
   "source": [
    "# THANK YOU"
   ]
  }
 ],
 "metadata": {
  "kernelspec": {
   "display_name": "Python 3",
   "language": "python",
   "name": "python3"
  },
  "language_info": {
   "codemirror_mode": {
    "name": "ipython",
    "version": 3
   },
   "file_extension": ".py",
   "mimetype": "text/x-python",
   "name": "python",
   "nbconvert_exporter": "python",
   "pygments_lexer": "ipython3",
   "version": "3.7.4"
  }
 },
 "nbformat": 4,
 "nbformat_minor": 2
}
